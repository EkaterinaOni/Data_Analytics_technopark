{
  "nbformat": 4,
  "nbformat_minor": 0,
  "metadata": {
    "colab": {
      "name": "Proect Tehno.ipynb",
      "provenance": [],
      "collapsed_sections": [
        "_XMJ6bj6dlSX",
        "qmoBmHm73Lg-",
        "SZOiv5SOtEfx",
        "0ze3Fd5RDO6N",
        "4j9O1yP6En9O",
        "XmAOI4Ju2Khr",
        "UceaH7NfCF6J"
      ]
    },
    "kernelspec": {
      "name": "python3",
      "display_name": "Python 3"
    },
    "language_info": {
      "name": "python"
    }
  },
  "cells": [
    {
      "cell_type": "markdown",
      "metadata": {
        "id": "rSjQU4XQDwq2"
      },
      "source": [
        "#Начальные настройки и загрузка БД"
      ]
    },
    {
      "cell_type": "code",
      "metadata": {
        "colab": {
          "base_uri": "https://localhost:8080/"
        },
        "id": "rQ6gA0LJoN3n",
        "outputId": "639c824f-8d19-4f62-feb3-2baee560cc96"
      },
      "source": [
        "!pip install h3"
      ],
      "execution_count": 1,
      "outputs": [
        {
          "output_type": "stream",
          "text": [
            "Collecting h3\n",
            "\u001b[?25l  Downloading https://files.pythonhosted.org/packages/4b/0b/ccfc2691bc9585a479583052477eeff942ea7b3886b71a8568e69b627190/h3-3.7.2-cp37-cp37m-manylinux2010_x86_64.whl (793kB)\n",
            "\u001b[K     |████████████████████████████████| 798kB 5.2MB/s \n",
            "\u001b[?25hInstalling collected packages: h3\n",
            "Successfully installed h3-3.7.2\n"
          ],
          "name": "stdout"
        }
      ]
    },
    {
      "cell_type": "code",
      "metadata": {
        "id": "sxMwqfi-ojDj"
      },
      "source": [
        "import numpy as np\n",
        "import pandas as pd\n",
        "import seaborn as sns\n",
        "from scipy import stats\n",
        "from statistics import mean\n",
        "import pylab \n",
        "import matplotlib.pyplot as plt\n",
        "from collections import Counter\n",
        "import plotly.graph_objs as go\n",
        "from plotly.offline import download_plotlyjs, init_notebook_mode, plot, iplot\n",
        "from plotly import tools\n",
        "from plotly.subplots import make_subplots\n",
        "import plotly.express as px\n",
        "from sklearn.cluster import KMeans\n",
        "from array import array\n",
        "import math"
      ],
      "execution_count": 2,
      "outputs": []
    },
    {
      "cell_type": "code",
      "metadata": {
        "id": "10O6xLoMojaw"
      },
      "source": [
        "data = pd.read_csv('/content/StudentsPerformance.csv')"
      ],
      "execution_count": 3,
      "outputs": []
    },
    {
      "cell_type": "code",
      "metadata": {
        "colab": {
          "base_uri": "https://localhost:8080/",
          "height": 436
        },
        "id": "7Pq8ThU5pOSN",
        "outputId": "06636c60-86e1-4c7c-ea31-17bd9a75d835"
      },
      "source": [
        "data"
      ],
      "execution_count": 4,
      "outputs": [
        {
          "output_type": "execute_result",
          "data": {
            "text/html": [
              "<div>\n",
              "<style scoped>\n",
              "    .dataframe tbody tr th:only-of-type {\n",
              "        vertical-align: middle;\n",
              "    }\n",
              "\n",
              "    .dataframe tbody tr th {\n",
              "        vertical-align: top;\n",
              "    }\n",
              "\n",
              "    .dataframe thead th {\n",
              "        text-align: right;\n",
              "    }\n",
              "</style>\n",
              "<table border=\"1\" class=\"dataframe\">\n",
              "  <thead>\n",
              "    <tr style=\"text-align: right;\">\n",
              "      <th></th>\n",
              "      <th>gender</th>\n",
              "      <th>race/ethnicity</th>\n",
              "      <th>parental level of education</th>\n",
              "      <th>lunch</th>\n",
              "      <th>test preparation course</th>\n",
              "      <th>math score</th>\n",
              "      <th>reading score</th>\n",
              "      <th>writing score</th>\n",
              "    </tr>\n",
              "  </thead>\n",
              "  <tbody>\n",
              "    <tr>\n",
              "      <th>0</th>\n",
              "      <td>female</td>\n",
              "      <td>group B</td>\n",
              "      <td>bachelor's degree</td>\n",
              "      <td>standard</td>\n",
              "      <td>none</td>\n",
              "      <td>72</td>\n",
              "      <td>72</td>\n",
              "      <td>74</td>\n",
              "    </tr>\n",
              "    <tr>\n",
              "      <th>1</th>\n",
              "      <td>female</td>\n",
              "      <td>group C</td>\n",
              "      <td>some college</td>\n",
              "      <td>standard</td>\n",
              "      <td>completed</td>\n",
              "      <td>69</td>\n",
              "      <td>90</td>\n",
              "      <td>88</td>\n",
              "    </tr>\n",
              "    <tr>\n",
              "      <th>2</th>\n",
              "      <td>female</td>\n",
              "      <td>group B</td>\n",
              "      <td>master's degree</td>\n",
              "      <td>standard</td>\n",
              "      <td>none</td>\n",
              "      <td>90</td>\n",
              "      <td>95</td>\n",
              "      <td>93</td>\n",
              "    </tr>\n",
              "    <tr>\n",
              "      <th>3</th>\n",
              "      <td>male</td>\n",
              "      <td>group A</td>\n",
              "      <td>associate's degree</td>\n",
              "      <td>free/reduced</td>\n",
              "      <td>none</td>\n",
              "      <td>47</td>\n",
              "      <td>57</td>\n",
              "      <td>44</td>\n",
              "    </tr>\n",
              "    <tr>\n",
              "      <th>4</th>\n",
              "      <td>male</td>\n",
              "      <td>group C</td>\n",
              "      <td>some college</td>\n",
              "      <td>standard</td>\n",
              "      <td>none</td>\n",
              "      <td>76</td>\n",
              "      <td>78</td>\n",
              "      <td>75</td>\n",
              "    </tr>\n",
              "    <tr>\n",
              "      <th>...</th>\n",
              "      <td>...</td>\n",
              "      <td>...</td>\n",
              "      <td>...</td>\n",
              "      <td>...</td>\n",
              "      <td>...</td>\n",
              "      <td>...</td>\n",
              "      <td>...</td>\n",
              "      <td>...</td>\n",
              "    </tr>\n",
              "    <tr>\n",
              "      <th>995</th>\n",
              "      <td>female</td>\n",
              "      <td>group E</td>\n",
              "      <td>master's degree</td>\n",
              "      <td>standard</td>\n",
              "      <td>completed</td>\n",
              "      <td>88</td>\n",
              "      <td>99</td>\n",
              "      <td>95</td>\n",
              "    </tr>\n",
              "    <tr>\n",
              "      <th>996</th>\n",
              "      <td>male</td>\n",
              "      <td>group C</td>\n",
              "      <td>high school</td>\n",
              "      <td>free/reduced</td>\n",
              "      <td>none</td>\n",
              "      <td>62</td>\n",
              "      <td>55</td>\n",
              "      <td>55</td>\n",
              "    </tr>\n",
              "    <tr>\n",
              "      <th>997</th>\n",
              "      <td>female</td>\n",
              "      <td>group C</td>\n",
              "      <td>high school</td>\n",
              "      <td>free/reduced</td>\n",
              "      <td>completed</td>\n",
              "      <td>59</td>\n",
              "      <td>71</td>\n",
              "      <td>65</td>\n",
              "    </tr>\n",
              "    <tr>\n",
              "      <th>998</th>\n",
              "      <td>female</td>\n",
              "      <td>group D</td>\n",
              "      <td>some college</td>\n",
              "      <td>standard</td>\n",
              "      <td>completed</td>\n",
              "      <td>68</td>\n",
              "      <td>78</td>\n",
              "      <td>77</td>\n",
              "    </tr>\n",
              "    <tr>\n",
              "      <th>999</th>\n",
              "      <td>female</td>\n",
              "      <td>group D</td>\n",
              "      <td>some college</td>\n",
              "      <td>free/reduced</td>\n",
              "      <td>none</td>\n",
              "      <td>77</td>\n",
              "      <td>86</td>\n",
              "      <td>86</td>\n",
              "    </tr>\n",
              "  </tbody>\n",
              "</table>\n",
              "<p>1000 rows × 8 columns</p>\n",
              "</div>"
            ],
            "text/plain": [
              "     gender race/ethnicity  ... reading score writing score\n",
              "0    female        group B  ...            72            74\n",
              "1    female        group C  ...            90            88\n",
              "2    female        group B  ...            95            93\n",
              "3      male        group A  ...            57            44\n",
              "4      male        group C  ...            78            75\n",
              "..      ...            ...  ...           ...           ...\n",
              "995  female        group E  ...            99            95\n",
              "996    male        group C  ...            55            55\n",
              "997  female        group C  ...            71            65\n",
              "998  female        group D  ...            78            77\n",
              "999  female        group D  ...            86            86\n",
              "\n",
              "[1000 rows x 8 columns]"
            ]
          },
          "metadata": {
            "tags": []
          },
          "execution_count": 4
        }
      ]
    },
    {
      "cell_type": "code",
      "metadata": {
        "colab": {
          "base_uri": "https://localhost:8080/",
          "height": 567
        },
        "id": "e3gADQwXItID",
        "outputId": "be9e42fd-d28f-4a25-d2ce-167696692b5e"
      },
      "source": [
        "sns.pairplot(data)"
      ],
      "execution_count": 5,
      "outputs": [
        {
          "output_type": "execute_result",
          "data": {
            "text/plain": [
              "<seaborn.axisgrid.PairGrid at 0x7f91c20e0c90>"
            ]
          },
          "metadata": {
            "tags": []
          },
          "execution_count": 5
        },
        {
          "output_type": "display_data",
          "data": {
            "image/png": "[encoded data removed]",
            "text/plain": [
              "<Figure size 540x540 with 12 Axes>"
            ]
          },
          "metadata": {
            "tags": [],
            "needs_background": "light"
          }
        }
      ]
    },
    {
      "cell_type": "markdown",
      "metadata": {
        "id": "_XMJ6bj6dlSX"
      },
      "source": [
        "#Введем границу проходного балла и посмотрим кто сдал экзамен, а кто нет\n"
      ]
    },
    {
      "cell_type": "code",
      "metadata": {
        "id": "QjNdoJafd6rQ"
      },
      "source": [
        "pass_score = 40"
      ],
      "execution_count": 6,
      "outputs": []
    },
    {
      "cell_type": "code",
      "metadata": {
        "id": "fyRhwj9FeAVp"
      },
      "source": [
        "data['pass_math'] = np.where(data['math score'] > pass_score, 'P', 'F')\n",
        "data['pass_read'] = np.where(data['reading score'] > pass_score, 'P', 'F')\n",
        "data['pass_write'] = np.where(data['writing score'] > pass_score, 'P', 'F')"
      ],
      "execution_count": 7,
      "outputs": []
    },
    {
      "cell_type": "code",
      "metadata": {
        "id": "_RXA_w8xfO4A"
      },
      "source": [
        "data.to_csv('pass_exam.csv')"
      ],
      "execution_count": 8,
      "outputs": []
    },
    {
      "cell_type": "markdown",
      "metadata": {
        "id": "qmoBmHm73Lg-"
      },
      "source": [
        "# csv Для анализа результатов в различных этнических группах"
      ]
    },
    {
      "cell_type": "code",
      "metadata": {
        "colab": {
          "base_uri": "https://localhost:8080/"
        },
        "id": "QARHWqLxHbX9",
        "outputId": "f5f529c1-2714-4ab2-c7d1-dc0e967d0789"
      },
      "source": [
        "data['race/ethnicity'].value_counts()"
      ],
      "execution_count": 9,
      "outputs": [
        {
          "output_type": "execute_result",
          "data": {
            "text/plain": [
              "group C    319\n",
              "group D    262\n",
              "group B    190\n",
              "group E    140\n",
              "group A     89\n",
              "Name: race/ethnicity, dtype: int64"
            ]
          },
          "metadata": {
            "tags": []
          },
          "execution_count": 9
        }
      ]
    },
    {
      "cell_type": "code",
      "metadata": {
        "id": "hXnbKF__ou2Y"
      },
      "source": [
        "data_race = data[['race/ethnicity','test preparation course']]"
      ],
      "execution_count": 10,
      "outputs": []
    },
    {
      "cell_type": "code",
      "metadata": {
        "id": "_Zk6XRfopBCN"
      },
      "source": [
        "data_race_A = data_race.where(data_race['race/ethnicity'] == 'group A')\n",
        "data_race_B = data_race.where(data_race['race/ethnicity'] == 'group B')\n",
        "data_race_C = data_race.where(data_race['race/ethnicity'] == 'group C')\n",
        "data_race_D = data_race.where(data_race['race/ethnicity'] == 'group D')\n",
        "data_race_E = data_race.where(data_race['race/ethnicity'] == 'group E')"
      ],
      "execution_count": 11,
      "outputs": []
    },
    {
      "cell_type": "code",
      "metadata": {
        "id": "y2YhdWAJpZ6G"
      },
      "source": [
        "data_race_A = data_race_A[data_race_A['race/ethnicity'].notna()]\n",
        "data_race_B = data_race_B[data_race_B['race/ethnicity'].notna()]\n",
        "data_race_C = data_race_C[data_race_C['race/ethnicity'].notna()]\n",
        "data_race_D = data_race_D[data_race_D['race/ethnicity'].notna()]\n",
        "data_race_E = data_race_E[data_race_E['race/ethnicity'].notna()]"
      ],
      "execution_count": 12,
      "outputs": []
    },
    {
      "cell_type": "code",
      "metadata": {
        "id": "6eHLEZWtq0Bc"
      },
      "source": [
        "data_race_A.to_csv('data_race_A.csv')"
      ],
      "execution_count": 13,
      "outputs": []
    },
    {
      "cell_type": "code",
      "metadata": {
        "id": "FnR2JrgesRPg"
      },
      "source": [
        "data_race_B.to_csv('data_race_B.csv')"
      ],
      "execution_count": 14,
      "outputs": []
    },
    {
      "cell_type": "code",
      "metadata": {
        "id": "_rI7N3BbtM0g"
      },
      "source": [
        "data_race_C.to_csv('data_race_C.csv')\n",
        "data_race_D.to_csv('data_race_D.csv')\n",
        "data_race_E.to_csv('data_race_E.csv')"
      ],
      "execution_count": 15,
      "outputs": []
    },
    {
      "cell_type": "code",
      "metadata": {
        "colab": {
          "base_uri": "https://localhost:8080/"
        },
        "id": "-Oj8iaUKqTiO",
        "outputId": "36b7b14c-df1c-42dd-a70e-2656fcd084ca"
      },
      "source": [
        "data_race_A.value_counts()"
      ],
      "execution_count": 16,
      "outputs": [
        {
          "output_type": "execute_result",
          "data": {
            "text/plain": [
              "race/ethnicity  test preparation course\n",
              "group A         none                       58\n",
              "                completed                  31\n",
              "dtype: int64"
            ]
          },
          "metadata": {
            "tags": []
          },
          "execution_count": 16
        }
      ]
    },
    {
      "cell_type": "markdown",
      "metadata": {
        "id": "kA5pz1ChtVMj"
      },
      "source": [
        "#Кластеризация (не использовала)"
      ]
    },
    {
      "cell_type": "code",
      "metadata": {
        "id": "WNio_AzH_w7e"
      },
      "source": [
        "data_cluster = pd.get_dummies(data, columns=['gender', 'race/ethnicity', 'parental level of education', 'lunch', 'test preparation course'],\n",
        "               drop_first=True, prefix=['gender', 'race/ethnicity', 'parental level of education', 'lunch', 'test preparation course'], prefix_sep='_')"
      ],
      "execution_count": 17,
      "outputs": []
    },
    {
      "cell_type": "code",
      "metadata": {
        "colab": {
          "base_uri": "https://localhost:8080/",
          "height": 490
        },
        "id": "iys_w5TzAU46",
        "outputId": "96497bd0-a240-4b2f-e384-2f0431c3a9e8"
      },
      "source": [
        "data_cluster"
      ],
      "execution_count": 18,
      "outputs": [
        {
          "output_type": "execute_result",
          "data": {
            "text/html": [
              "<div>\n",
              "<style scoped>\n",
              "    .dataframe tbody tr th:only-of-type {\n",
              "        vertical-align: middle;\n",
              "    }\n",
              "\n",
              "    .dataframe tbody tr th {\n",
              "        vertical-align: top;\n",
              "    }\n",
              "\n",
              "    .dataframe thead th {\n",
              "        text-align: right;\n",
              "    }\n",
              "</style>\n",
              "<table border=\"1\" class=\"dataframe\">\n",
              "  <thead>\n",
              "    <tr style=\"text-align: right;\">\n",
              "      <th></th>\n",
              "      <th>math score</th>\n",
              "      <th>reading score</th>\n",
              "      <th>writing score</th>\n",
              "      <th>pass_math</th>\n",
              "      <th>pass_read</th>\n",
              "      <th>pass_write</th>\n",
              "      <th>gender_male</th>\n",
              "      <th>race/ethnicity_group B</th>\n",
              "      <th>race/ethnicity_group C</th>\n",
              "      <th>race/ethnicity_group D</th>\n",
              "      <th>race/ethnicity_group E</th>\n",
              "      <th>parental level of education_bachelor's degree</th>\n",
              "      <th>parental level of education_high school</th>\n",
              "      <th>parental level of education_master's degree</th>\n",
              "      <th>parental level of education_some college</th>\n",
              "      <th>parental level of education_some high school</th>\n",
              "      <th>lunch_standard</th>\n",
              "      <th>test preparation course_none</th>\n",
              "    </tr>\n",
              "  </thead>\n",
              "  <tbody>\n",
              "    <tr>\n",
              "      <th>0</th>\n",
              "      <td>72</td>\n",
              "      <td>72</td>\n",
              "      <td>74</td>\n",
              "      <td>P</td>\n",
              "      <td>P</td>\n",
              "      <td>P</td>\n",
              "      <td>0</td>\n",
              "      <td>1</td>\n",
              "      <td>0</td>\n",
              "      <td>0</td>\n",
              "      <td>0</td>\n",
              "      <td>1</td>\n",
              "      <td>0</td>\n",
              "      <td>0</td>\n",
              "      <td>0</td>\n",
              "      <td>0</td>\n",
              "      <td>1</td>\n",
              "      <td>1</td>\n",
              "    </tr>\n",
              "    <tr>\n",
              "      <th>1</th>\n",
              "      <td>69</td>\n",
              "      <td>90</td>\n",
              "      <td>88</td>\n",
              "      <td>P</td>\n",
              "      <td>P</td>\n",
              "      <td>P</td>\n",
              "      <td>0</td>\n",
              "      <td>0</td>\n",
              "      <td>1</td>\n",
              "      <td>0</td>\n",
              "      <td>0</td>\n",
              "      <td>0</td>\n",
              "      <td>0</td>\n",
              "      <td>0</td>\n",
              "      <td>1</td>\n",
              "      <td>0</td>\n",
              "      <td>1</td>\n",
              "      <td>0</td>\n",
              "    </tr>\n",
              "    <tr>\n",
              "      <th>2</th>\n",
              "      <td>90</td>\n",
              "      <td>95</td>\n",
              "      <td>93</td>\n",
              "      <td>P</td>\n",
              "      <td>P</td>\n",
              "      <td>P</td>\n",
              "      <td>0</td>\n",
              "      <td>1</td>\n",
              "      <td>0</td>\n",
              "      <td>0</td>\n",
              "      <td>0</td>\n",
              "      <td>0</td>\n",
              "      <td>0</td>\n",
              "      <td>1</td>\n",
              "      <td>0</td>\n",
              "      <td>0</td>\n",
              "      <td>1</td>\n",
              "      <td>1</td>\n",
              "    </tr>\n",
              "    <tr>\n",
              "      <th>3</th>\n",
              "      <td>47</td>\n",
              "      <td>57</td>\n",
              "      <td>44</td>\n",
              "      <td>P</td>\n",
              "      <td>P</td>\n",
              "      <td>P</td>\n",
              "      <td>1</td>\n",
              "      <td>0</td>\n",
              "      <td>0</td>\n",
              "      <td>0</td>\n",
              "      <td>0</td>\n",
              "      <td>0</td>\n",
              "      <td>0</td>\n",
              "      <td>0</td>\n",
              "      <td>0</td>\n",
              "      <td>0</td>\n",
              "      <td>0</td>\n",
              "      <td>1</td>\n",
              "    </tr>\n",
              "    <tr>\n",
              "      <th>4</th>\n",
              "      <td>76</td>\n",
              "      <td>78</td>\n",
              "      <td>75</td>\n",
              "      <td>P</td>\n",
              "      <td>P</td>\n",
              "      <td>P</td>\n",
              "      <td>1</td>\n",
              "      <td>0</td>\n",
              "      <td>1</td>\n",
              "      <td>0</td>\n",
              "      <td>0</td>\n",
              "      <td>0</td>\n",
              "      <td>0</td>\n",
              "      <td>0</td>\n",
              "      <td>1</td>\n",
              "      <td>0</td>\n",
              "      <td>1</td>\n",
              "      <td>1</td>\n",
              "    </tr>\n",
              "    <tr>\n",
              "      <th>...</th>\n",
              "      <td>...</td>\n",
              "      <td>...</td>\n",
              "      <td>...</td>\n",
              "      <td>...</td>\n",
              "      <td>...</td>\n",
              "      <td>...</td>\n",
              "      <td>...</td>\n",
              "      <td>...</td>\n",
              "      <td>...</td>\n",
              "      <td>...</td>\n",
              "      <td>...</td>\n",
              "      <td>...</td>\n",
              "      <td>...</td>\n",
              "      <td>...</td>\n",
              "      <td>...</td>\n",
              "      <td>...</td>\n",
              "      <td>...</td>\n",
              "      <td>...</td>\n",
              "    </tr>\n",
              "    <tr>\n",
              "      <th>995</th>\n",
              "      <td>88</td>\n",
              "      <td>99</td>\n",
              "      <td>95</td>\n",
              "      <td>P</td>\n",
              "      <td>P</td>\n",
              "      <td>P</td>\n",
              "      <td>0</td>\n",
              "      <td>0</td>\n",
              "      <td>0</td>\n",
              "      <td>0</td>\n",
              "      <td>1</td>\n",
              "      <td>0</td>\n",
              "      <td>0</td>\n",
              "      <td>1</td>\n",
              "      <td>0</td>\n",
              "      <td>0</td>\n",
              "      <td>1</td>\n",
              "      <td>0</td>\n",
              "    </tr>\n",
              "    <tr>\n",
              "      <th>996</th>\n",
              "      <td>62</td>\n",
              "      <td>55</td>\n",
              "      <td>55</td>\n",
              "      <td>P</td>\n",
              "      <td>P</td>\n",
              "      <td>P</td>\n",
              "      <td>1</td>\n",
              "      <td>0</td>\n",
              "      <td>1</td>\n",
              "      <td>0</td>\n",
              "      <td>0</td>\n",
              "      <td>0</td>\n",
              "      <td>1</td>\n",
              "      <td>0</td>\n",
              "      <td>0</td>\n",
              "      <td>0</td>\n",
              "      <td>0</td>\n",
              "      <td>1</td>\n",
              "    </tr>\n",
              "    <tr>\n",
              "      <th>997</th>\n",
              "      <td>59</td>\n",
              "      <td>71</td>\n",
              "      <td>65</td>\n",
              "      <td>P</td>\n",
              "      <td>P</td>\n",
              "      <td>P</td>\n",
              "      <td>0</td>\n",
              "      <td>0</td>\n",
              "      <td>1</td>\n",
              "      <td>0</td>\n",
              "      <td>0</td>\n",
              "      <td>0</td>\n",
              "      <td>1</td>\n",
              "      <td>0</td>\n",
              "      <td>0</td>\n",
              "      <td>0</td>\n",
              "      <td>0</td>\n",
              "      <td>0</td>\n",
              "    </tr>\n",
              "    <tr>\n",
              "      <th>998</th>\n",
              "      <td>68</td>\n",
              "      <td>78</td>\n",
              "      <td>77</td>\n",
              "      <td>P</td>\n",
              "      <td>P</td>\n",
              "      <td>P</td>\n",
              "      <td>0</td>\n",
              "      <td>0</td>\n",
              "      <td>0</td>\n",
              "      <td>1</td>\n",
              "      <td>0</td>\n",
              "      <td>0</td>\n",
              "      <td>0</td>\n",
              "      <td>0</td>\n",
              "      <td>1</td>\n",
              "      <td>0</td>\n",
              "      <td>1</td>\n",
              "      <td>0</td>\n",
              "    </tr>\n",
              "    <tr>\n",
              "      <th>999</th>\n",
              "      <td>77</td>\n",
              "      <td>86</td>\n",
              "      <td>86</td>\n",
              "      <td>P</td>\n",
              "      <td>P</td>\n",
              "      <td>P</td>\n",
              "      <td>0</td>\n",
              "      <td>0</td>\n",
              "      <td>0</td>\n",
              "      <td>1</td>\n",
              "      <td>0</td>\n",
              "      <td>0</td>\n",
              "      <td>0</td>\n",
              "      <td>0</td>\n",
              "      <td>1</td>\n",
              "      <td>0</td>\n",
              "      <td>0</td>\n",
              "      <td>1</td>\n",
              "    </tr>\n",
              "  </tbody>\n",
              "</table>\n",
              "<p>1000 rows × 18 columns</p>\n",
              "</div>"
            ],
            "text/plain": [
              "     math score  reading score  ...  lunch_standard test preparation course_none\n",
              "0            72             72  ...               1                            1\n",
              "1            69             90  ...               1                            0\n",
              "2            90             95  ...               1                            1\n",
              "3            47             57  ...               0                            1\n",
              "4            76             78  ...               1                            1\n",
              "..          ...            ...  ...             ...                          ...\n",
              "995          88             99  ...               1                            0\n",
              "996          62             55  ...               0                            1\n",
              "997          59             71  ...               0                            0\n",
              "998          68             78  ...               1                            0\n",
              "999          77             86  ...               0                            1\n",
              "\n",
              "[1000 rows x 18 columns]"
            ]
          },
          "metadata": {
            "tags": []
          },
          "execution_count": 18
        }
      ]
    },
    {
      "cell_type": "code",
      "metadata": {
        "id": "XUqPzUBnATir"
      },
      "source": [
        "data_cluster.rename(columns={'race/ethnicity_group B': 'race_B', 'race/ethnicity_group C': 'race_C', 'race/ethnicity_group D': 'race_D', \n",
        "                             'race/ethnicity_group E': 'race_E', 'parental level of education_bachelor\\'s degree': 'parental_bachelor', \n",
        "                             'parental level of education_high school': 'parental_high_school', 'parental level of education_master\\'s degree': 'parental_masters',\n",
        "                             'parental level of education_some college': 'parental_some_college', 'parental level of education_some high school': 'parental_some_highschool'}, inplace=True)"
      ],
      "execution_count": 19,
      "outputs": []
    },
    {
      "cell_type": "code",
      "metadata": {
        "id": "xgOe1rbVE0M-"
      },
      "source": [
        "data_cluster[\"average_score\"] = ((data_cluster['math score'] + data_cluster['reading score'] + data_cluster['writing score']) / 3).round(2)"
      ],
      "execution_count": 20,
      "outputs": []
    },
    {
      "cell_type": "code",
      "metadata": {
        "id": "PPwOnoq3C7Oq"
      },
      "source": [
        "cluster_train_data = data_cluster.head(600)\n",
        "cluster_test_data = data_cluster.tail(100)"
      ],
      "execution_count": 21,
      "outputs": []
    },
    {
      "cell_type": "code",
      "metadata": {
        "colab": {
          "base_uri": "https://localhost:8080/",
          "height": 473
        },
        "id": "4Dr7J1-6BNkx",
        "outputId": "0c287a8d-e29b-4678-d1db-999ef3b9de2f"
      },
      "source": [
        "cluster_train_data"
      ],
      "execution_count": 22,
      "outputs": [
        {
          "output_type": "execute_result",
          "data": {
            "text/html": [
              "<div>\n",
              "<style scoped>\n",
              "    .dataframe tbody tr th:only-of-type {\n",
              "        vertical-align: middle;\n",
              "    }\n",
              "\n",
              "    .dataframe tbody tr th {\n",
              "        vertical-align: top;\n",
              "    }\n",
              "\n",
              "    .dataframe thead th {\n",
              "        text-align: right;\n",
              "    }\n",
              "</style>\n",
              "<table border=\"1\" class=\"dataframe\">\n",
              "  <thead>\n",
              "    <tr style=\"text-align: right;\">\n",
              "      <th></th>\n",
              "      <th>math score</th>\n",
              "      <th>reading score</th>\n",
              "      <th>writing score</th>\n",
              "      <th>pass_math</th>\n",
              "      <th>pass_read</th>\n",
              "      <th>pass_write</th>\n",
              "      <th>gender_male</th>\n",
              "      <th>race_B</th>\n",
              "      <th>race_C</th>\n",
              "      <th>race_D</th>\n",
              "      <th>race_E</th>\n",
              "      <th>parental_bachelor</th>\n",
              "      <th>parental_high_school</th>\n",
              "      <th>parental_masters</th>\n",
              "      <th>parental_some_college</th>\n",
              "      <th>parental_some_highschool</th>\n",
              "      <th>lunch_standard</th>\n",
              "      <th>test preparation course_none</th>\n",
              "      <th>average_score</th>\n",
              "    </tr>\n",
              "  </thead>\n",
              "  <tbody>\n",
              "    <tr>\n",
              "      <th>0</th>\n",
              "      <td>72</td>\n",
              "      <td>72</td>\n",
              "      <td>74</td>\n",
              "      <td>P</td>\n",
              "      <td>P</td>\n",
              "      <td>P</td>\n",
              "      <td>0</td>\n",
              "      <td>1</td>\n",
              "      <td>0</td>\n",
              "      <td>0</td>\n",
              "      <td>0</td>\n",
              "      <td>1</td>\n",
              "      <td>0</td>\n",
              "      <td>0</td>\n",
              "      <td>0</td>\n",
              "      <td>0</td>\n",
              "      <td>1</td>\n",
              "      <td>1</td>\n",
              "      <td>72.67</td>\n",
              "    </tr>\n",
              "    <tr>\n",
              "      <th>1</th>\n",
              "      <td>69</td>\n",
              "      <td>90</td>\n",
              "      <td>88</td>\n",
              "      <td>P</td>\n",
              "      <td>P</td>\n",
              "      <td>P</td>\n",
              "      <td>0</td>\n",
              "      <td>0</td>\n",
              "      <td>1</td>\n",
              "      <td>0</td>\n",
              "      <td>0</td>\n",
              "      <td>0</td>\n",
              "      <td>0</td>\n",
              "      <td>0</td>\n",
              "      <td>1</td>\n",
              "      <td>0</td>\n",
              "      <td>1</td>\n",
              "      <td>0</td>\n",
              "      <td>82.33</td>\n",
              "    </tr>\n",
              "    <tr>\n",
              "      <th>2</th>\n",
              "      <td>90</td>\n",
              "      <td>95</td>\n",
              "      <td>93</td>\n",
              "      <td>P</td>\n",
              "      <td>P</td>\n",
              "      <td>P</td>\n",
              "      <td>0</td>\n",
              "      <td>1</td>\n",
              "      <td>0</td>\n",
              "      <td>0</td>\n",
              "      <td>0</td>\n",
              "      <td>0</td>\n",
              "      <td>0</td>\n",
              "      <td>1</td>\n",
              "      <td>0</td>\n",
              "      <td>0</td>\n",
              "      <td>1</td>\n",
              "      <td>1</td>\n",
              "      <td>92.67</td>\n",
              "    </tr>\n",
              "    <tr>\n",
              "      <th>3</th>\n",
              "      <td>47</td>\n",
              "      <td>57</td>\n",
              "      <td>44</td>\n",
              "      <td>P</td>\n",
              "      <td>P</td>\n",
              "      <td>P</td>\n",
              "      <td>1</td>\n",
              "      <td>0</td>\n",
              "      <td>0</td>\n",
              "      <td>0</td>\n",
              "      <td>0</td>\n",
              "      <td>0</td>\n",
              "      <td>0</td>\n",
              "      <td>0</td>\n",
              "      <td>0</td>\n",
              "      <td>0</td>\n",
              "      <td>0</td>\n",
              "      <td>1</td>\n",
              "      <td>49.33</td>\n",
              "    </tr>\n",
              "    <tr>\n",
              "      <th>4</th>\n",
              "      <td>76</td>\n",
              "      <td>78</td>\n",
              "      <td>75</td>\n",
              "      <td>P</td>\n",
              "      <td>P</td>\n",
              "      <td>P</td>\n",
              "      <td>1</td>\n",
              "      <td>0</td>\n",
              "      <td>1</td>\n",
              "      <td>0</td>\n",
              "      <td>0</td>\n",
              "      <td>0</td>\n",
              "      <td>0</td>\n",
              "      <td>0</td>\n",
              "      <td>1</td>\n",
              "      <td>0</td>\n",
              "      <td>1</td>\n",
              "      <td>1</td>\n",
              "      <td>76.33</td>\n",
              "    </tr>\n",
              "    <tr>\n",
              "      <th>...</th>\n",
              "      <td>...</td>\n",
              "      <td>...</td>\n",
              "      <td>...</td>\n",
              "      <td>...</td>\n",
              "      <td>...</td>\n",
              "      <td>...</td>\n",
              "      <td>...</td>\n",
              "      <td>...</td>\n",
              "      <td>...</td>\n",
              "      <td>...</td>\n",
              "      <td>...</td>\n",
              "      <td>...</td>\n",
              "      <td>...</td>\n",
              "      <td>...</td>\n",
              "      <td>...</td>\n",
              "      <td>...</td>\n",
              "      <td>...</td>\n",
              "      <td>...</td>\n",
              "      <td>...</td>\n",
              "    </tr>\n",
              "    <tr>\n",
              "      <th>595</th>\n",
              "      <td>56</td>\n",
              "      <td>79</td>\n",
              "      <td>72</td>\n",
              "      <td>P</td>\n",
              "      <td>P</td>\n",
              "      <td>P</td>\n",
              "      <td>0</td>\n",
              "      <td>0</td>\n",
              "      <td>1</td>\n",
              "      <td>0</td>\n",
              "      <td>0</td>\n",
              "      <td>1</td>\n",
              "      <td>0</td>\n",
              "      <td>0</td>\n",
              "      <td>0</td>\n",
              "      <td>0</td>\n",
              "      <td>1</td>\n",
              "      <td>0</td>\n",
              "      <td>69.00</td>\n",
              "    </tr>\n",
              "    <tr>\n",
              "      <th>596</th>\n",
              "      <td>30</td>\n",
              "      <td>24</td>\n",
              "      <td>15</td>\n",
              "      <td>F</td>\n",
              "      <td>F</td>\n",
              "      <td>F</td>\n",
              "      <td>1</td>\n",
              "      <td>1</td>\n",
              "      <td>0</td>\n",
              "      <td>0</td>\n",
              "      <td>0</td>\n",
              "      <td>0</td>\n",
              "      <td>1</td>\n",
              "      <td>0</td>\n",
              "      <td>0</td>\n",
              "      <td>0</td>\n",
              "      <td>0</td>\n",
              "      <td>1</td>\n",
              "      <td>23.00</td>\n",
              "    </tr>\n",
              "    <tr>\n",
              "      <th>597</th>\n",
              "      <td>53</td>\n",
              "      <td>54</td>\n",
              "      <td>48</td>\n",
              "      <td>P</td>\n",
              "      <td>P</td>\n",
              "      <td>P</td>\n",
              "      <td>1</td>\n",
              "      <td>0</td>\n",
              "      <td>0</td>\n",
              "      <td>0</td>\n",
              "      <td>0</td>\n",
              "      <td>0</td>\n",
              "      <td>0</td>\n",
              "      <td>0</td>\n",
              "      <td>0</td>\n",
              "      <td>1</td>\n",
              "      <td>1</td>\n",
              "      <td>1</td>\n",
              "      <td>51.67</td>\n",
              "    </tr>\n",
              "    <tr>\n",
              "      <th>598</th>\n",
              "      <td>69</td>\n",
              "      <td>77</td>\n",
              "      <td>73</td>\n",
              "      <td>P</td>\n",
              "      <td>P</td>\n",
              "      <td>P</td>\n",
              "      <td>0</td>\n",
              "      <td>0</td>\n",
              "      <td>0</td>\n",
              "      <td>1</td>\n",
              "      <td>0</td>\n",
              "      <td>0</td>\n",
              "      <td>1</td>\n",
              "      <td>0</td>\n",
              "      <td>0</td>\n",
              "      <td>0</td>\n",
              "      <td>1</td>\n",
              "      <td>1</td>\n",
              "      <td>73.00</td>\n",
              "    </tr>\n",
              "    <tr>\n",
              "      <th>599</th>\n",
              "      <td>65</td>\n",
              "      <td>82</td>\n",
              "      <td>81</td>\n",
              "      <td>P</td>\n",
              "      <td>P</td>\n",
              "      <td>P</td>\n",
              "      <td>0</td>\n",
              "      <td>0</td>\n",
              "      <td>0</td>\n",
              "      <td>1</td>\n",
              "      <td>0</td>\n",
              "      <td>0</td>\n",
              "      <td>0</td>\n",
              "      <td>0</td>\n",
              "      <td>0</td>\n",
              "      <td>1</td>\n",
              "      <td>1</td>\n",
              "      <td>1</td>\n",
              "      <td>76.00</td>\n",
              "    </tr>\n",
              "  </tbody>\n",
              "</table>\n",
              "<p>600 rows × 19 columns</p>\n",
              "</div>"
            ],
            "text/plain": [
              "     math score  reading score  ...  test preparation course_none average_score\n",
              "0            72             72  ...                             1         72.67\n",
              "1            69             90  ...                             0         82.33\n",
              "2            90             95  ...                             1         92.67\n",
              "3            47             57  ...                             1         49.33\n",
              "4            76             78  ...                             1         76.33\n",
              "..          ...            ...  ...                           ...           ...\n",
              "595          56             79  ...                             0         69.00\n",
              "596          30             24  ...                             1         23.00\n",
              "597          53             54  ...                             1         51.67\n",
              "598          69             77  ...                             1         73.00\n",
              "599          65             82  ...                             1         76.00\n",
              "\n",
              "[600 rows x 19 columns]"
            ]
          },
          "metadata": {
            "tags": []
          },
          "execution_count": 22
        }
      ]
    },
    {
      "cell_type": "code",
      "metadata": {
        "id": "6XiexJXrBjNz"
      },
      "source": [
        "train_X = cluster_train_data.drop(['average_score','math score',\t'reading score',\t'writing score'], axis=1)"
      ],
      "execution_count": 23,
      "outputs": []
    },
    {
      "cell_type": "code",
      "metadata": {
        "id": "mmiZFODrFcFu"
      },
      "source": [
        "train_Y = cluster_train_data.loc[:,'average_score']"
      ],
      "execution_count": 24,
      "outputs": []
    },
    {
      "cell_type": "code",
      "metadata": {
        "id": "fvzsApxWFzFb"
      },
      "source": [
        "test_X = cluster_test_data.drop(['average_score','math score',\t'reading score',\t'writing score'], axis=1)\n",
        "test_Y = cluster_test_data.loc[:,'average_score']"
      ],
      "execution_count": 25,
      "outputs": []
    },
    {
      "cell_type": "code",
      "metadata": {
        "id": "204AM6dHGAyZ"
      },
      "source": [
        "# ssd = []\n",
        "# for num_clusters in range(150):\n",
        "#     kmeans = KMeans(n_clusters=num_clusters, max_iter=100)\n",
        "#     kmeans.fit(train_X, train_Y)\n",
        "#     ssd.append(kmeans.inertia_)"
      ],
      "execution_count": 26,
      "outputs": []
    },
    {
      "cell_type": "code",
      "metadata": {
        "id": "38RXcck8s0Qf"
      },
      "source": [
        "categorial_column = data[['gender','race/ethnicity','parental level of education','lunch','test preparation course']]"
      ],
      "execution_count": 27,
      "outputs": []
    },
    {
      "cell_type": "code",
      "metadata": {
        "colab": {
          "base_uri": "https://localhost:8080/",
          "height": 419
        },
        "id": "Jl1c_QvivYKS",
        "outputId": "7cc3f822-a80c-4447-dc56-18671bf27e36"
      },
      "source": [
        "categorial_column"
      ],
      "execution_count": 28,
      "outputs": [
        {
          "output_type": "execute_result",
          "data": {
            "text/html": [
              "<div>\n",
              "<style scoped>\n",
              "    .dataframe tbody tr th:only-of-type {\n",
              "        vertical-align: middle;\n",
              "    }\n",
              "\n",
              "    .dataframe tbody tr th {\n",
              "        vertical-align: top;\n",
              "    }\n",
              "\n",
              "    .dataframe thead th {\n",
              "        text-align: right;\n",
              "    }\n",
              "</style>\n",
              "<table border=\"1\" class=\"dataframe\">\n",
              "  <thead>\n",
              "    <tr style=\"text-align: right;\">\n",
              "      <th></th>\n",
              "      <th>gender</th>\n",
              "      <th>race/ethnicity</th>\n",
              "      <th>parental level of education</th>\n",
              "      <th>lunch</th>\n",
              "      <th>test preparation course</th>\n",
              "    </tr>\n",
              "  </thead>\n",
              "  <tbody>\n",
              "    <tr>\n",
              "      <th>0</th>\n",
              "      <td>female</td>\n",
              "      <td>group B</td>\n",
              "      <td>bachelor's degree</td>\n",
              "      <td>standard</td>\n",
              "      <td>none</td>\n",
              "    </tr>\n",
              "    <tr>\n",
              "      <th>1</th>\n",
              "      <td>female</td>\n",
              "      <td>group C</td>\n",
              "      <td>some college</td>\n",
              "      <td>standard</td>\n",
              "      <td>completed</td>\n",
              "    </tr>\n",
              "    <tr>\n",
              "      <th>2</th>\n",
              "      <td>female</td>\n",
              "      <td>group B</td>\n",
              "      <td>master's degree</td>\n",
              "      <td>standard</td>\n",
              "      <td>none</td>\n",
              "    </tr>\n",
              "    <tr>\n",
              "      <th>3</th>\n",
              "      <td>male</td>\n",
              "      <td>group A</td>\n",
              "      <td>associate's degree</td>\n",
              "      <td>free/reduced</td>\n",
              "      <td>none</td>\n",
              "    </tr>\n",
              "    <tr>\n",
              "      <th>4</th>\n",
              "      <td>male</td>\n",
              "      <td>group C</td>\n",
              "      <td>some college</td>\n",
              "      <td>standard</td>\n",
              "      <td>none</td>\n",
              "    </tr>\n",
              "    <tr>\n",
              "      <th>...</th>\n",
              "      <td>...</td>\n",
              "      <td>...</td>\n",
              "      <td>...</td>\n",
              "      <td>...</td>\n",
              "      <td>...</td>\n",
              "    </tr>\n",
              "    <tr>\n",
              "      <th>995</th>\n",
              "      <td>female</td>\n",
              "      <td>group E</td>\n",
              "      <td>master's degree</td>\n",
              "      <td>standard</td>\n",
              "      <td>completed</td>\n",
              "    </tr>\n",
              "    <tr>\n",
              "      <th>996</th>\n",
              "      <td>male</td>\n",
              "      <td>group C</td>\n",
              "      <td>high school</td>\n",
              "      <td>free/reduced</td>\n",
              "      <td>none</td>\n",
              "    </tr>\n",
              "    <tr>\n",
              "      <th>997</th>\n",
              "      <td>female</td>\n",
              "      <td>group C</td>\n",
              "      <td>high school</td>\n",
              "      <td>free/reduced</td>\n",
              "      <td>completed</td>\n",
              "    </tr>\n",
              "    <tr>\n",
              "      <th>998</th>\n",
              "      <td>female</td>\n",
              "      <td>group D</td>\n",
              "      <td>some college</td>\n",
              "      <td>standard</td>\n",
              "      <td>completed</td>\n",
              "    </tr>\n",
              "    <tr>\n",
              "      <th>999</th>\n",
              "      <td>female</td>\n",
              "      <td>group D</td>\n",
              "      <td>some college</td>\n",
              "      <td>free/reduced</td>\n",
              "      <td>none</td>\n",
              "    </tr>\n",
              "  </tbody>\n",
              "</table>\n",
              "<p>1000 rows × 5 columns</p>\n",
              "</div>"
            ],
            "text/plain": [
              "     gender race/ethnicity  ...         lunch test preparation course\n",
              "0    female        group B  ...      standard                    none\n",
              "1    female        group C  ...      standard               completed\n",
              "2    female        group B  ...      standard                    none\n",
              "3      male        group A  ...  free/reduced                    none\n",
              "4      male        group C  ...      standard                    none\n",
              "..      ...            ...  ...           ...                     ...\n",
              "995  female        group E  ...      standard               completed\n",
              "996    male        group C  ...  free/reduced                    none\n",
              "997  female        group C  ...  free/reduced               completed\n",
              "998  female        group D  ...      standard               completed\n",
              "999  female        group D  ...  free/reduced                    none\n",
              "\n",
              "[1000 rows x 5 columns]"
            ]
          },
          "metadata": {
            "tags": []
          },
          "execution_count": 28
        }
      ]
    },
    {
      "cell_type": "code",
      "metadata": {
        "id": "BjWfyF2Pq7mk"
      },
      "source": [
        "ssd = []\n",
        "range_n_clusters = [2,3,4,5,6,7,8,9,10,11,12, 13, 14,15,16, 17,18,19,20,21]\n",
        "for num_clusters in range_n_clusters:\n",
        "    kmeans = KMeans(n_clusters=num_clusters, max_iter=100)\n",
        "    kmeans.fit(data[['math score',\t'reading score',\t'writing score']])\n",
        "    \n",
        "    ssd.append(kmeans.inertia_)"
      ],
      "execution_count": 29,
      "outputs": []
    },
    {
      "cell_type": "code",
      "metadata": {
        "colab": {
          "base_uri": "https://localhost:8080/"
        },
        "id": "Svi1AC9a-1TU",
        "outputId": "6cba2e9a-cd13-4b29-d5d8-2f8cdadec3af"
      },
      "source": [
        "ssd"
      ],
      "execution_count": 30,
      "outputs": [
        {
          "output_type": "execute_result",
          "data": {
            "text/plain": [
              "[281951.8965908354,\n",
              " 177501.5388480823,\n",
              " 136363.80165653012,\n",
              " 111305.3976686037,\n",
              " 98100.17167656508,\n",
              " 85749.9150652054,\n",
              " 76824.07679288214,\n",
              " 68494.74451778174,\n",
              " 61619.849452613635,\n",
              " 56130.80459792672,\n",
              " 52817.7020045223,\n",
              " 49694.97886919556,\n",
              " 46591.46764552305,\n",
              " 44435.30253870743,\n",
              " 42193.26675200643,\n",
              " 40407.5411128385,\n",
              " 39023.49380647442,\n",
              " 37855.660476390374,\n",
              " 36341.07288435082,\n",
              " 34660.95133593208]"
            ]
          },
          "metadata": {
            "tags": []
          },
          "execution_count": 30
        }
      ]
    },
    {
      "cell_type": "code",
      "metadata": {
        "colab": {
          "base_uri": "https://localhost:8080/",
          "height": 388
        },
        "id": "ZpyuPlBH_DAN",
        "outputId": "4daded09-fe39-45ca-f8fc-9b9890824eef"
      },
      "source": [
        "%matplotlib inline\n",
        "plt.figure(1 , figsize = (15 ,6))\n",
        "plt.plot(ssd , '*')\n",
        "plt.plot(ssd , '-' , alpha = 0.5)\n",
        "plt.xlabel('Number of Clusters') , plt.ylabel('Score')\n",
        "plt.show()"
      ],
      "execution_count": 31,
      "outputs": [
        {
          "output_type": "display_data",
          "data": {
            "image/png": "[encoded data removed]",
            "text/plain": [
              "<Figure size 1080x432 with 1 Axes>"
            ]
          },
          "metadata": {
            "tags": [],
            "needs_background": "light"
          }
        }
      ]
    },
    {
      "cell_type": "code",
      "metadata": {
        "colab": {
          "base_uri": "https://localhost:8080/",
          "height": 359
        },
        "id": "ZZ0o_KAt_a0X",
        "outputId": "77502ecf-7ec7-492a-ac47-77c0cd021450"
      },
      "source": [
        "score=data.loc[:,['math score',\t'reading score',\t'writing score']]\n",
        "score.head(10)"
      ],
      "execution_count": 32,
      "outputs": [
        {
          "output_type": "execute_result",
          "data": {
            "text/html": [
              "<div>\n",
              "<style scoped>\n",
              "    .dataframe tbody tr th:only-of-type {\n",
              "        vertical-align: middle;\n",
              "    }\n",
              "\n",
              "    .dataframe tbody tr th {\n",
              "        vertical-align: top;\n",
              "    }\n",
              "\n",
              "    .dataframe thead th {\n",
              "        text-align: right;\n",
              "    }\n",
              "</style>\n",
              "<table border=\"1\" class=\"dataframe\">\n",
              "  <thead>\n",
              "    <tr style=\"text-align: right;\">\n",
              "      <th></th>\n",
              "      <th>math score</th>\n",
              "      <th>reading score</th>\n",
              "      <th>writing score</th>\n",
              "    </tr>\n",
              "  </thead>\n",
              "  <tbody>\n",
              "    <tr>\n",
              "      <th>0</th>\n",
              "      <td>72</td>\n",
              "      <td>72</td>\n",
              "      <td>74</td>\n",
              "    </tr>\n",
              "    <tr>\n",
              "      <th>1</th>\n",
              "      <td>69</td>\n",
              "      <td>90</td>\n",
              "      <td>88</td>\n",
              "    </tr>\n",
              "    <tr>\n",
              "      <th>2</th>\n",
              "      <td>90</td>\n",
              "      <td>95</td>\n",
              "      <td>93</td>\n",
              "    </tr>\n",
              "    <tr>\n",
              "      <th>3</th>\n",
              "      <td>47</td>\n",
              "      <td>57</td>\n",
              "      <td>44</td>\n",
              "    </tr>\n",
              "    <tr>\n",
              "      <th>4</th>\n",
              "      <td>76</td>\n",
              "      <td>78</td>\n",
              "      <td>75</td>\n",
              "    </tr>\n",
              "    <tr>\n",
              "      <th>5</th>\n",
              "      <td>71</td>\n",
              "      <td>83</td>\n",
              "      <td>78</td>\n",
              "    </tr>\n",
              "    <tr>\n",
              "      <th>6</th>\n",
              "      <td>88</td>\n",
              "      <td>95</td>\n",
              "      <td>92</td>\n",
              "    </tr>\n",
              "    <tr>\n",
              "      <th>7</th>\n",
              "      <td>40</td>\n",
              "      <td>43</td>\n",
              "      <td>39</td>\n",
              "    </tr>\n",
              "    <tr>\n",
              "      <th>8</th>\n",
              "      <td>64</td>\n",
              "      <td>64</td>\n",
              "      <td>67</td>\n",
              "    </tr>\n",
              "    <tr>\n",
              "      <th>9</th>\n",
              "      <td>38</td>\n",
              "      <td>60</td>\n",
              "      <td>50</td>\n",
              "    </tr>\n",
              "  </tbody>\n",
              "</table>\n",
              "</div>"
            ],
            "text/plain": [
              "   math score  reading score  writing score\n",
              "0          72             72             74\n",
              "1          69             90             88\n",
              "2          90             95             93\n",
              "3          47             57             44\n",
              "4          76             78             75\n",
              "5          71             83             78\n",
              "6          88             95             92\n",
              "7          40             43             39\n",
              "8          64             64             67\n",
              "9          38             60             50"
            ]
          },
          "metadata": {
            "tags": []
          },
          "execution_count": 32
        }
      ]
    },
    {
      "cell_type": "code",
      "metadata": {
        "id": "7oNuEJlJ_WEU"
      },
      "source": [
        "kmeans = KMeans(n_clusters = 11, init ='k-means++',max_iter=300,n_init=10,algorithm = 'elkan')\n",
        "kmeans.fit(score[score.columns[1:3]]) \n",
        "score['cluster_label'] = kmeans.fit_predict(score[score.columns[1:3]])\n",
        "labels = kmeans.predict(score[score.columns[1:3]]) \n",
        "centroids  = kmeans.cluster_centers_\n",
        "centroid_labels = [centroids[i] for i in labels]\n",
        "score['score'] = centroid_labels"
      ],
      "execution_count": 33,
      "outputs": []
    },
    {
      "cell_type": "code",
      "metadata": {
        "colab": {
          "base_uri": "https://localhost:8080/",
          "height": 514
        },
        "id": "vrXfmqky_ods",
        "outputId": "4cc74340-2359-4575-8078-45883bebed7e"
      },
      "source": [
        "score.head(15)"
      ],
      "execution_count": 34,
      "outputs": [
        {
          "output_type": "execute_result",
          "data": {
            "text/html": [
              "<div>\n",
              "<style scoped>\n",
              "    .dataframe tbody tr th:only-of-type {\n",
              "        vertical-align: middle;\n",
              "    }\n",
              "\n",
              "    .dataframe tbody tr th {\n",
              "        vertical-align: top;\n",
              "    }\n",
              "\n",
              "    .dataframe thead th {\n",
              "        text-align: right;\n",
              "    }\n",
              "</style>\n",
              "<table border=\"1\" class=\"dataframe\">\n",
              "  <thead>\n",
              "    <tr style=\"text-align: right;\">\n",
              "      <th></th>\n",
              "      <th>math score</th>\n",
              "      <th>reading score</th>\n",
              "      <th>writing score</th>\n",
              "      <th>cluster_label</th>\n",
              "      <th>score</th>\n",
              "    </tr>\n",
              "  </thead>\n",
              "  <tbody>\n",
              "    <tr>\n",
              "      <th>0</th>\n",
              "      <td>72</td>\n",
              "      <td>72</td>\n",
              "      <td>74</td>\n",
              "      <td>7</td>\n",
              "      <td>[71.74342105263159, 70.41447368421053]</td>\n",
              "    </tr>\n",
              "    <tr>\n",
              "      <th>1</th>\n",
              "      <td>69</td>\n",
              "      <td>90</td>\n",
              "      <td>88</td>\n",
              "      <td>8</td>\n",
              "      <td>[88.032967032967, 88.34065934065931]</td>\n",
              "    </tr>\n",
              "    <tr>\n",
              "      <th>2</th>\n",
              "      <td>90</td>\n",
              "      <td>95</td>\n",
              "      <td>93</td>\n",
              "      <td>1</td>\n",
              "      <td>[96.79999999999998, 96.53333333333333]</td>\n",
              "    </tr>\n",
              "    <tr>\n",
              "      <th>3</th>\n",
              "      <td>47</td>\n",
              "      <td>57</td>\n",
              "      <td>44</td>\n",
              "      <td>3</td>\n",
              "      <td>[49.32051282051279, 47.14102564102562]</td>\n",
              "    </tr>\n",
              "    <tr>\n",
              "      <th>4</th>\n",
              "      <td>76</td>\n",
              "      <td>78</td>\n",
              "      <td>75</td>\n",
              "      <td>2</td>\n",
              "      <td>[76.5294117647059, 76.46323529411765]</td>\n",
              "    </tr>\n",
              "    <tr>\n",
              "      <th>5</th>\n",
              "      <td>71</td>\n",
              "      <td>83</td>\n",
              "      <td>78</td>\n",
              "      <td>6</td>\n",
              "      <td>[82.93457943925232, 80.83177570093457]</td>\n",
              "    </tr>\n",
              "    <tr>\n",
              "      <th>6</th>\n",
              "      <td>88</td>\n",
              "      <td>95</td>\n",
              "      <td>92</td>\n",
              "      <td>1</td>\n",
              "      <td>[96.79999999999998, 96.53333333333333]</td>\n",
              "    </tr>\n",
              "    <tr>\n",
              "      <th>7</th>\n",
              "      <td>40</td>\n",
              "      <td>43</td>\n",
              "      <td>39</td>\n",
              "      <td>4</td>\n",
              "      <td>[40.14634146341463, 38.34146341463415]</td>\n",
              "    </tr>\n",
              "    <tr>\n",
              "      <th>8</th>\n",
              "      <td>64</td>\n",
              "      <td>64</td>\n",
              "      <td>67</td>\n",
              "      <td>0</td>\n",
              "      <td>[66.00000000000001, 65.96610169491525]</td>\n",
              "    </tr>\n",
              "    <tr>\n",
              "      <th>9</th>\n",
              "      <td>38</td>\n",
              "      <td>60</td>\n",
              "      <td>50</td>\n",
              "      <td>9</td>\n",
              "      <td>[56.15789473684208, 53.56140350877191]</td>\n",
              "    </tr>\n",
              "    <tr>\n",
              "      <th>10</th>\n",
              "      <td>58</td>\n",
              "      <td>54</td>\n",
              "      <td>52</td>\n",
              "      <td>9</td>\n",
              "      <td>[56.15789473684208, 53.56140350877191]</td>\n",
              "    </tr>\n",
              "    <tr>\n",
              "      <th>11</th>\n",
              "      <td>40</td>\n",
              "      <td>52</td>\n",
              "      <td>43</td>\n",
              "      <td>3</td>\n",
              "      <td>[49.32051282051279, 47.14102564102562]</td>\n",
              "    </tr>\n",
              "    <tr>\n",
              "      <th>12</th>\n",
              "      <td>65</td>\n",
              "      <td>81</td>\n",
              "      <td>73</td>\n",
              "      <td>2</td>\n",
              "      <td>[76.5294117647059, 76.46323529411765]</td>\n",
              "    </tr>\n",
              "    <tr>\n",
              "      <th>13</th>\n",
              "      <td>78</td>\n",
              "      <td>72</td>\n",
              "      <td>70</td>\n",
              "      <td>7</td>\n",
              "      <td>[71.74342105263159, 70.41447368421053]</td>\n",
              "    </tr>\n",
              "    <tr>\n",
              "      <th>14</th>\n",
              "      <td>50</td>\n",
              "      <td>53</td>\n",
              "      <td>58</td>\n",
              "      <td>9</td>\n",
              "      <td>[56.15789473684208, 53.56140350877191]</td>\n",
              "    </tr>\n",
              "  </tbody>\n",
              "</table>\n",
              "</div>"
            ],
            "text/plain": [
              "    math score  ...                                   score\n",
              "0           72  ...  [71.74342105263159, 70.41447368421053]\n",
              "1           69  ...    [88.032967032967, 88.34065934065931]\n",
              "2           90  ...  [96.79999999999998, 96.53333333333333]\n",
              "3           47  ...  [49.32051282051279, 47.14102564102562]\n",
              "4           76  ...   [76.5294117647059, 76.46323529411765]\n",
              "5           71  ...  [82.93457943925232, 80.83177570093457]\n",
              "6           88  ...  [96.79999999999998, 96.53333333333333]\n",
              "7           40  ...  [40.14634146341463, 38.34146341463415]\n",
              "8           64  ...  [66.00000000000001, 65.96610169491525]\n",
              "9           38  ...  [56.15789473684208, 53.56140350877191]\n",
              "10          58  ...  [56.15789473684208, 53.56140350877191]\n",
              "11          40  ...  [49.32051282051279, 47.14102564102562]\n",
              "12          65  ...   [76.5294117647059, 76.46323529411765]\n",
              "13          78  ...  [71.74342105263159, 70.41447368421053]\n",
              "14          50  ...  [56.15789473684208, 53.56140350877191]\n",
              "\n",
              "[15 rows x 5 columns]"
            ]
          },
          "metadata": {
            "tags": []
          },
          "execution_count": 34
        }
      ]
    },
    {
      "cell_type": "code",
      "metadata": {
        "id": "tZYpeA1UBdaf"
      },
      "source": [
        "d = {'cluster_label':[0,1,2,3,4,5,6,7,8,9,10],'score':[centroids[i] for i in set(labels)]}\n",
        "score_info = pd.DataFrame(d)"
      ],
      "execution_count": 35,
      "outputs": []
    },
    {
      "cell_type": "code",
      "metadata": {
        "colab": {
          "base_uri": "https://localhost:8080/",
          "height": 390
        },
        "id": "X2KOgvzmCGl7",
        "outputId": "c037cdcd-e1c8-4dbf-906e-634a0bc5ee88"
      },
      "source": [
        "score_info"
      ],
      "execution_count": 36,
      "outputs": [
        {
          "output_type": "execute_result",
          "data": {
            "text/html": [
              "<div>\n",
              "<style scoped>\n",
              "    .dataframe tbody tr th:only-of-type {\n",
              "        vertical-align: middle;\n",
              "    }\n",
              "\n",
              "    .dataframe tbody tr th {\n",
              "        vertical-align: top;\n",
              "    }\n",
              "\n",
              "    .dataframe thead th {\n",
              "        text-align: right;\n",
              "    }\n",
              "</style>\n",
              "<table border=\"1\" class=\"dataframe\">\n",
              "  <thead>\n",
              "    <tr style=\"text-align: right;\">\n",
              "      <th></th>\n",
              "      <th>cluster_label</th>\n",
              "      <th>score</th>\n",
              "    </tr>\n",
              "  </thead>\n",
              "  <tbody>\n",
              "    <tr>\n",
              "      <th>0</th>\n",
              "      <td>0</td>\n",
              "      <td>[66.00000000000001, 65.96610169491525]</td>\n",
              "    </tr>\n",
              "    <tr>\n",
              "      <th>1</th>\n",
              "      <td>1</td>\n",
              "      <td>[96.79999999999998, 96.53333333333333]</td>\n",
              "    </tr>\n",
              "    <tr>\n",
              "      <th>2</th>\n",
              "      <td>2</td>\n",
              "      <td>[76.5294117647059, 76.46323529411765]</td>\n",
              "    </tr>\n",
              "    <tr>\n",
              "      <th>3</th>\n",
              "      <td>3</td>\n",
              "      <td>[49.32051282051279, 47.14102564102562]</td>\n",
              "    </tr>\n",
              "    <tr>\n",
              "      <th>4</th>\n",
              "      <td>4</td>\n",
              "      <td>[40.14634146341463, 38.34146341463415]</td>\n",
              "    </tr>\n",
              "    <tr>\n",
              "      <th>5</th>\n",
              "      <td>5</td>\n",
              "      <td>[61.46788990825689, 60.36697247706424]</td>\n",
              "    </tr>\n",
              "    <tr>\n",
              "      <th>6</th>\n",
              "      <td>6</td>\n",
              "      <td>[82.93457943925232, 80.83177570093457]</td>\n",
              "    </tr>\n",
              "    <tr>\n",
              "      <th>7</th>\n",
              "      <td>7</td>\n",
              "      <td>[71.74342105263159, 70.41447368421053]</td>\n",
              "    </tr>\n",
              "    <tr>\n",
              "      <th>8</th>\n",
              "      <td>8</td>\n",
              "      <td>[88.032967032967, 88.34065934065931]</td>\n",
              "    </tr>\n",
              "    <tr>\n",
              "      <th>9</th>\n",
              "      <td>9</td>\n",
              "      <td>[56.15789473684208, 53.56140350877191]</td>\n",
              "    </tr>\n",
              "    <tr>\n",
              "      <th>10</th>\n",
              "      <td>10</td>\n",
              "      <td>[25.777777777777786, 22.333333333333336]</td>\n",
              "    </tr>\n",
              "  </tbody>\n",
              "</table>\n",
              "</div>"
            ],
            "text/plain": [
              "    cluster_label                                     score\n",
              "0               0    [66.00000000000001, 65.96610169491525]\n",
              "1               1    [96.79999999999998, 96.53333333333333]\n",
              "2               2     [76.5294117647059, 76.46323529411765]\n",
              "3               3    [49.32051282051279, 47.14102564102562]\n",
              "4               4    [40.14634146341463, 38.34146341463415]\n",
              "5               5    [61.46788990825689, 60.36697247706424]\n",
              "6               6    [82.93457943925232, 80.83177570093457]\n",
              "7               7    [71.74342105263159, 70.41447368421053]\n",
              "8               8      [88.032967032967, 88.34065934065931]\n",
              "9               9    [56.15789473684208, 53.56140350877191]\n",
              "10             10  [25.777777777777786, 22.333333333333336]"
            ]
          },
          "metadata": {
            "tags": []
          },
          "execution_count": 36
        }
      ]
    },
    {
      "cell_type": "markdown",
      "metadata": {
        "id": "SZOiv5SOtEfx"
      },
      "source": [
        "#Корреляция"
      ]
    },
    {
      "cell_type": "code",
      "metadata": {
        "colab": {
          "base_uri": "https://localhost:8080/",
          "height": 0
        },
        "id": "XbP_Htoqrrrx",
        "outputId": "952009b8-f471-420c-c8fe-f555e6fe6ae4"
      },
      "source": [
        "sns.heatmap(data[[\"gender\", \"race/ethnicity\", \"lunch\", \"math score\", \"reading score\", \"writing score\",\"parental level of education\"]].corr(), annot = True, fmt='.1g',\n",
        "            cmap= 'coolwarm', vmax=0.3, center=0,square=True,linewidth=0.7);"
      ],
      "execution_count": 37,
      "outputs": [
        {
          "output_type": "display_data",
          "data": {
            "image/png": "[encoded data removed]",
            "text/plain": [
              "<Figure size 432x288 with 2 Axes>"
            ]
          },
          "metadata": {
            "tags": [],
            "needs_background": "light"
          }
        }
      ]
    },
    {
      "cell_type": "code",
      "metadata": {
        "id": "fU3eJNnWtH8r"
      },
      "source": [
        "data1 = data.replace({\"male\":1,\"female\":0})"
      ],
      "execution_count": 38,
      "outputs": []
    },
    {
      "cell_type": "code",
      "metadata": {
        "id": "75NdHZD-tXOG"
      },
      "source": [
        "data1 = data1.replace({\"group A\": 1, \"group B\": 2, \"group C\": 3, \"group D\": 4, \"group E\": 5})"
      ],
      "execution_count": 39,
      "outputs": []
    },
    {
      "cell_type": "code",
      "metadata": {
        "id": "eryQzd8GtY6F"
      },
      "source": [
        "data1 = data1.replace({\"some high school\":1, \"high school\":2, \"some college\":3 , \"associate's degree\":4 , \"bachelor's degree\":5, \"master's degree\":6})"
      ],
      "execution_count": 40,
      "outputs": []
    },
    {
      "cell_type": "code",
      "metadata": {
        "id": "T9M7MUodtsUv"
      },
      "source": [
        "data1 = data1.replace({\"free/reduced\":1, \"standard\":2})"
      ],
      "execution_count": 41,
      "outputs": []
    },
    {
      "cell_type": "code",
      "metadata": {
        "id": "z_2jyn2ct0Ay"
      },
      "source": [
        "data1 = data1.replace({\"none\":1, \"completed\":2})"
      ],
      "execution_count": 42,
      "outputs": []
    },
    {
      "cell_type": "code",
      "metadata": {
        "colab": {
          "base_uri": "https://localhost:8080/",
          "height": 0
        },
        "id": "b8zqC4d0t3GR",
        "outputId": "fb863d12-0b00-42f0-8ab5-40ac07fcabd3"
      },
      "source": [
        "sns.heatmap(data1[[\"gender\", \"race/ethnicity\", \"lunch\", \"math score\", \"reading score\", \"writing score\",\"parental level of education\"]].corr(), annot = True, fmt='.1g',\n",
        "            cmap= 'coolwarm', vmin= -0.3, vmax=0.3, center=0, square=True, linewidth=0.7);"
      ],
      "execution_count": 43,
      "outputs": [
        {
          "output_type": "display_data",
          "data": {
            "image/png": "[encoded data removed]",
            "text/plain": [
              "<Figure size 432x288 with 2 Axes>"
            ]
          },
          "metadata": {
            "tags": [],
            "needs_background": "light"
          }
        }
      ]
    },
    {
      "cell_type": "code",
      "metadata": {
        "id": "7FeRuOtsD2ap"
      },
      "source": [
        "data['total score'] = data['math score'] + data['reading score'] + data['writing score']"
      ],
      "execution_count": 44,
      "outputs": []
    },
    {
      "cell_type": "code",
      "metadata": {
        "colab": {
          "base_uri": "https://localhost:8080/",
          "height": 0
        },
        "id": "eY6Q3eK8D5r_",
        "outputId": "5a91a83b-c58c-499c-c3b7-a2fe74ff0c99"
      },
      "source": [
        "data"
      ],
      "execution_count": 45,
      "outputs": [
        {
          "output_type": "execute_result",
          "data": {
            "text/html": [
              "<div>\n",
              "<style scoped>\n",
              "    .dataframe tbody tr th:only-of-type {\n",
              "        vertical-align: middle;\n",
              "    }\n",
              "\n",
              "    .dataframe tbody tr th {\n",
              "        vertical-align: top;\n",
              "    }\n",
              "\n",
              "    .dataframe thead th {\n",
              "        text-align: right;\n",
              "    }\n",
              "</style>\n",
              "<table border=\"1\" class=\"dataframe\">\n",
              "  <thead>\n",
              "    <tr style=\"text-align: right;\">\n",
              "      <th></th>\n",
              "      <th>gender</th>\n",
              "      <th>race/ethnicity</th>\n",
              "      <th>parental level of education</th>\n",
              "      <th>lunch</th>\n",
              "      <th>test preparation course</th>\n",
              "      <th>math score</th>\n",
              "      <th>reading score</th>\n",
              "      <th>writing score</th>\n",
              "      <th>pass_math</th>\n",
              "      <th>pass_read</th>\n",
              "      <th>pass_write</th>\n",
              "      <th>total score</th>\n",
              "    </tr>\n",
              "  </thead>\n",
              "  <tbody>\n",
              "    <tr>\n",
              "      <th>0</th>\n",
              "      <td>female</td>\n",
              "      <td>group B</td>\n",
              "      <td>bachelor's degree</td>\n",
              "      <td>standard</td>\n",
              "      <td>none</td>\n",
              "      <td>72</td>\n",
              "      <td>72</td>\n",
              "      <td>74</td>\n",
              "      <td>P</td>\n",
              "      <td>P</td>\n",
              "      <td>P</td>\n",
              "      <td>218</td>\n",
              "    </tr>\n",
              "    <tr>\n",
              "      <th>1</th>\n",
              "      <td>female</td>\n",
              "      <td>group C</td>\n",
              "      <td>some college</td>\n",
              "      <td>standard</td>\n",
              "      <td>completed</td>\n",
              "      <td>69</td>\n",
              "      <td>90</td>\n",
              "      <td>88</td>\n",
              "      <td>P</td>\n",
              "      <td>P</td>\n",
              "      <td>P</td>\n",
              "      <td>247</td>\n",
              "    </tr>\n",
              "    <tr>\n",
              "      <th>2</th>\n",
              "      <td>female</td>\n",
              "      <td>group B</td>\n",
              "      <td>master's degree</td>\n",
              "      <td>standard</td>\n",
              "      <td>none</td>\n",
              "      <td>90</td>\n",
              "      <td>95</td>\n",
              "      <td>93</td>\n",
              "      <td>P</td>\n",
              "      <td>P</td>\n",
              "      <td>P</td>\n",
              "      <td>278</td>\n",
              "    </tr>\n",
              "    <tr>\n",
              "      <th>3</th>\n",
              "      <td>male</td>\n",
              "      <td>group A</td>\n",
              "      <td>associate's degree</td>\n",
              "      <td>free/reduced</td>\n",
              "      <td>none</td>\n",
              "      <td>47</td>\n",
              "      <td>57</td>\n",
              "      <td>44</td>\n",
              "      <td>P</td>\n",
              "      <td>P</td>\n",
              "      <td>P</td>\n",
              "      <td>148</td>\n",
              "    </tr>\n",
              "    <tr>\n",
              "      <th>4</th>\n",
              "      <td>male</td>\n",
              "      <td>group C</td>\n",
              "      <td>some college</td>\n",
              "      <td>standard</td>\n",
              "      <td>none</td>\n",
              "      <td>76</td>\n",
              "      <td>78</td>\n",
              "      <td>75</td>\n",
              "      <td>P</td>\n",
              "      <td>P</td>\n",
              "      <td>P</td>\n",
              "      <td>229</td>\n",
              "    </tr>\n",
              "    <tr>\n",
              "      <th>...</th>\n",
              "      <td>...</td>\n",
              "      <td>...</td>\n",
              "      <td>...</td>\n",
              "      <td>...</td>\n",
              "      <td>...</td>\n",
              "      <td>...</td>\n",
              "      <td>...</td>\n",
              "      <td>...</td>\n",
              "      <td>...</td>\n",
              "      <td>...</td>\n",
              "      <td>...</td>\n",
              "      <td>...</td>\n",
              "    </tr>\n",
              "    <tr>\n",
              "      <th>995</th>\n",
              "      <td>female</td>\n",
              "      <td>group E</td>\n",
              "      <td>master's degree</td>\n",
              "      <td>standard</td>\n",
              "      <td>completed</td>\n",
              "      <td>88</td>\n",
              "      <td>99</td>\n",
              "      <td>95</td>\n",
              "      <td>P</td>\n",
              "      <td>P</td>\n",
              "      <td>P</td>\n",
              "      <td>282</td>\n",
              "    </tr>\n",
              "    <tr>\n",
              "      <th>996</th>\n",
              "      <td>male</td>\n",
              "      <td>group C</td>\n",
              "      <td>high school</td>\n",
              "      <td>free/reduced</td>\n",
              "      <td>none</td>\n",
              "      <td>62</td>\n",
              "      <td>55</td>\n",
              "      <td>55</td>\n",
              "      <td>P</td>\n",
              "      <td>P</td>\n",
              "      <td>P</td>\n",
              "      <td>172</td>\n",
              "    </tr>\n",
              "    <tr>\n",
              "      <th>997</th>\n",
              "      <td>female</td>\n",
              "      <td>group C</td>\n",
              "      <td>high school</td>\n",
              "      <td>free/reduced</td>\n",
              "      <td>completed</td>\n",
              "      <td>59</td>\n",
              "      <td>71</td>\n",
              "      <td>65</td>\n",
              "      <td>P</td>\n",
              "      <td>P</td>\n",
              "      <td>P</td>\n",
              "      <td>195</td>\n",
              "    </tr>\n",
              "    <tr>\n",
              "      <th>998</th>\n",
              "      <td>female</td>\n",
              "      <td>group D</td>\n",
              "      <td>some college</td>\n",
              "      <td>standard</td>\n",
              "      <td>completed</td>\n",
              "      <td>68</td>\n",
              "      <td>78</td>\n",
              "      <td>77</td>\n",
              "      <td>P</td>\n",
              "      <td>P</td>\n",
              "      <td>P</td>\n",
              "      <td>223</td>\n",
              "    </tr>\n",
              "    <tr>\n",
              "      <th>999</th>\n",
              "      <td>female</td>\n",
              "      <td>group D</td>\n",
              "      <td>some college</td>\n",
              "      <td>free/reduced</td>\n",
              "      <td>none</td>\n",
              "      <td>77</td>\n",
              "      <td>86</td>\n",
              "      <td>86</td>\n",
              "      <td>P</td>\n",
              "      <td>P</td>\n",
              "      <td>P</td>\n",
              "      <td>249</td>\n",
              "    </tr>\n",
              "  </tbody>\n",
              "</table>\n",
              "<p>1000 rows × 12 columns</p>\n",
              "</div>"
            ],
            "text/plain": [
              "     gender race/ethnicity  ... pass_write total score\n",
              "0    female        group B  ...          P         218\n",
              "1    female        group C  ...          P         247\n",
              "2    female        group B  ...          P         278\n",
              "3      male        group A  ...          P         148\n",
              "4      male        group C  ...          P         229\n",
              "..      ...            ...  ...        ...         ...\n",
              "995  female        group E  ...          P         282\n",
              "996    male        group C  ...          P         172\n",
              "997  female        group C  ...          P         195\n",
              "998  female        group D  ...          P         223\n",
              "999  female        group D  ...          P         249\n",
              "\n",
              "[1000 rows x 12 columns]"
            ]
          },
          "metadata": {
            "tags": []
          },
          "execution_count": 45
        }
      ]
    },
    {
      "cell_type": "code",
      "metadata": {
        "colab": {
          "base_uri": "https://localhost:8080/",
          "height": 0
        },
        "id": "sb4VoaHVF95H",
        "outputId": "982242b3-4e56-4ea6-8e0a-e01b06fa6d2c"
      },
      "source": [
        "data.describe(percentiles=[.25, .5, .75])"
      ],
      "execution_count": 46,
      "outputs": [
        {
          "output_type": "execute_result",
          "data": {
            "text/html": [
              "<div>\n",
              "<style scoped>\n",
              "    .dataframe tbody tr th:only-of-type {\n",
              "        vertical-align: middle;\n",
              "    }\n",
              "\n",
              "    .dataframe tbody tr th {\n",
              "        vertical-align: top;\n",
              "    }\n",
              "\n",
              "    .dataframe thead th {\n",
              "        text-align: right;\n",
              "    }\n",
              "</style>\n",
              "<table border=\"1\" class=\"dataframe\">\n",
              "  <thead>\n",
              "    <tr style=\"text-align: right;\">\n",
              "      <th></th>\n",
              "      <th>math score</th>\n",
              "      <th>reading score</th>\n",
              "      <th>writing score</th>\n",
              "      <th>total score</th>\n",
              "    </tr>\n",
              "  </thead>\n",
              "  <tbody>\n",
              "    <tr>\n",
              "      <th>count</th>\n",
              "      <td>1000.00000</td>\n",
              "      <td>1000.000000</td>\n",
              "      <td>1000.000000</td>\n",
              "      <td>1000.000000</td>\n",
              "    </tr>\n",
              "    <tr>\n",
              "      <th>mean</th>\n",
              "      <td>66.08900</td>\n",
              "      <td>69.169000</td>\n",
              "      <td>68.054000</td>\n",
              "      <td>203.312000</td>\n",
              "    </tr>\n",
              "    <tr>\n",
              "      <th>std</th>\n",
              "      <td>15.16308</td>\n",
              "      <td>14.600192</td>\n",
              "      <td>15.195657</td>\n",
              "      <td>42.771978</td>\n",
              "    </tr>\n",
              "    <tr>\n",
              "      <th>min</th>\n",
              "      <td>0.00000</td>\n",
              "      <td>17.000000</td>\n",
              "      <td>10.000000</td>\n",
              "      <td>27.000000</td>\n",
              "    </tr>\n",
              "    <tr>\n",
              "      <th>25%</th>\n",
              "      <td>57.00000</td>\n",
              "      <td>59.000000</td>\n",
              "      <td>57.750000</td>\n",
              "      <td>175.000000</td>\n",
              "    </tr>\n",
              "    <tr>\n",
              "      <th>50%</th>\n",
              "      <td>66.00000</td>\n",
              "      <td>70.000000</td>\n",
              "      <td>69.000000</td>\n",
              "      <td>205.000000</td>\n",
              "    </tr>\n",
              "    <tr>\n",
              "      <th>75%</th>\n",
              "      <td>77.00000</td>\n",
              "      <td>79.000000</td>\n",
              "      <td>79.000000</td>\n",
              "      <td>233.000000</td>\n",
              "    </tr>\n",
              "    <tr>\n",
              "      <th>max</th>\n",
              "      <td>100.00000</td>\n",
              "      <td>100.000000</td>\n",
              "      <td>100.000000</td>\n",
              "      <td>300.000000</td>\n",
              "    </tr>\n",
              "  </tbody>\n",
              "</table>\n",
              "</div>"
            ],
            "text/plain": [
              "       math score  reading score  writing score  total score\n",
              "count  1000.00000    1000.000000    1000.000000  1000.000000\n",
              "mean     66.08900      69.169000      68.054000   203.312000\n",
              "std      15.16308      14.600192      15.195657    42.771978\n",
              "min       0.00000      17.000000      10.000000    27.000000\n",
              "25%      57.00000      59.000000      57.750000   175.000000\n",
              "50%      66.00000      70.000000      69.000000   205.000000\n",
              "75%      77.00000      79.000000      79.000000   233.000000\n",
              "max     100.00000     100.000000     100.000000   300.000000"
            ]
          },
          "metadata": {
            "tags": []
          },
          "execution_count": 46
        }
      ]
    },
    {
      "cell_type": "code",
      "metadata": {
        "colab": {
          "base_uri": "https://localhost:8080/"
        },
        "id": "PugWAOEiEhAj",
        "outputId": "86e30486-c028-4fce-fa53-ff3588d2ba6d"
      },
      "source": [
        "data.quantile(0.75) - data.quantile(0.25)"
      ],
      "execution_count": 47,
      "outputs": [
        {
          "output_type": "execute_result",
          "data": {
            "text/plain": [
              "math score       20.00\n",
              "reading score    20.00\n",
              "writing score    21.25\n",
              "total score      58.00\n",
              "dtype: float64"
            ]
          },
          "metadata": {
            "tags": []
          },
          "execution_count": 47
        }
      ]
    },
    {
      "cell_type": "markdown",
      "metadata": {
        "id": "mSdymW2EGCev"
      },
      "source": [
        "Метрика"
      ]
    },
    {
      "cell_type": "markdown",
      "metadata": {
        "id": "0ze3Fd5RDO6N"
      },
      "source": [
        "#Размах 99 - 25 (Итоговая оценка в разрезе гендера и группы рассовой принадлежности)"
      ]
    },
    {
      "cell_type": "code",
      "metadata": {
        "id": "ZsrUjCVQpRl7"
      },
      "source": [
        "new_frame = data[['gender','race/ethnicity', 'total score']]"
      ],
      "execution_count": 48,
      "outputs": []
    },
    {
      "cell_type": "code",
      "metadata": {
        "colab": {
          "base_uri": "https://localhost:8080/",
          "height": 0
        },
        "id": "GfegpG9tqLns",
        "outputId": "379beaf2-cddc-4c1f-bb19-03f9cbffe345"
      },
      "source": [
        "new_frame"
      ],
      "execution_count": 49,
      "outputs": [
        {
          "output_type": "execute_result",
          "data": {
            "text/html": [
              "<div>\n",
              "<style scoped>\n",
              "    .dataframe tbody tr th:only-of-type {\n",
              "        vertical-align: middle;\n",
              "    }\n",
              "\n",
              "    .dataframe tbody tr th {\n",
              "        vertical-align: top;\n",
              "    }\n",
              "\n",
              "    .dataframe thead th {\n",
              "        text-align: right;\n",
              "    }\n",
              "</style>\n",
              "<table border=\"1\" class=\"dataframe\">\n",
              "  <thead>\n",
              "    <tr style=\"text-align: right;\">\n",
              "      <th></th>\n",
              "      <th>gender</th>\n",
              "      <th>race/ethnicity</th>\n",
              "      <th>total score</th>\n",
              "    </tr>\n",
              "  </thead>\n",
              "  <tbody>\n",
              "    <tr>\n",
              "      <th>0</th>\n",
              "      <td>female</td>\n",
              "      <td>group B</td>\n",
              "      <td>218</td>\n",
              "    </tr>\n",
              "    <tr>\n",
              "      <th>1</th>\n",
              "      <td>female</td>\n",
              "      <td>group C</td>\n",
              "      <td>247</td>\n",
              "    </tr>\n",
              "    <tr>\n",
              "      <th>2</th>\n",
              "      <td>female</td>\n",
              "      <td>group B</td>\n",
              "      <td>278</td>\n",
              "    </tr>\n",
              "    <tr>\n",
              "      <th>3</th>\n",
              "      <td>male</td>\n",
              "      <td>group A</td>\n",
              "      <td>148</td>\n",
              "    </tr>\n",
              "    <tr>\n",
              "      <th>4</th>\n",
              "      <td>male</td>\n",
              "      <td>group C</td>\n",
              "      <td>229</td>\n",
              "    </tr>\n",
              "    <tr>\n",
              "      <th>...</th>\n",
              "      <td>...</td>\n",
              "      <td>...</td>\n",
              "      <td>...</td>\n",
              "    </tr>\n",
              "    <tr>\n",
              "      <th>995</th>\n",
              "      <td>female</td>\n",
              "      <td>group E</td>\n",
              "      <td>282</td>\n",
              "    </tr>\n",
              "    <tr>\n",
              "      <th>996</th>\n",
              "      <td>male</td>\n",
              "      <td>group C</td>\n",
              "      <td>172</td>\n",
              "    </tr>\n",
              "    <tr>\n",
              "      <th>997</th>\n",
              "      <td>female</td>\n",
              "      <td>group C</td>\n",
              "      <td>195</td>\n",
              "    </tr>\n",
              "    <tr>\n",
              "      <th>998</th>\n",
              "      <td>female</td>\n",
              "      <td>group D</td>\n",
              "      <td>223</td>\n",
              "    </tr>\n",
              "    <tr>\n",
              "      <th>999</th>\n",
              "      <td>female</td>\n",
              "      <td>group D</td>\n",
              "      <td>249</td>\n",
              "    </tr>\n",
              "  </tbody>\n",
              "</table>\n",
              "<p>1000 rows × 3 columns</p>\n",
              "</div>"
            ],
            "text/plain": [
              "     gender race/ethnicity  total score\n",
              "0    female        group B          218\n",
              "1    female        group C          247\n",
              "2    female        group B          278\n",
              "3      male        group A          148\n",
              "4      male        group C          229\n",
              "..      ...            ...          ...\n",
              "995  female        group E          282\n",
              "996    male        group C          172\n",
              "997  female        group C          195\n",
              "998  female        group D          223\n",
              "999  female        group D          249\n",
              "\n",
              "[1000 rows x 3 columns]"
            ]
          },
          "metadata": {
            "tags": []
          },
          "execution_count": 49
        }
      ]
    },
    {
      "cell_type": "code",
      "metadata": {
        "colab": {
          "base_uri": "https://localhost:8080/",
          "height": 0
        },
        "id": "QXqQzyo4q8AO",
        "outputId": "69bc7210-5400-4f17-bcef-d982654163e1"
      },
      "source": [
        "metrix_IQR = new_frame.groupby(['gender','race/ethnicity'], as_index=False).agg({'total score':lambda x: list(x)})\n",
        "metrix_IQR"
      ],
      "execution_count": 50,
      "outputs": [
        {
          "output_type": "execute_result",
          "data": {
            "text/html": [
              "<div>\n",
              "<style scoped>\n",
              "    .dataframe tbody tr th:only-of-type {\n",
              "        vertical-align: middle;\n",
              "    }\n",
              "\n",
              "    .dataframe tbody tr th {\n",
              "        vertical-align: top;\n",
              "    }\n",
              "\n",
              "    .dataframe thead th {\n",
              "        text-align: right;\n",
              "    }\n",
              "</style>\n",
              "<table border=\"1\" class=\"dataframe\">\n",
              "  <thead>\n",
              "    <tr style=\"text-align: right;\">\n",
              "      <th></th>\n",
              "      <th>gender</th>\n",
              "      <th>race/ethnicity</th>\n",
              "      <th>total score</th>\n",
              "    </tr>\n",
              "  </thead>\n",
              "  <tbody>\n",
              "    <tr>\n",
              "      <th>0</th>\n",
              "      <td>female</td>\n",
              "      <td>group A</td>\n",
              "      <td>[161, 182, 140, 195, 151, 166, 231, 124, 169, ...</td>\n",
              "    </tr>\n",
              "    <tr>\n",
              "      <th>1</th>\n",
              "      <td>female</td>\n",
              "      <td>group B</td>\n",
              "      <td>[218, 278, 232, 275, 148, 219, 78, 210, 189, 1...</td>\n",
              "    </tr>\n",
              "    <tr>\n",
              "      <th>2</th>\n",
              "      <td>female</td>\n",
              "      <td>group C</td>\n",
              "      <td>[247, 222, 173, 215, 211, 199, 213, 242, 117, ...</td>\n",
              "    </tr>\n",
              "    <tr>\n",
              "      <th>3</th>\n",
              "      <td>female</td>\n",
              "      <td>group D</td>\n",
              "      <td>[207, 217, 238, 173, 253, 207, 176, 194, 207, ...</td>\n",
              "    </tr>\n",
              "    <tr>\n",
              "      <th>4</th>\n",
              "      <td>female</td>\n",
              "      <td>group E</td>\n",
              "      <td>[193, 160, 253, 198, 205, 299, 151, 218, 248, ...</td>\n",
              "    </tr>\n",
              "    <tr>\n",
              "      <th>5</th>\n",
              "      <td>male</td>\n",
              "      <td>group A</td>\n",
              "      <td>[148, 220, 219, 112, 178, 239, 151, 154, 147, ...</td>\n",
              "    </tr>\n",
              "    <tr>\n",
              "      <th>6</th>\n",
              "      <td>male</td>\n",
              "      <td>group B</td>\n",
              "      <td>[122, 178, 170, 190, 176, 192, 175, 123, 139, ...</td>\n",
              "    </tr>\n",
              "    <tr>\n",
              "      <th>7</th>\n",
              "      <td>male</td>\n",
              "      <td>group C</td>\n",
              "      <td>[229, 164, 263, 134, 205, 170, 248, 139, 174, ...</td>\n",
              "    </tr>\n",
              "    <tr>\n",
              "      <th>8</th>\n",
              "      <td>male</td>\n",
              "      <td>group D</td>\n",
              "      <td>[195, 135, 198, 151, 225, 120, 241, 156, 175, ...</td>\n",
              "    </tr>\n",
              "    <tr>\n",
              "      <th>9</th>\n",
              "      <td>male</td>\n",
              "      <td>group E</td>\n",
              "      <td>[266, 241, 156, 214, 225, 78, 199, 193, 236, 2...</td>\n",
              "    </tr>\n",
              "  </tbody>\n",
              "</table>\n",
              "</div>"
            ],
            "text/plain": [
              "   gender race/ethnicity                                        total score\n",
              "0  female        group A  [161, 182, 140, 195, 151, 166, 231, 124, 169, ...\n",
              "1  female        group B  [218, 278, 232, 275, 148, 219, 78, 210, 189, 1...\n",
              "2  female        group C  [247, 222, 173, 215, 211, 199, 213, 242, 117, ...\n",
              "3  female        group D  [207, 217, 238, 173, 253, 207, 176, 194, 207, ...\n",
              "4  female        group E  [193, 160, 253, 198, 205, 299, 151, 218, 248, ...\n",
              "5    male        group A  [148, 220, 219, 112, 178, 239, 151, 154, 147, ...\n",
              "6    male        group B  [122, 178, 170, 190, 176, 192, 175, 123, 139, ...\n",
              "7    male        group C  [229, 164, 263, 134, 205, 170, 248, 139, 174, ...\n",
              "8    male        group D  [195, 135, 198, 151, 225, 120, 241, 156, 175, ...\n",
              "9    male        group E  [266, 241, 156, 214, 225, 78, 199, 193, 236, 2..."
            ]
          },
          "metadata": {
            "tags": []
          },
          "execution_count": 50
        }
      ]
    },
    {
      "cell_type": "code",
      "metadata": {
        "colab": {
          "base_uri": "https://localhost:8080/"
        },
        "id": "BHQqEY8rrN8Z",
        "outputId": "b97495be-3734-40da-b59e-d6a1e96b9532"
      },
      "source": [
        "c75 = []\n",
        "c25 = []\n",
        "for i in metrix_IQR['total score']:\n",
        "  ds = pd.Series(i)\n",
        "  c75.append(ds.quantile([.99]))\n",
        "  c25.append(ds.quantile([.25]))\n",
        "c25"
      ],
      "execution_count": 51,
      "outputs": [
        {
          "output_type": "execute_result",
          "data": {
            "text/plain": [
              "[0.25    165.25\n",
              " dtype: float64, 0.25    184.0\n",
              " dtype: float64, 0.25    178.75\n",
              " dtype: float64, 0.25    187.0\n",
              " dtype: float64, 0.25    198.0\n",
              " dtype: float64, 0.25    154.0\n",
              " dtype: float64, 0.25    157.0\n",
              " dtype: float64, 0.25    168.0\n",
              " dtype: float64, 0.25    173.0\n",
              " dtype: float64, 0.25    192.0\n",
              " dtype: float64]"
            ]
          },
          "metadata": {
            "tags": []
          },
          "execution_count": 51
        }
      ]
    },
    {
      "cell_type": "code",
      "metadata": {
        "id": "-WD-NdxWtWQy"
      },
      "source": [
        "quantile99 = pd.DataFrame(c75)\n",
        "quantile25 = pd.DataFrame(c25)\n",
        "quantile99.rename(columns = {0.99:'q99'}, inplace = True)\n",
        "quantile25.rename(columns = {0.25:'q25'}, inplace = True)"
      ],
      "execution_count": 52,
      "outputs": []
    },
    {
      "cell_type": "code",
      "metadata": {
        "colab": {
          "base_uri": "https://localhost:8080/",
          "height": 0
        },
        "id": "lSqgYYDlthxr",
        "outputId": "eaf2d812-886c-455b-f4ba-b7bf5fa86b4a"
      },
      "source": [
        "metrix_IQR_new = pd.concat([metrix_IQR ,quantile99,quantile25],axis = 1)\n",
        "metrix_IQR_new"
      ],
      "execution_count": 53,
      "outputs": [
        {
          "output_type": "execute_result",
          "data": {
            "text/html": [
              "<div>\n",
              "<style scoped>\n",
              "    .dataframe tbody tr th:only-of-type {\n",
              "        vertical-align: middle;\n",
              "    }\n",
              "\n",
              "    .dataframe tbody tr th {\n",
              "        vertical-align: top;\n",
              "    }\n",
              "\n",
              "    .dataframe thead th {\n",
              "        text-align: right;\n",
              "    }\n",
              "</style>\n",
              "<table border=\"1\" class=\"dataframe\">\n",
              "  <thead>\n",
              "    <tr style=\"text-align: right;\">\n",
              "      <th></th>\n",
              "      <th>gender</th>\n",
              "      <th>race/ethnicity</th>\n",
              "      <th>total score</th>\n",
              "      <th>q99</th>\n",
              "      <th>q25</th>\n",
              "    </tr>\n",
              "  </thead>\n",
              "  <tbody>\n",
              "    <tr>\n",
              "      <th>0</th>\n",
              "      <td>female</td>\n",
              "      <td>group A</td>\n",
              "      <td>[161, 182, 140, 195, 151, 166, 231, 124, 169, ...</td>\n",
              "      <td>281.65</td>\n",
              "      <td>165.25</td>\n",
              "    </tr>\n",
              "    <tr>\n",
              "      <th>1</th>\n",
              "      <td>female</td>\n",
              "      <td>group B</td>\n",
              "      <td>[218, 278, 232, 275, 148, 219, 78, 210, 189, 1...</td>\n",
              "      <td>277.91</td>\n",
              "      <td>184.00</td>\n",
              "    </tr>\n",
              "    <tr>\n",
              "      <th>2</th>\n",
              "      <td>female</td>\n",
              "      <td>group C</td>\n",
              "      <td>[247, 222, 173, 215, 211, 199, 213, 242, 117, ...</td>\n",
              "      <td>291.00</td>\n",
              "      <td>178.75</td>\n",
              "    </tr>\n",
              "    <tr>\n",
              "      <th>3</th>\n",
              "      <td>female</td>\n",
              "      <td>group D</td>\n",
              "      <td>[207, 217, 238, 173, 253, 207, 176, 194, 207, ...</td>\n",
              "      <td>295.88</td>\n",
              "      <td>187.00</td>\n",
              "    </tr>\n",
              "    <tr>\n",
              "      <th>4</th>\n",
              "      <td>female</td>\n",
              "      <td>group E</td>\n",
              "      <td>[193, 160, 253, 198, 205, 299, 151, 218, 248, ...</td>\n",
              "      <td>300.00</td>\n",
              "      <td>198.00</td>\n",
              "    </tr>\n",
              "    <tr>\n",
              "      <th>5</th>\n",
              "      <td>male</td>\n",
              "      <td>group A</td>\n",
              "      <td>[148, 220, 219, 112, 178, 239, 151, 154, 147, ...</td>\n",
              "      <td>280.44</td>\n",
              "      <td>154.00</td>\n",
              "    </tr>\n",
              "    <tr>\n",
              "      <th>6</th>\n",
              "      <td>male</td>\n",
              "      <td>group B</td>\n",
              "      <td>[122, 178, 170, 190, 176, 192, 175, 123, 139, ...</td>\n",
              "      <td>272.90</td>\n",
              "      <td>157.00</td>\n",
              "    </tr>\n",
              "    <tr>\n",
              "      <th>7</th>\n",
              "      <td>male</td>\n",
              "      <td>group C</td>\n",
              "      <td>[229, 164, 263, 134, 205, 170, 248, 139, 174, ...</td>\n",
              "      <td>279.86</td>\n",
              "      <td>168.00</td>\n",
              "    </tr>\n",
              "    <tr>\n",
              "      <th>8</th>\n",
              "      <td>male</td>\n",
              "      <td>group D</td>\n",
              "      <td>[195, 135, 198, 151, 225, 120, 241, 156, 175, ...</td>\n",
              "      <td>262.68</td>\n",
              "      <td>173.00</td>\n",
              "    </tr>\n",
              "    <tr>\n",
              "      <th>9</th>\n",
              "      <td>male</td>\n",
              "      <td>group E</td>\n",
              "      <td>[266, 241, 156, 214, 225, 78, 199, 193, 236, 2...</td>\n",
              "      <td>295.10</td>\n",
              "      <td>192.00</td>\n",
              "    </tr>\n",
              "  </tbody>\n",
              "</table>\n",
              "</div>"
            ],
            "text/plain": [
              "   gender race/ethnicity  ...     q99     q25\n",
              "0  female        group A  ...  281.65  165.25\n",
              "1  female        group B  ...  277.91  184.00\n",
              "2  female        group C  ...  291.00  178.75\n",
              "3  female        group D  ...  295.88  187.00\n",
              "4  female        group E  ...  300.00  198.00\n",
              "5    male        group A  ...  280.44  154.00\n",
              "6    male        group B  ...  272.90  157.00\n",
              "7    male        group C  ...  279.86  168.00\n",
              "8    male        group D  ...  262.68  173.00\n",
              "9    male        group E  ...  295.10  192.00\n",
              "\n",
              "[10 rows x 5 columns]"
            ]
          },
          "metadata": {
            "tags": []
          },
          "execution_count": 53
        }
      ]
    },
    {
      "cell_type": "code",
      "metadata": {
        "colab": {
          "base_uri": "https://localhost:8080/"
        },
        "id": "U6XJiYPltxgO",
        "outputId": "ce70c550-a054-43c0-80e4-3f688df08347"
      },
      "source": [
        "metrix_IQR_new = metrix_IQR_new.drop(['total score'], axis = 1)\n",
        "metrix_IQR_new.columns.tolist()"
      ],
      "execution_count": 54,
      "outputs": [
        {
          "output_type": "execute_result",
          "data": {
            "text/plain": [
              "['gender', 'race/ethnicity', 'q99', 'q25']"
            ]
          },
          "metadata": {
            "tags": []
          },
          "execution_count": 54
        }
      ]
    },
    {
      "cell_type": "code",
      "metadata": {
        "colab": {
          "base_uri": "https://localhost:8080/",
          "height": 0
        },
        "id": "ap-zEgt4t6RN",
        "outputId": "e99e5b2a-200e-454c-b215-18702a629c90"
      },
      "source": [
        "metrix_IQR_new['Raz'] = metrix_IQR_new['q99'] - metrix_IQR_new['q25'] \n",
        "metrix_IQR_new = metrix_IQR_new.drop(['q99', 'q25'], axis = 1)\n",
        "metrix_IQR_new"
      ],
      "execution_count": 55,
      "outputs": [
        {
          "output_type": "execute_result",
          "data": {
            "text/html": [
              "<div>\n",
              "<style scoped>\n",
              "    .dataframe tbody tr th:only-of-type {\n",
              "        vertical-align: middle;\n",
              "    }\n",
              "\n",
              "    .dataframe tbody tr th {\n",
              "        vertical-align: top;\n",
              "    }\n",
              "\n",
              "    .dataframe thead th {\n",
              "        text-align: right;\n",
              "    }\n",
              "</style>\n",
              "<table border=\"1\" class=\"dataframe\">\n",
              "  <thead>\n",
              "    <tr style=\"text-align: right;\">\n",
              "      <th></th>\n",
              "      <th>gender</th>\n",
              "      <th>race/ethnicity</th>\n",
              "      <th>Raz</th>\n",
              "    </tr>\n",
              "  </thead>\n",
              "  <tbody>\n",
              "    <tr>\n",
              "      <th>0</th>\n",
              "      <td>female</td>\n",
              "      <td>group A</td>\n",
              "      <td>116.40</td>\n",
              "    </tr>\n",
              "    <tr>\n",
              "      <th>1</th>\n",
              "      <td>female</td>\n",
              "      <td>group B</td>\n",
              "      <td>93.91</td>\n",
              "    </tr>\n",
              "    <tr>\n",
              "      <th>2</th>\n",
              "      <td>female</td>\n",
              "      <td>group C</td>\n",
              "      <td>112.25</td>\n",
              "    </tr>\n",
              "    <tr>\n",
              "      <th>3</th>\n",
              "      <td>female</td>\n",
              "      <td>group D</td>\n",
              "      <td>108.88</td>\n",
              "    </tr>\n",
              "    <tr>\n",
              "      <th>4</th>\n",
              "      <td>female</td>\n",
              "      <td>group E</td>\n",
              "      <td>102.00</td>\n",
              "    </tr>\n",
              "    <tr>\n",
              "      <th>5</th>\n",
              "      <td>male</td>\n",
              "      <td>group A</td>\n",
              "      <td>126.44</td>\n",
              "    </tr>\n",
              "    <tr>\n",
              "      <th>6</th>\n",
              "      <td>male</td>\n",
              "      <td>group B</td>\n",
              "      <td>115.90</td>\n",
              "    </tr>\n",
              "    <tr>\n",
              "      <th>7</th>\n",
              "      <td>male</td>\n",
              "      <td>group C</td>\n",
              "      <td>111.86</td>\n",
              "    </tr>\n",
              "    <tr>\n",
              "      <th>8</th>\n",
              "      <td>male</td>\n",
              "      <td>group D</td>\n",
              "      <td>89.68</td>\n",
              "    </tr>\n",
              "    <tr>\n",
              "      <th>9</th>\n",
              "      <td>male</td>\n",
              "      <td>group E</td>\n",
              "      <td>103.10</td>\n",
              "    </tr>\n",
              "  </tbody>\n",
              "</table>\n",
              "</div>"
            ],
            "text/plain": [
              "   gender race/ethnicity     Raz\n",
              "0  female        group A  116.40\n",
              "1  female        group B   93.91\n",
              "2  female        group C  112.25\n",
              "3  female        group D  108.88\n",
              "4  female        group E  102.00\n",
              "5    male        group A  126.44\n",
              "6    male        group B  115.90\n",
              "7    male        group C  111.86\n",
              "8    male        group D   89.68\n",
              "9    male        group E  103.10"
            ]
          },
          "metadata": {
            "tags": []
          },
          "execution_count": 55
        }
      ]
    },
    {
      "cell_type": "code",
      "metadata": {
        "colab": {
          "base_uri": "https://localhost:8080/",
          "height": 0
        },
        "id": "XwrJhvAIqj9C",
        "outputId": "a4927c8f-6e26-43cd-acd6-ea1ecf5094a8"
      },
      "source": [
        "sorted_df = metrix_IQR_new.sort_values(by='Raz', ascending=False)\n",
        "sorted_df"
      ],
      "execution_count": 56,
      "outputs": [
        {
          "output_type": "execute_result",
          "data": {
            "text/html": [
              "<div>\n",
              "<style scoped>\n",
              "    .dataframe tbody tr th:only-of-type {\n",
              "        vertical-align: middle;\n",
              "    }\n",
              "\n",
              "    .dataframe tbody tr th {\n",
              "        vertical-align: top;\n",
              "    }\n",
              "\n",
              "    .dataframe thead th {\n",
              "        text-align: right;\n",
              "    }\n",
              "</style>\n",
              "<table border=\"1\" class=\"dataframe\">\n",
              "  <thead>\n",
              "    <tr style=\"text-align: right;\">\n",
              "      <th></th>\n",
              "      <th>gender</th>\n",
              "      <th>race/ethnicity</th>\n",
              "      <th>Raz</th>\n",
              "    </tr>\n",
              "  </thead>\n",
              "  <tbody>\n",
              "    <tr>\n",
              "      <th>5</th>\n",
              "      <td>male</td>\n",
              "      <td>group A</td>\n",
              "      <td>126.44</td>\n",
              "    </tr>\n",
              "    <tr>\n",
              "      <th>0</th>\n",
              "      <td>female</td>\n",
              "      <td>group A</td>\n",
              "      <td>116.40</td>\n",
              "    </tr>\n",
              "    <tr>\n",
              "      <th>6</th>\n",
              "      <td>male</td>\n",
              "      <td>group B</td>\n",
              "      <td>115.90</td>\n",
              "    </tr>\n",
              "    <tr>\n",
              "      <th>2</th>\n",
              "      <td>female</td>\n",
              "      <td>group C</td>\n",
              "      <td>112.25</td>\n",
              "    </tr>\n",
              "    <tr>\n",
              "      <th>7</th>\n",
              "      <td>male</td>\n",
              "      <td>group C</td>\n",
              "      <td>111.86</td>\n",
              "    </tr>\n",
              "    <tr>\n",
              "      <th>3</th>\n",
              "      <td>female</td>\n",
              "      <td>group D</td>\n",
              "      <td>108.88</td>\n",
              "    </tr>\n",
              "    <tr>\n",
              "      <th>9</th>\n",
              "      <td>male</td>\n",
              "      <td>group E</td>\n",
              "      <td>103.10</td>\n",
              "    </tr>\n",
              "    <tr>\n",
              "      <th>4</th>\n",
              "      <td>female</td>\n",
              "      <td>group E</td>\n",
              "      <td>102.00</td>\n",
              "    </tr>\n",
              "    <tr>\n",
              "      <th>1</th>\n",
              "      <td>female</td>\n",
              "      <td>group B</td>\n",
              "      <td>93.91</td>\n",
              "    </tr>\n",
              "    <tr>\n",
              "      <th>8</th>\n",
              "      <td>male</td>\n",
              "      <td>group D</td>\n",
              "      <td>89.68</td>\n",
              "    </tr>\n",
              "  </tbody>\n",
              "</table>\n",
              "</div>"
            ],
            "text/plain": [
              "   gender race/ethnicity     Raz\n",
              "5    male        group A  126.44\n",
              "0  female        group A  116.40\n",
              "6    male        group B  115.90\n",
              "2  female        group C  112.25\n",
              "7    male        group C  111.86\n",
              "3  female        group D  108.88\n",
              "9    male        group E  103.10\n",
              "4  female        group E  102.00\n",
              "1  female        group B   93.91\n",
              "8    male        group D   89.68"
            ]
          },
          "metadata": {
            "tags": []
          },
          "execution_count": 56
        }
      ]
    },
    {
      "cell_type": "markdown",
      "metadata": {
        "id": "2zqhBN8fDKV0"
      },
      "source": [
        "##1 вариант гистограммы"
      ]
    },
    {
      "cell_type": "code",
      "metadata": {
        "colab": {
          "base_uri": "https://localhost:8080/",
          "height": 0
        },
        "id": "AdnZj9N_uDjZ",
        "outputId": "afbdce7b-ed1f-4fee-b5c9-ae85cba6d144"
      },
      "source": [
        "%matplotlib inline\n",
        "\n",
        "gender = metrix_IQR_new['gender']\n",
        "segment = ['female', 'male']\n",
        "fig = go.Figure()\n",
        "\n",
        "fig.add_trace(go.Bar(\n",
        "    x = segment,\n",
        "    y = [62.00, 55.00],\n",
        "    name = 'group A',\n",
        "    marker_color = 'LightSkyBlue'\n",
        "))\n",
        "fig.add_trace(go.Bar(\n",
        "    x = segment,\n",
        "    y = [48.25,58.25],\n",
        "    name = 'group B',\n",
        "    marker_color = 'Red'\n",
        "))\n",
        "fig.add_trace(go.Bar(\n",
        "    x = segment,\n",
        "    y = [53.25, 55.50],\n",
        "    name = 'group C',\n",
        "    marker_color = 'lightgreen'\n",
        "))\n",
        "fig.add_trace(go.Bar(\n",
        "    x = segment,\n",
        "    y = [52.00, 55.00],\n",
        "    name = 'group D',\n",
        "    marker_color = 'pink'\n",
        "))\n",
        "fig.add_trace(go.Bar(\n",
        "    x = segment,\n",
        "    y = [59.00, 49.00],\n",
        "    name = 'group E',\n",
        "    marker_color = 'MediumPurple'\n",
        "))\n",
        "fig.update_layout(barmode = 'group',\n",
        "                  title='IQR Graf',\n",
        "                  xaxis=dict(\n",
        "                      title='Segment',\n",
        "                      titlefont=dict(\n",
        "                          family='Courier New, monospace',\n",
        "                          color='#7f7f7f'\n",
        "                      )\n",
        "                  ),\n",
        "                  yaxis=dict(\n",
        "                      title='IQR',\n",
        "                      titlefont=dict(\n",
        "                          family='Courier New, monospace',\n",
        "                          color='#7f7f7f'\n",
        "                      )\n",
        "                  ))\n",
        "fig.show()"
      ],
      "execution_count": 57,
      "outputs": [
        {
          "output_type": "display_data",
          "data": {
            "text/html": [
              "<html>\n",
              "<head><meta charset=\"utf-8\" /></head>\n",
              "<body>\n",
              "    <div>\n",
              "            <script src=\"https://cdnjs.cloudflare.com/ajax/libs/mathjax/2.7.5/MathJax.js?config=TeX-AMS-MML_SVG\"></script><script type=\"text/javascript\">if (window.MathJax) {MathJax.Hub.Config({SVG: {font: \"STIX-Web\"}});}</script>\n",
              "                <script type=\"text/javascript\">window.PlotlyConfig = {MathJaxConfig: 'local'};</script>\n",
              "        <script src=\"https://cdn.plot.ly/plotly-latest.min.js\"></script>    \n",
              "            <div id=\"5fe85c95-78ab-48e1-9208-946fe5af676a\" class=\"plotly-graph-div\" style=\"height:525px; width:100%;\"></div>\n",
              "            <script type=\"text/javascript\">\n",
              "                \n",
              "                    window.PLOTLYENV=window.PLOTLYENV || {};\n",
              "                    \n",
              "                if (document.getElementById(\"5fe85c95-78ab-48e1-9208-946fe5af676a\")) {\n",
              "                    Plotly.newPlot(\n",
              "                        '5fe85c95-78ab-48e1-9208-946fe5af676a',\n",
              "                        [{\"marker\": {\"color\": \"LightSkyBlue\"}, \"name\": \"group A\", \"type\": \"bar\", \"x\": [\"female\", \"male\"], \"y\": [62.0, 55.0]}, {\"marker\": {\"color\": \"Red\"}, \"name\": \"group B\", \"type\": \"bar\", \"x\": [\"female\", \"male\"], \"y\": [48.25, 58.25]}, {\"marker\": {\"color\": \"lightgreen\"}, \"name\": \"group C\", \"type\": \"bar\", \"x\": [\"female\", \"male\"], \"y\": [53.25, 55.5]}, {\"marker\": {\"color\": \"pink\"}, \"name\": \"group D\", \"type\": \"bar\", \"x\": [\"female\", \"male\"], \"y\": [52.0, 55.0]}, {\"marker\": {\"color\": \"MediumPurple\"}, \"name\": \"group E\", \"type\": \"bar\", \"x\": [\"female\", \"male\"], \"y\": [59.0, 49.0]}],\n",
              "                        {\"barmode\": \"group\", \"template\": {\"data\": {\"bar\": [{\"error_x\": {\"color\": \"#2a3f5f\"}, \"error_y\": {\"color\": \"#2a3f5f\"}, \"marker\": {\"line\": {\"color\": \"#E5ECF6\", \"width\": 0.5}}, \"type\": \"bar\"}], \"barpolar\": [{\"marker\": {\"line\": {\"color\": \"#E5ECF6\", \"width\": 0.5}}, \"type\": \"barpolar\"}], \"carpet\": [{\"aaxis\": {\"endlinecolor\": \"#2a3f5f\", \"gridcolor\": \"white\", \"linecolor\": \"white\", \"minorgridcolor\": \"white\", \"startlinecolor\": \"#2a3f5f\"}, \"baxis\": {\"endlinecolor\": \"#2a3f5f\", \"gridcolor\": \"white\", \"linecolor\": \"white\", \"minorgridcolor\": \"white\", \"startlinecolor\": \"#2a3f5f\"}, \"type\": \"carpet\"}], \"choropleth\": [{\"colorbar\": {\"outlinewidth\": 0, \"ticks\": \"\"}, \"type\": \"choropleth\"}], \"contour\": [{\"colorbar\": {\"outlinewidth\": 0, \"ticks\": \"\"}, \"colorscale\": [[0.0, \"#0d0887\"], [0.1111111111111111, \"#46039f\"], [0.2222222222222222, \"#7201a8\"], [0.3333333333333333, \"#9c179e\"], [0.4444444444444444, \"#bd3786\"], [0.5555555555555556, \"#d8576b\"], [0.6666666666666666, \"#ed7953\"], [0.7777777777777778, \"#fb9f3a\"], [0.8888888888888888, \"#fdca26\"], [1.0, \"#f0f921\"]], \"type\": \"contour\"}], \"contourcarpet\": [{\"colorbar\": {\"outlinewidth\": 0, \"ticks\": \"\"}, \"type\": \"contourcarpet\"}], \"heatmap\": [{\"colorbar\": {\"outlinewidth\": 0, \"ticks\": \"\"}, \"colorscale\": [[0.0, \"#0d0887\"], [0.1111111111111111, \"#46039f\"], [0.2222222222222222, \"#7201a8\"], [0.3333333333333333, \"#9c179e\"], [0.4444444444444444, \"#bd3786\"], [0.5555555555555556, \"#d8576b\"], [0.6666666666666666, \"#ed7953\"], [0.7777777777777778, \"#fb9f3a\"], [0.8888888888888888, \"#fdca26\"], [1.0, \"#f0f921\"]], \"type\": \"heatmap\"}], \"heatmapgl\": [{\"colorbar\": {\"outlinewidth\": 0, \"ticks\": \"\"}, \"colorscale\": [[0.0, \"#0d0887\"], [0.1111111111111111, \"#46039f\"], [0.2222222222222222, \"#7201a8\"], [0.3333333333333333, \"#9c179e\"], [0.4444444444444444, \"#bd3786\"], [0.5555555555555556, \"#d8576b\"], [0.6666666666666666, \"#ed7953\"], [0.7777777777777778, \"#fb9f3a\"], [0.8888888888888888, \"#fdca26\"], [1.0, \"#f0f921\"]], \"type\": \"heatmapgl\"}], \"histogram\": [{\"marker\": {\"colorbar\": {\"outlinewidth\": 0, \"ticks\": \"\"}}, \"type\": \"histogram\"}], \"histogram2d\": [{\"colorbar\": {\"outlinewidth\": 0, \"ticks\": \"\"}, \"colorscale\": [[0.0, \"#0d0887\"], [0.1111111111111111, \"#46039f\"], [0.2222222222222222, \"#7201a8\"], [0.3333333333333333, \"#9c179e\"], [0.4444444444444444, \"#bd3786\"], [0.5555555555555556, \"#d8576b\"], [0.6666666666666666, \"#ed7953\"], [0.7777777777777778, \"#fb9f3a\"], [0.8888888888888888, \"#fdca26\"], [1.0, \"#f0f921\"]], \"type\": \"histogram2d\"}], \"histogram2dcontour\": [{\"colorbar\": {\"outlinewidth\": 0, \"ticks\": \"\"}, \"colorscale\": [[0.0, \"#0d0887\"], [0.1111111111111111, \"#46039f\"], [0.2222222222222222, \"#7201a8\"], [0.3333333333333333, \"#9c179e\"], [0.4444444444444444, \"#bd3786\"], [0.5555555555555556, \"#d8576b\"], [0.6666666666666666, \"#ed7953\"], [0.7777777777777778, \"#fb9f3a\"], [0.8888888888888888, \"#fdca26\"], [1.0, \"#f0f921\"]], \"type\": \"histogram2dcontour\"}], \"mesh3d\": [{\"colorbar\": {\"outlinewidth\": 0, \"ticks\": \"\"}, \"type\": \"mesh3d\"}], \"parcoords\": [{\"line\": {\"colorbar\": {\"outlinewidth\": 0, \"ticks\": \"\"}}, \"type\": \"parcoords\"}], \"pie\": [{\"automargin\": true, \"type\": \"pie\"}], \"scatter\": [{\"marker\": {\"colorbar\": {\"outlinewidth\": 0, \"ticks\": \"\"}}, \"type\": \"scatter\"}], \"scatter3d\": [{\"line\": {\"colorbar\": {\"outlinewidth\": 0, \"ticks\": \"\"}}, \"marker\": {\"colorbar\": {\"outlinewidth\": 0, \"ticks\": \"\"}}, \"type\": \"scatter3d\"}], \"scattercarpet\": [{\"marker\": {\"colorbar\": {\"outlinewidth\": 0, \"ticks\": \"\"}}, \"type\": \"scattercarpet\"}], \"scattergeo\": [{\"marker\": {\"colorbar\": {\"outlinewidth\": 0, \"ticks\": \"\"}}, \"type\": \"scattergeo\"}], \"scattergl\": [{\"marker\": {\"colorbar\": {\"outlinewidth\": 0, \"ticks\": \"\"}}, \"type\": \"scattergl\"}], \"scattermapbox\": [{\"marker\": {\"colorbar\": {\"outlinewidth\": 0, \"ticks\": \"\"}}, \"type\": \"scattermapbox\"}], \"scatterpolar\": [{\"marker\": {\"colorbar\": {\"outlinewidth\": 0, \"ticks\": \"\"}}, \"type\": \"scatterpolar\"}], \"scatterpolargl\": [{\"marker\": {\"colorbar\": {\"outlinewidth\": 0, \"ticks\": \"\"}}, \"type\": \"scatterpolargl\"}], \"scatterternary\": [{\"marker\": {\"colorbar\": {\"outlinewidth\": 0, \"ticks\": \"\"}}, \"type\": \"scatterternary\"}], \"surface\": [{\"colorbar\": {\"outlinewidth\": 0, \"ticks\": \"\"}, \"colorscale\": [[0.0, \"#0d0887\"], [0.1111111111111111, \"#46039f\"], [0.2222222222222222, \"#7201a8\"], [0.3333333333333333, \"#9c179e\"], [0.4444444444444444, \"#bd3786\"], [0.5555555555555556, \"#d8576b\"], [0.6666666666666666, \"#ed7953\"], [0.7777777777777778, \"#fb9f3a\"], [0.8888888888888888, \"#fdca26\"], [1.0, \"#f0f921\"]], \"type\": \"surface\"}], \"table\": [{\"cells\": {\"fill\": {\"color\": \"#EBF0F8\"}, \"line\": {\"color\": \"white\"}}, \"header\": {\"fill\": {\"color\": \"#C8D4E3\"}, \"line\": {\"color\": \"white\"}}, \"type\": \"table\"}]}, \"layout\": {\"annotationdefaults\": {\"arrowcolor\": \"#2a3f5f\", \"arrowhead\": 0, \"arrowwidth\": 1}, \"coloraxis\": {\"colorbar\": {\"outlinewidth\": 0, \"ticks\": \"\"}}, \"colorscale\": {\"diverging\": [[0, \"#8e0152\"], [0.1, \"#c51b7d\"], [0.2, \"#de77ae\"], [0.3, \"#f1b6da\"], [0.4, \"#fde0ef\"], [0.5, \"#f7f7f7\"], [0.6, \"#e6f5d0\"], [0.7, \"#b8e186\"], [0.8, \"#7fbc41\"], [0.9, \"#4d9221\"], [1, \"#276419\"]], \"sequential\": [[0.0, \"#0d0887\"], [0.1111111111111111, \"#46039f\"], [0.2222222222222222, \"#7201a8\"], [0.3333333333333333, \"#9c179e\"], [0.4444444444444444, \"#bd3786\"], [0.5555555555555556, \"#d8576b\"], [0.6666666666666666, \"#ed7953\"], [0.7777777777777778, \"#fb9f3a\"], [0.8888888888888888, \"#fdca26\"], [1.0, \"#f0f921\"]], \"sequentialminus\": [[0.0, \"#0d0887\"], [0.1111111111111111, \"#46039f\"], [0.2222222222222222, \"#7201a8\"], [0.3333333333333333, \"#9c179e\"], [0.4444444444444444, \"#bd3786\"], [0.5555555555555556, \"#d8576b\"], [0.6666666666666666, \"#ed7953\"], [0.7777777777777778, \"#fb9f3a\"], [0.8888888888888888, \"#fdca26\"], [1.0, \"#f0f921\"]]}, \"colorway\": [\"#636efa\", \"#EF553B\", \"#00cc96\", \"#ab63fa\", \"#FFA15A\", \"#19d3f3\", \"#FF6692\", \"#B6E880\", \"#FF97FF\", \"#FECB52\"], \"font\": {\"color\": \"#2a3f5f\"}, \"geo\": {\"bgcolor\": \"white\", \"lakecolor\": \"white\", \"landcolor\": \"#E5ECF6\", \"showlakes\": true, \"showland\": true, \"subunitcolor\": \"white\"}, \"hoverlabel\": {\"align\": \"left\"}, \"hovermode\": \"closest\", \"mapbox\": {\"style\": \"light\"}, \"paper_bgcolor\": \"white\", \"plot_bgcolor\": \"#E5ECF6\", \"polar\": {\"angularaxis\": {\"gridcolor\": \"white\", \"linecolor\": \"white\", \"ticks\": \"\"}, \"bgcolor\": \"#E5ECF6\", \"radialaxis\": {\"gridcolor\": \"white\", \"linecolor\": \"white\", \"ticks\": \"\"}}, \"scene\": {\"xaxis\": {\"backgroundcolor\": \"#E5ECF6\", \"gridcolor\": \"white\", \"gridwidth\": 2, \"linecolor\": \"white\", \"showbackground\": true, \"ticks\": \"\", \"zerolinecolor\": \"white\"}, \"yaxis\": {\"backgroundcolor\": \"#E5ECF6\", \"gridcolor\": \"white\", \"gridwidth\": 2, \"linecolor\": \"white\", \"showbackground\": true, \"ticks\": \"\", \"zerolinecolor\": \"white\"}, \"zaxis\": {\"backgroundcolor\": \"#E5ECF6\", \"gridcolor\": \"white\", \"gridwidth\": 2, \"linecolor\": \"white\", \"showbackground\": true, \"ticks\": \"\", \"zerolinecolor\": \"white\"}}, \"shapedefaults\": {\"line\": {\"color\": \"#2a3f5f\"}}, \"ternary\": {\"aaxis\": {\"gridcolor\": \"white\", \"linecolor\": \"white\", \"ticks\": \"\"}, \"baxis\": {\"gridcolor\": \"white\", \"linecolor\": \"white\", \"ticks\": \"\"}, \"bgcolor\": \"#E5ECF6\", \"caxis\": {\"gridcolor\": \"white\", \"linecolor\": \"white\", \"ticks\": \"\"}}, \"title\": {\"x\": 0.05}, \"xaxis\": {\"automargin\": true, \"gridcolor\": \"white\", \"linecolor\": \"white\", \"ticks\": \"\", \"title\": {\"standoff\": 15}, \"zerolinecolor\": \"white\", \"zerolinewidth\": 2}, \"yaxis\": {\"automargin\": true, \"gridcolor\": \"white\", \"linecolor\": \"white\", \"ticks\": \"\", \"title\": {\"standoff\": 15}, \"zerolinecolor\": \"white\", \"zerolinewidth\": 2}}}, \"title\": {\"text\": \"IQR Graf\"}, \"xaxis\": {\"title\": {\"font\": {\"color\": \"#7f7f7f\", \"family\": \"Courier New, monospace\"}, \"text\": \"Segment\"}}, \"yaxis\": {\"title\": {\"font\": {\"color\": \"#7f7f7f\", \"family\": \"Courier New, monospace\"}, \"text\": \"IQR\"}}},\n",
              "                        {\"responsive\": true}\n",
              "                    ).then(function(){\n",
              "                            \n",
              "var gd = document.getElementById('5fe85c95-78ab-48e1-9208-946fe5af676a');\n",
              "var x = new MutationObserver(function (mutations, observer) {{\n",
              "        var display = window.getComputedStyle(gd).display;\n",
              "        if (!display || display === 'none') {{\n",
              "            console.log([gd, 'removed!']);\n",
              "            Plotly.purge(gd);\n",
              "            observer.disconnect();\n",
              "        }}\n",
              "}});\n",
              "\n",
              "// Listen for the removal of the full notebook cells\n",
              "var notebookContainer = gd.closest('#notebook-container');\n",
              "if (notebookContainer) {{\n",
              "    x.observe(notebookContainer, {childList: true});\n",
              "}}\n",
              "\n",
              "// Listen for the clearing of the current output cell\n",
              "var outputEl = gd.closest('.output');\n",
              "if (outputEl) {{\n",
              "    x.observe(outputEl, {childList: true});\n",
              "}}\n",
              "\n",
              "                        })\n",
              "                };\n",
              "                \n",
              "            </script>\n",
              "        </div>\n",
              "</body>\n",
              "</html>"
            ]
          },
          "metadata": {
            "tags": []
          }
        }
      ]
    },
    {
      "cell_type": "markdown",
      "metadata": {
        "id": "4j9O1yP6En9O"
      },
      "source": [
        "##2 вариант гистограммы"
      ]
    },
    {
      "cell_type": "code",
      "metadata": {
        "colab": {
          "base_uri": "https://localhost:8080/",
          "height": 0
        },
        "id": "pu3e2OVkEru7",
        "outputId": "2f0d552d-bac4-4000-8885-f5d0c12ab4d9"
      },
      "source": [
        "%matplotlib inline\n",
        "\n",
        "gender = metrix_IQR_new['gender']\n",
        "segment = ['group A', 'group B', 'group C', 'group D', 'group E']\n",
        "fig = go.Figure()\n",
        "\n",
        "fig.add_trace(go.Bar(\n",
        "    x = segment,\n",
        "    y = [62.00,\t48.25, 53.25, 52.00, 59.00],\n",
        "    name = 'female',\n",
        "    marker_color = 'LightSkyBlue'\n",
        "))\n",
        "fig.add_trace(go.Bar(\n",
        "    x = segment,\n",
        "    y = [55.00, 58.25, 55.50, 55.00, 49.00],\n",
        "    name = 'male',\n",
        "    marker_color = 'pink'\n",
        "))\n",
        "fig.update_layout(barmode = 'group',\n",
        "                  title='IQR Graf',\n",
        "                  xaxis=dict(\n",
        "                      title='Segment',\n",
        "                      titlefont=dict(\n",
        "                          family='Courier New, monospace',\n",
        "                          color='#7f7f7f'\n",
        "                      )\n",
        "                  ),\n",
        "                  yaxis=dict(\n",
        "                      title='IQR',\n",
        "                      titlefont=dict(\n",
        "                          family='Courier New, monospace',\n",
        "                          color='#7f7f7f'\n",
        "                      )\n",
        "                  ))\n",
        "fig.show()"
      ],
      "execution_count": 58,
      "outputs": [
        {
          "output_type": "display_data",
          "data": {
            "text/html": [
              "<html>\n",
              "<head><meta charset=\"utf-8\" /></head>\n",
              "<body>\n",
              "    <div>\n",
              "            <script src=\"https://cdnjs.cloudflare.com/ajax/libs/mathjax/2.7.5/MathJax.js?config=TeX-AMS-MML_SVG\"></script><script type=\"text/javascript\">if (window.MathJax) {MathJax.Hub.Config({SVG: {font: \"STIX-Web\"}});}</script>\n",
              "                <script type=\"text/javascript\">window.PlotlyConfig = {MathJaxConfig: 'local'};</script>\n",
              "        <script src=\"https://cdn.plot.ly/plotly-latest.min.js\"></script>    \n",
              "            <div id=\"677874ea-6c8b-455e-86a6-4fe4c760a2c6\" class=\"plotly-graph-div\" style=\"height:525px; width:100%;\"></div>\n",
              "            <script type=\"text/javascript\">\n",
              "                \n",
              "                    window.PLOTLYENV=window.PLOTLYENV || {};\n",
              "                    \n",
              "                if (document.getElementById(\"677874ea-6c8b-455e-86a6-4fe4c760a2c6\")) {\n",
              "                    Plotly.newPlot(\n",
              "                        '677874ea-6c8b-455e-86a6-4fe4c760a2c6',\n",
              "                        [{\"marker\": {\"color\": \"LightSkyBlue\"}, \"name\": \"female\", \"type\": \"bar\", \"x\": [\"group A\", \"group B\", \"group C\", \"group D\", \"group E\"], \"y\": [62.0, 48.25, 53.25, 52.0, 59.0]}, {\"marker\": {\"color\": \"pink\"}, \"name\": \"male\", \"type\": \"bar\", \"x\": [\"group A\", \"group B\", \"group C\", \"group D\", \"group E\"], \"y\": [55.0, 58.25, 55.5, 55.0, 49.0]}],\n",
              "                        {\"barmode\": \"group\", \"template\": {\"data\": {\"bar\": [{\"error_x\": {\"color\": \"#2a3f5f\"}, \"error_y\": {\"color\": \"#2a3f5f\"}, \"marker\": {\"line\": {\"color\": \"#E5ECF6\", \"width\": 0.5}}, \"type\": \"bar\"}], \"barpolar\": [{\"marker\": {\"line\": {\"color\": \"#E5ECF6\", \"width\": 0.5}}, \"type\": \"barpolar\"}], \"carpet\": [{\"aaxis\": {\"endlinecolor\": \"#2a3f5f\", \"gridcolor\": \"white\", \"linecolor\": \"white\", \"minorgridcolor\": \"white\", \"startlinecolor\": \"#2a3f5f\"}, \"baxis\": {\"endlinecolor\": \"#2a3f5f\", \"gridcolor\": \"white\", \"linecolor\": \"white\", \"minorgridcolor\": \"white\", \"startlinecolor\": \"#2a3f5f\"}, \"type\": \"carpet\"}], \"choropleth\": [{\"colorbar\": {\"outlinewidth\": 0, \"ticks\": \"\"}, \"type\": \"choropleth\"}], \"contour\": [{\"colorbar\": {\"outlinewidth\": 0, \"ticks\": \"\"}, \"colorscale\": [[0.0, \"#0d0887\"], [0.1111111111111111, \"#46039f\"], [0.2222222222222222, \"#7201a8\"], [0.3333333333333333, \"#9c179e\"], [0.4444444444444444, \"#bd3786\"], [0.5555555555555556, \"#d8576b\"], [0.6666666666666666, \"#ed7953\"], [0.7777777777777778, \"#fb9f3a\"], [0.8888888888888888, \"#fdca26\"], [1.0, \"#f0f921\"]], \"type\": \"contour\"}], \"contourcarpet\": [{\"colorbar\": {\"outlinewidth\": 0, \"ticks\": \"\"}, \"type\": \"contourcarpet\"}], \"heatmap\": [{\"colorbar\": {\"outlinewidth\": 0, \"ticks\": \"\"}, \"colorscale\": [[0.0, \"#0d0887\"], [0.1111111111111111, \"#46039f\"], [0.2222222222222222, \"#7201a8\"], [0.3333333333333333, \"#9c179e\"], [0.4444444444444444, \"#bd3786\"], [0.5555555555555556, \"#d8576b\"], [0.6666666666666666, \"#ed7953\"], [0.7777777777777778, \"#fb9f3a\"], [0.8888888888888888, \"#fdca26\"], [1.0, \"#f0f921\"]], \"type\": \"heatmap\"}], \"heatmapgl\": [{\"colorbar\": {\"outlinewidth\": 0, \"ticks\": \"\"}, \"colorscale\": [[0.0, \"#0d0887\"], [0.1111111111111111, \"#46039f\"], [0.2222222222222222, \"#7201a8\"], [0.3333333333333333, \"#9c179e\"], [0.4444444444444444, \"#bd3786\"], [0.5555555555555556, \"#d8576b\"], [0.6666666666666666, \"#ed7953\"], [0.7777777777777778, \"#fb9f3a\"], [0.8888888888888888, \"#fdca26\"], [1.0, \"#f0f921\"]], \"type\": \"heatmapgl\"}], \"histogram\": [{\"marker\": {\"colorbar\": {\"outlinewidth\": 0, \"ticks\": \"\"}}, \"type\": \"histogram\"}], \"histogram2d\": [{\"colorbar\": {\"outlinewidth\": 0, \"ticks\": \"\"}, \"colorscale\": [[0.0, \"#0d0887\"], [0.1111111111111111, \"#46039f\"], [0.2222222222222222, \"#7201a8\"], [0.3333333333333333, \"#9c179e\"], [0.4444444444444444, \"#bd3786\"], [0.5555555555555556, \"#d8576b\"], [0.6666666666666666, \"#ed7953\"], [0.7777777777777778, \"#fb9f3a\"], [0.8888888888888888, \"#fdca26\"], [1.0, \"#f0f921\"]], \"type\": \"histogram2d\"}], \"histogram2dcontour\": [{\"colorbar\": {\"outlinewidth\": 0, \"ticks\": \"\"}, \"colorscale\": [[0.0, \"#0d0887\"], [0.1111111111111111, \"#46039f\"], [0.2222222222222222, \"#7201a8\"], [0.3333333333333333, \"#9c179e\"], [0.4444444444444444, \"#bd3786\"], [0.5555555555555556, \"#d8576b\"], [0.6666666666666666, \"#ed7953\"], [0.7777777777777778, \"#fb9f3a\"], [0.8888888888888888, \"#fdca26\"], [1.0, \"#f0f921\"]], \"type\": \"histogram2dcontour\"}], \"mesh3d\": [{\"colorbar\": {\"outlinewidth\": 0, \"ticks\": \"\"}, \"type\": \"mesh3d\"}], \"parcoords\": [{\"line\": {\"colorbar\": {\"outlinewidth\": 0, \"ticks\": \"\"}}, \"type\": \"parcoords\"}], \"pie\": [{\"automargin\": true, \"type\": \"pie\"}], \"scatter\": [{\"marker\": {\"colorbar\": {\"outlinewidth\": 0, \"ticks\": \"\"}}, \"type\": \"scatter\"}], \"scatter3d\": [{\"line\": {\"colorbar\": {\"outlinewidth\": 0, \"ticks\": \"\"}}, \"marker\": {\"colorbar\": {\"outlinewidth\": 0, \"ticks\": \"\"}}, \"type\": \"scatter3d\"}], \"scattercarpet\": [{\"marker\": {\"colorbar\": {\"outlinewidth\": 0, \"ticks\": \"\"}}, \"type\": \"scattercarpet\"}], \"scattergeo\": [{\"marker\": {\"colorbar\": {\"outlinewidth\": 0, \"ticks\": \"\"}}, \"type\": \"scattergeo\"}], \"scattergl\": [{\"marker\": {\"colorbar\": {\"outlinewidth\": 0, \"ticks\": \"\"}}, \"type\": \"scattergl\"}], \"scattermapbox\": [{\"marker\": {\"colorbar\": {\"outlinewidth\": 0, \"ticks\": \"\"}}, \"type\": \"scattermapbox\"}], \"scatterpolar\": [{\"marker\": {\"colorbar\": {\"outlinewidth\": 0, \"ticks\": \"\"}}, \"type\": \"scatterpolar\"}], \"scatterpolargl\": [{\"marker\": {\"colorbar\": {\"outlinewidth\": 0, \"ticks\": \"\"}}, \"type\": \"scatterpolargl\"}], \"scatterternary\": [{\"marker\": {\"colorbar\": {\"outlinewidth\": 0, \"ticks\": \"\"}}, \"type\": \"scatterternary\"}], \"surface\": [{\"colorbar\": {\"outlinewidth\": 0, \"ticks\": \"\"}, \"colorscale\": [[0.0, \"#0d0887\"], [0.1111111111111111, \"#46039f\"], [0.2222222222222222, \"#7201a8\"], [0.3333333333333333, \"#9c179e\"], [0.4444444444444444, \"#bd3786\"], [0.5555555555555556, \"#d8576b\"], [0.6666666666666666, \"#ed7953\"], [0.7777777777777778, \"#fb9f3a\"], [0.8888888888888888, \"#fdca26\"], [1.0, \"#f0f921\"]], \"type\": \"surface\"}], \"table\": [{\"cells\": {\"fill\": {\"color\": \"#EBF0F8\"}, \"line\": {\"color\": \"white\"}}, \"header\": {\"fill\": {\"color\": \"#C8D4E3\"}, \"line\": {\"color\": \"white\"}}, \"type\": \"table\"}]}, \"layout\": {\"annotationdefaults\": {\"arrowcolor\": \"#2a3f5f\", \"arrowhead\": 0, \"arrowwidth\": 1}, \"coloraxis\": {\"colorbar\": {\"outlinewidth\": 0, \"ticks\": \"\"}}, \"colorscale\": {\"diverging\": [[0, \"#8e0152\"], [0.1, \"#c51b7d\"], [0.2, \"#de77ae\"], [0.3, \"#f1b6da\"], [0.4, \"#fde0ef\"], [0.5, \"#f7f7f7\"], [0.6, \"#e6f5d0\"], [0.7, \"#b8e186\"], [0.8, \"#7fbc41\"], [0.9, \"#4d9221\"], [1, \"#276419\"]], \"sequential\": [[0.0, \"#0d0887\"], [0.1111111111111111, \"#46039f\"], [0.2222222222222222, \"#7201a8\"], [0.3333333333333333, \"#9c179e\"], [0.4444444444444444, \"#bd3786\"], [0.5555555555555556, \"#d8576b\"], [0.6666666666666666, \"#ed7953\"], [0.7777777777777778, \"#fb9f3a\"], [0.8888888888888888, \"#fdca26\"], [1.0, \"#f0f921\"]], \"sequentialminus\": [[0.0, \"#0d0887\"], [0.1111111111111111, \"#46039f\"], [0.2222222222222222, \"#7201a8\"], [0.3333333333333333, \"#9c179e\"], [0.4444444444444444, \"#bd3786\"], [0.5555555555555556, \"#d8576b\"], [0.6666666666666666, \"#ed7953\"], [0.7777777777777778, \"#fb9f3a\"], [0.8888888888888888, \"#fdca26\"], [1.0, \"#f0f921\"]]}, \"colorway\": [\"#636efa\", \"#EF553B\", \"#00cc96\", \"#ab63fa\", \"#FFA15A\", \"#19d3f3\", \"#FF6692\", \"#B6E880\", \"#FF97FF\", \"#FECB52\"], \"font\": {\"color\": \"#2a3f5f\"}, \"geo\": {\"bgcolor\": \"white\", \"lakecolor\": \"white\", \"landcolor\": \"#E5ECF6\", \"showlakes\": true, \"showland\": true, \"subunitcolor\": \"white\"}, \"hoverlabel\": {\"align\": \"left\"}, \"hovermode\": \"closest\", \"mapbox\": {\"style\": \"light\"}, \"paper_bgcolor\": \"white\", \"plot_bgcolor\": \"#E5ECF6\", \"polar\": {\"angularaxis\": {\"gridcolor\": \"white\", \"linecolor\": \"white\", \"ticks\": \"\"}, \"bgcolor\": \"#E5ECF6\", \"radialaxis\": {\"gridcolor\": \"white\", \"linecolor\": \"white\", \"ticks\": \"\"}}, \"scene\": {\"xaxis\": {\"backgroundcolor\": \"#E5ECF6\", \"gridcolor\": \"white\", \"gridwidth\": 2, \"linecolor\": \"white\", \"showbackground\": true, \"ticks\": \"\", \"zerolinecolor\": \"white\"}, \"yaxis\": {\"backgroundcolor\": \"#E5ECF6\", \"gridcolor\": \"white\", \"gridwidth\": 2, \"linecolor\": \"white\", \"showbackground\": true, \"ticks\": \"\", \"zerolinecolor\": \"white\"}, \"zaxis\": {\"backgroundcolor\": \"#E5ECF6\", \"gridcolor\": \"white\", \"gridwidth\": 2, \"linecolor\": \"white\", \"showbackground\": true, \"ticks\": \"\", \"zerolinecolor\": \"white\"}}, \"shapedefaults\": {\"line\": {\"color\": \"#2a3f5f\"}}, \"ternary\": {\"aaxis\": {\"gridcolor\": \"white\", \"linecolor\": \"white\", \"ticks\": \"\"}, \"baxis\": {\"gridcolor\": \"white\", \"linecolor\": \"white\", \"ticks\": \"\"}, \"bgcolor\": \"#E5ECF6\", \"caxis\": {\"gridcolor\": \"white\", \"linecolor\": \"white\", \"ticks\": \"\"}}, \"title\": {\"x\": 0.05}, \"xaxis\": {\"automargin\": true, \"gridcolor\": \"white\", \"linecolor\": \"white\", \"ticks\": \"\", \"title\": {\"standoff\": 15}, \"zerolinecolor\": \"white\", \"zerolinewidth\": 2}, \"yaxis\": {\"automargin\": true, \"gridcolor\": \"white\", \"linecolor\": \"white\", \"ticks\": \"\", \"title\": {\"standoff\": 15}, \"zerolinecolor\": \"white\", \"zerolinewidth\": 2}}}, \"title\": {\"text\": \"IQR Graf\"}, \"xaxis\": {\"title\": {\"font\": {\"color\": \"#7f7f7f\", \"family\": \"Courier New, monospace\"}, \"text\": \"Segment\"}}, \"yaxis\": {\"title\": {\"font\": {\"color\": \"#7f7f7f\", \"family\": \"Courier New, monospace\"}, \"text\": \"IQR\"}}},\n",
              "                        {\"responsive\": true}\n",
              "                    ).then(function(){\n",
              "                            \n",
              "var gd = document.getElementById('677874ea-6c8b-455e-86a6-4fe4c760a2c6');\n",
              "var x = new MutationObserver(function (mutations, observer) {{\n",
              "        var display = window.getComputedStyle(gd).display;\n",
              "        if (!display || display === 'none') {{\n",
              "            console.log([gd, 'removed!']);\n",
              "            Plotly.purge(gd);\n",
              "            observer.disconnect();\n",
              "        }}\n",
              "}});\n",
              "\n",
              "// Listen for the removal of the full notebook cells\n",
              "var notebookContainer = gd.closest('#notebook-container');\n",
              "if (notebookContainer) {{\n",
              "    x.observe(notebookContainer, {childList: true});\n",
              "}}\n",
              "\n",
              "// Listen for the clearing of the current output cell\n",
              "var outputEl = gd.closest('.output');\n",
              "if (outputEl) {{\n",
              "    x.observe(outputEl, {childList: true});\n",
              "}}\n",
              "\n",
              "                        })\n",
              "                };\n",
              "                \n",
              "            </script>\n",
              "        </div>\n",
              "</body>\n",
              "</html>"
            ]
          },
          "metadata": {
            "tags": []
          }
        }
      ]
    },
    {
      "cell_type": "markdown",
      "metadata": {
        "id": "OQuAl6qE1rGI"
      },
      "source": [
        "#t - тест (Test preparation course на итоговую оценку)"
      ]
    },
    {
      "cell_type": "markdown",
      "metadata": {
        "id": "95gwxz_21-x6"
      },
      "source": [
        "• H0 – средняя итоговая оценка людей, которые закончили подготовительные курсы и которые не проходили доп курсов не имеют значимых различий;\n",
        "\n",
        "• H1 - средняя итоговая оценка людей, которые закончили подготовительные курсы и которые не проходили доп курсов имеют значимые различия"
      ]
    },
    {
      "cell_type": "code",
      "metadata": {
        "colab": {
          "base_uri": "https://localhost:8080/",
          "height": 419
        },
        "id": "OjYqH2y615Vl",
        "outputId": "a399f531-2896-471b-a9aa-ca99eda03a53"
      },
      "source": [
        "ttest_data_course = data[['test preparation course', 'math score',\t'reading score',\t'writing score']]\n",
        "ttest_data_course"
      ],
      "execution_count": 59,
      "outputs": [
        {
          "output_type": "execute_result",
          "data": {
            "text/html": [
              "<div>\n",
              "<style scoped>\n",
              "    .dataframe tbody tr th:only-of-type {\n",
              "        vertical-align: middle;\n",
              "    }\n",
              "\n",
              "    .dataframe tbody tr th {\n",
              "        vertical-align: top;\n",
              "    }\n",
              "\n",
              "    .dataframe thead th {\n",
              "        text-align: right;\n",
              "    }\n",
              "</style>\n",
              "<table border=\"1\" class=\"dataframe\">\n",
              "  <thead>\n",
              "    <tr style=\"text-align: right;\">\n",
              "      <th></th>\n",
              "      <th>test preparation course</th>\n",
              "      <th>math score</th>\n",
              "      <th>reading score</th>\n",
              "      <th>writing score</th>\n",
              "    </tr>\n",
              "  </thead>\n",
              "  <tbody>\n",
              "    <tr>\n",
              "      <th>0</th>\n",
              "      <td>none</td>\n",
              "      <td>72</td>\n",
              "      <td>72</td>\n",
              "      <td>74</td>\n",
              "    </tr>\n",
              "    <tr>\n",
              "      <th>1</th>\n",
              "      <td>completed</td>\n",
              "      <td>69</td>\n",
              "      <td>90</td>\n",
              "      <td>88</td>\n",
              "    </tr>\n",
              "    <tr>\n",
              "      <th>2</th>\n",
              "      <td>none</td>\n",
              "      <td>90</td>\n",
              "      <td>95</td>\n",
              "      <td>93</td>\n",
              "    </tr>\n",
              "    <tr>\n",
              "      <th>3</th>\n",
              "      <td>none</td>\n",
              "      <td>47</td>\n",
              "      <td>57</td>\n",
              "      <td>44</td>\n",
              "    </tr>\n",
              "    <tr>\n",
              "      <th>4</th>\n",
              "      <td>none</td>\n",
              "      <td>76</td>\n",
              "      <td>78</td>\n",
              "      <td>75</td>\n",
              "    </tr>\n",
              "    <tr>\n",
              "      <th>...</th>\n",
              "      <td>...</td>\n",
              "      <td>...</td>\n",
              "      <td>...</td>\n",
              "      <td>...</td>\n",
              "    </tr>\n",
              "    <tr>\n",
              "      <th>995</th>\n",
              "      <td>completed</td>\n",
              "      <td>88</td>\n",
              "      <td>99</td>\n",
              "      <td>95</td>\n",
              "    </tr>\n",
              "    <tr>\n",
              "      <th>996</th>\n",
              "      <td>none</td>\n",
              "      <td>62</td>\n",
              "      <td>55</td>\n",
              "      <td>55</td>\n",
              "    </tr>\n",
              "    <tr>\n",
              "      <th>997</th>\n",
              "      <td>completed</td>\n",
              "      <td>59</td>\n",
              "      <td>71</td>\n",
              "      <td>65</td>\n",
              "    </tr>\n",
              "    <tr>\n",
              "      <th>998</th>\n",
              "      <td>completed</td>\n",
              "      <td>68</td>\n",
              "      <td>78</td>\n",
              "      <td>77</td>\n",
              "    </tr>\n",
              "    <tr>\n",
              "      <th>999</th>\n",
              "      <td>none</td>\n",
              "      <td>77</td>\n",
              "      <td>86</td>\n",
              "      <td>86</td>\n",
              "    </tr>\n",
              "  </tbody>\n",
              "</table>\n",
              "<p>1000 rows × 4 columns</p>\n",
              "</div>"
            ],
            "text/plain": [
              "    test preparation course  math score  reading score  writing score\n",
              "0                      none          72             72             74\n",
              "1                 completed          69             90             88\n",
              "2                      none          90             95             93\n",
              "3                      none          47             57             44\n",
              "4                      none          76             78             75\n",
              "..                      ...         ...            ...            ...\n",
              "995               completed          88             99             95\n",
              "996                    none          62             55             55\n",
              "997               completed          59             71             65\n",
              "998               completed          68             78             77\n",
              "999                    none          77             86             86\n",
              "\n",
              "[1000 rows x 4 columns]"
            ]
          },
          "metadata": {
            "tags": []
          },
          "execution_count": 59
        }
      ]
    },
    {
      "cell_type": "code",
      "metadata": {
        "colab": {
          "base_uri": "https://localhost:8080/"
        },
        "id": "D8VFxQJC2-Nm",
        "outputId": "d013200f-5deb-4788-c5ac-cfbdf7d42bbc"
      },
      "source": [
        "ttest_data_course['mean_score'] = (ttest_data_course['math score'] + ttest_data_course['reading score']\t+ ttest_data_course['writing score']) / 3"
      ],
      "execution_count": 60,
      "outputs": [
        {
          "output_type": "stream",
          "text": [
            "/usr/local/lib/python3.7/dist-packages/ipykernel_launcher.py:1: SettingWithCopyWarning:\n",
            "\n",
            "\n",
            "A value is trying to be set on a copy of a slice from a DataFrame.\n",
            "Try using .loc[row_indexer,col_indexer] = value instead\n",
            "\n",
            "See the caveats in the documentation: https://pandas.pydata.org/pandas-docs/stable/user_guide/indexing.html#returning-a-view-versus-a-copy\n",
            "\n"
          ],
          "name": "stderr"
        }
      ]
    },
    {
      "cell_type": "code",
      "metadata": {
        "id": "Wf4X0g9N3AIO"
      },
      "source": [
        "ttest_data_course = ttest_data_course.round(2)"
      ],
      "execution_count": 61,
      "outputs": []
    },
    {
      "cell_type": "code",
      "metadata": {
        "id": "8cMNjNJF3cCY"
      },
      "source": [
        "ttest_data_course = ttest_data_course.drop(['math score',\t'reading score',\t'writing score'], axis = 1)"
      ],
      "execution_count": 62,
      "outputs": []
    },
    {
      "cell_type": "code",
      "metadata": {
        "id": "7wNiPJJhs4zI"
      },
      "source": [
        "#ttest_data_course = ttest_data_course.loc[ttest_data_course['mean_score'] > 40]"
      ],
      "execution_count": 177,
      "outputs": []
    },
    {
      "cell_type": "code",
      "metadata": {
        "colab": {
          "base_uri": "https://localhost:8080/",
          "height": 295
        },
        "id": "qCHUiuV24B6s",
        "outputId": "3f8f3bef-12c0-4a55-d15a-9c7c65b1b66f"
      },
      "source": [
        "%matplotlib inline\n",
        "stats.probplot(ttest_data_course['mean_score'], dist=\"norm\", plot=plt)\n",
        "plt.show()"
      ],
      "execution_count": 178,
      "outputs": [
        {
          "output_type": "display_data",
          "data": {
            "image/png": "[encoded data removed]",
            "text/plain": [
              "<Figure size 432x288 with 1 Axes>"
            ]
          },
          "metadata": {
            "tags": [],
            "needs_background": "light"
          }
        }
      ]
    },
    {
      "cell_type": "code",
      "metadata": {
        "colab": {
          "base_uri": "https://localhost:8080/"
        },
        "id": "lot1ocxS3egQ",
        "outputId": "86dc1d33-fdc2-4c11-884c-9d54f2254a49"
      },
      "source": [
        "ttest_data_course['test preparation course'].value_counts()"
      ],
      "execution_count": 64,
      "outputs": [
        {
          "output_type": "execute_result",
          "data": {
            "text/plain": [
              "none         642\n",
              "completed    358\n",
              "Name: test preparation course, dtype: int64"
            ]
          },
          "metadata": {
            "tags": []
          },
          "execution_count": 64
        }
      ]
    },
    {
      "cell_type": "code",
      "metadata": {
        "id": "7QVohDS23oGk"
      },
      "source": [
        "#среднее значение\n",
        "M1 = ttest_data_course[ttest_data_course['test preparation course'] == 'none'].mean()\n",
        "M2 = ttest_data_course[ttest_data_course['test preparation course'] == 'completed'].mean()\n"
      ],
      "execution_count": 65,
      "outputs": []
    },
    {
      "cell_type": "code",
      "metadata": {
        "colab": {
          "base_uri": "https://localhost:8080/"
        },
        "id": "8T4iXMnF8wSt",
        "outputId": "bcf3379c-4dec-4cff-b674-851947f4ff33"
      },
      "source": [
        "M1 , M2"
      ],
      "execution_count": 66,
      "outputs": [
        {
          "output_type": "execute_result",
          "data": {
            "text/plain": [
              "(mean_score    65.038801\n",
              " dtype: float64, mean_score    72.669469\n",
              " dtype: float64)"
            ]
          },
          "metadata": {
            "tags": []
          },
          "execution_count": 66
        }
      ]
    },
    {
      "cell_type": "code",
      "metadata": {
        "id": "MG3ayP4U4SrJ"
      },
      "source": [
        "#количество элементов в выборках\n",
        "n1 = len(ttest_data_course[ttest_data_course['test preparation course'] == 'none'])\n",
        "n2 = len(ttest_data_course[ttest_data_course['test preparation course'] == 'completed'])"
      ],
      "execution_count": 67,
      "outputs": []
    },
    {
      "cell_type": "code",
      "metadata": {
        "colab": {
          "base_uri": "https://localhost:8080/"
        },
        "id": "wLKfnW3C4U3L",
        "outputId": "ae7c004b-f981-4855-a5c1-8d8935cc0d88"
      },
      "source": [
        "M1, M2, n1, n2"
      ],
      "execution_count": 68,
      "outputs": [
        {
          "output_type": "execute_result",
          "data": {
            "text/plain": [
              "(mean_score    65.038801\n",
              " dtype: float64, mean_score    72.669469\n",
              " dtype: float64, 642, 358)"
            ]
          },
          "metadata": {
            "tags": []
          },
          "execution_count": 68
        }
      ]
    },
    {
      "cell_type": "code",
      "metadata": {
        "id": "0wF3b6px4nbC"
      },
      "source": [
        "#дисперсии\n",
        "var_a = np.var(ttest_data_course[ttest_data_course['test preparation course'] == 'none'],ddof = 1)\n",
        "var_b = np.var(ttest_data_course[ttest_data_course['test preparation course'] == 'completed'],ddof = 1)"
      ],
      "execution_count": 69,
      "outputs": []
    },
    {
      "cell_type": "code",
      "metadata": {
        "id": "T7mfjVJU8BqQ"
      },
      "source": [
        "var_a = float(var_a)\n",
        "var_b = float(var_b)"
      ],
      "execution_count": 70,
      "outputs": []
    },
    {
      "cell_type": "code",
      "metadata": {
        "id": "JUJjwJCT4vXG"
      },
      "source": [
        "#стандартные отклонения\n",
        "sd_a = np.sqrt(var_a)\n",
        "sd_b = np.sqrt(var_b)"
      ],
      "execution_count": 71,
      "outputs": []
    },
    {
      "cell_type": "code",
      "metadata": {
        "id": "-qzuERLb40OR"
      },
      "source": [
        "t = (M1 - M2)/np.sqrt((((n1-1)*var_a + (n2-1)*var_b)/(n1+n2-2))*((1/n1)+(1/n2)))"
      ],
      "execution_count": 72,
      "outputs": []
    },
    {
      "cell_type": "code",
      "metadata": {
        "id": "6zFfZK1t45mt"
      },
      "source": [
        "t = float(t)"
      ],
      "execution_count": 73,
      "outputs": []
    },
    {
      "cell_type": "code",
      "metadata": {
        "colab": {
          "base_uri": "https://localhost:8080/"
        },
        "id": "-p5CWixz430h",
        "outputId": "6588b691-26f0-46e7-9715-b1db4691f4c3"
      },
      "source": [
        "#найдем p-value\n",
        "#степени свободы\n",
        "df = (n1 + n2) - 2\n",
        "\n",
        "#p - value\n",
        "p = stats.t.cdf(t, df) * 2\n",
        "\n",
        "if p > 0.05:\n",
        "    print('Нет статистически значимой разницы','\\nt - критерий = ',t,'\\np-value =',p)\n",
        "else:\n",
        "    print('Есть статистически значимая разница','\\nt - критерий = ',t,'\\np-value =',p)"
      ],
      "execution_count": 74,
      "outputs": [
        {
          "output_type": "stream",
          "text": [
            "Есть статистически значимая разница \n",
            "t - критерий =  -8.391130002701043 \n",
            "p-value = 1.6313729799667205e-16\n"
          ],
          "name": "stdout"
        }
      ]
    },
    {
      "cell_type": "code",
      "metadata": {
        "colab": {
          "base_uri": "https://localhost:8080/"
        },
        "id": "2VjyecLX7n-h",
        "outputId": "d94d2853-b6d1-4c6a-9d4b-55baa7229b89"
      },
      "source": [
        "t"
      ],
      "execution_count": 75,
      "outputs": [
        {
          "output_type": "execute_result",
          "data": {
            "text/plain": [
              "-8.391130002701043"
            ]
          },
          "metadata": {
            "tags": []
          },
          "execution_count": 75
        }
      ]
    },
    {
      "cell_type": "markdown",
      "metadata": {
        "id": "BfWI_95G9fJn"
      },
      "source": [
        "##Проверила с помощью встроенной функции"
      ]
    },
    {
      "cell_type": "code",
      "metadata": {
        "id": "PAny_WTX5E6G"
      },
      "source": [
        "t_test, p_value = stats.ttest_ind(ttest_data_course[ttest_data_course['test preparation course'] == 'none']['mean_score'], ttest_data_course[ttest_data_course['test preparation course'] == 'completed']['mean_score'])"
      ],
      "execution_count": 76,
      "outputs": []
    },
    {
      "cell_type": "code",
      "metadata": {
        "colab": {
          "base_uri": "https://localhost:8080/"
        },
        "id": "pzJMMpXg5MW0",
        "outputId": "f8666df5-8f8e-49fd-9bbf-c1d14209aba2"
      },
      "source": [
        "t_test, p_value"
      ],
      "execution_count": 77,
      "outputs": [
        {
          "output_type": "execute_result",
          "data": {
            "text/plain": [
              "(-8.391130002701122, 1.6313729799657097e-16)"
            ]
          },
          "metadata": {
            "tags": []
          },
          "execution_count": 77
        }
      ]
    },
    {
      "cell_type": "code",
      "metadata": {
        "colab": {
          "base_uri": "https://localhost:8080/"
        },
        "id": "8QMR-2n75p9-",
        "outputId": "32afc97b-bb0d-481b-eb92-8d1c541eb0a2"
      },
      "source": [
        "p_value"
      ],
      "execution_count": 78,
      "outputs": [
        {
          "output_type": "execute_result",
          "data": {
            "text/plain": [
              "1.6313729799657097e-16"
            ]
          },
          "metadata": {
            "tags": []
          },
          "execution_count": 78
        }
      ]
    },
    {
      "cell_type": "code",
      "metadata": {
        "colab": {
          "base_uri": "https://localhost:8080/"
        },
        "id": "zQcrXgti5mA9",
        "outputId": "a299a9f7-0b2e-48d0-9999-7dc1cd7fba0f"
      },
      "source": [
        "if p_value > 0.05:\n",
        "    print('Нет статистически значимой разницы','\\nt - критерий = ',t_test,'\\np-value =',p_value)\n",
        "else:\n",
        "    print('Есть статистически значимая разница','\\nt - критерий = ',t_test,'\\np-value =',p_value)"
      ],
      "execution_count": 79,
      "outputs": [
        {
          "output_type": "stream",
          "text": [
            "Есть статистически значимая разница \n",
            "t - критерий =  -8.391130002701122 \n",
            "p-value = 1.6313729799657097e-16\n"
          ],
          "name": "stdout"
        }
      ]
    },
    {
      "cell_type": "markdown",
      "metadata": {
        "id": "0PvP9YHGVRJp"
      },
      "source": [
        "# t - тест (Lunch на итоговую оценку)"
      ]
    },
    {
      "cell_type": "markdown",
      "metadata": {
        "id": "iNZzvzhi1idA"
      },
      "source": [
        "•\tH0 – средние итоговая оценка людей которые поели стандартный обед и которые поели обед бесплатный не имеют значимых различий;\n",
        "\n",
        "•\tH1 - средние итоговая оценка людей которые поели стандартный обед и которые поели обед бесплатный имеют значимые различия"
      ]
    },
    {
      "cell_type": "code",
      "metadata": {
        "colab": {
          "base_uri": "https://localhost:8080/",
          "height": 419
        },
        "id": "_iNc-c-eVWMn",
        "outputId": "57019ab4-0c0b-47eb-8e4f-e8253330346f"
      },
      "source": [
        "ttest_data = data[['lunch', 'math score',\t'reading score',\t'writing score']]\n",
        "ttest_data"
      ],
      "execution_count": 80,
      "outputs": [
        {
          "output_type": "execute_result",
          "data": {
            "text/html": [
              "<div>\n",
              "<style scoped>\n",
              "    .dataframe tbody tr th:only-of-type {\n",
              "        vertical-align: middle;\n",
              "    }\n",
              "\n",
              "    .dataframe tbody tr th {\n",
              "        vertical-align: top;\n",
              "    }\n",
              "\n",
              "    .dataframe thead th {\n",
              "        text-align: right;\n",
              "    }\n",
              "</style>\n",
              "<table border=\"1\" class=\"dataframe\">\n",
              "  <thead>\n",
              "    <tr style=\"text-align: right;\">\n",
              "      <th></th>\n",
              "      <th>lunch</th>\n",
              "      <th>math score</th>\n",
              "      <th>reading score</th>\n",
              "      <th>writing score</th>\n",
              "    </tr>\n",
              "  </thead>\n",
              "  <tbody>\n",
              "    <tr>\n",
              "      <th>0</th>\n",
              "      <td>standard</td>\n",
              "      <td>72</td>\n",
              "      <td>72</td>\n",
              "      <td>74</td>\n",
              "    </tr>\n",
              "    <tr>\n",
              "      <th>1</th>\n",
              "      <td>standard</td>\n",
              "      <td>69</td>\n",
              "      <td>90</td>\n",
              "      <td>88</td>\n",
              "    </tr>\n",
              "    <tr>\n",
              "      <th>2</th>\n",
              "      <td>standard</td>\n",
              "      <td>90</td>\n",
              "      <td>95</td>\n",
              "      <td>93</td>\n",
              "    </tr>\n",
              "    <tr>\n",
              "      <th>3</th>\n",
              "      <td>free/reduced</td>\n",
              "      <td>47</td>\n",
              "      <td>57</td>\n",
              "      <td>44</td>\n",
              "    </tr>\n",
              "    <tr>\n",
              "      <th>4</th>\n",
              "      <td>standard</td>\n",
              "      <td>76</td>\n",
              "      <td>78</td>\n",
              "      <td>75</td>\n",
              "    </tr>\n",
              "    <tr>\n",
              "      <th>...</th>\n",
              "      <td>...</td>\n",
              "      <td>...</td>\n",
              "      <td>...</td>\n",
              "      <td>...</td>\n",
              "    </tr>\n",
              "    <tr>\n",
              "      <th>995</th>\n",
              "      <td>standard</td>\n",
              "      <td>88</td>\n",
              "      <td>99</td>\n",
              "      <td>95</td>\n",
              "    </tr>\n",
              "    <tr>\n",
              "      <th>996</th>\n",
              "      <td>free/reduced</td>\n",
              "      <td>62</td>\n",
              "      <td>55</td>\n",
              "      <td>55</td>\n",
              "    </tr>\n",
              "    <tr>\n",
              "      <th>997</th>\n",
              "      <td>free/reduced</td>\n",
              "      <td>59</td>\n",
              "      <td>71</td>\n",
              "      <td>65</td>\n",
              "    </tr>\n",
              "    <tr>\n",
              "      <th>998</th>\n",
              "      <td>standard</td>\n",
              "      <td>68</td>\n",
              "      <td>78</td>\n",
              "      <td>77</td>\n",
              "    </tr>\n",
              "    <tr>\n",
              "      <th>999</th>\n",
              "      <td>free/reduced</td>\n",
              "      <td>77</td>\n",
              "      <td>86</td>\n",
              "      <td>86</td>\n",
              "    </tr>\n",
              "  </tbody>\n",
              "</table>\n",
              "<p>1000 rows × 4 columns</p>\n",
              "</div>"
            ],
            "text/plain": [
              "            lunch  math score  reading score  writing score\n",
              "0        standard          72             72             74\n",
              "1        standard          69             90             88\n",
              "2        standard          90             95             93\n",
              "3    free/reduced          47             57             44\n",
              "4        standard          76             78             75\n",
              "..            ...         ...            ...            ...\n",
              "995      standard          88             99             95\n",
              "996  free/reduced          62             55             55\n",
              "997  free/reduced          59             71             65\n",
              "998      standard          68             78             77\n",
              "999  free/reduced          77             86             86\n",
              "\n",
              "[1000 rows x 4 columns]"
            ]
          },
          "metadata": {
            "tags": []
          },
          "execution_count": 80
        }
      ]
    },
    {
      "cell_type": "code",
      "metadata": {
        "colab": {
          "base_uri": "https://localhost:8080/"
        },
        "id": "lQibWpY0WbXT",
        "outputId": "349e52b7-1d0c-4f1b-d2ce-ef1fbd3d46d7"
      },
      "source": [
        "ttest_data['mean_score'] = (ttest_data['math score'] + ttest_data['reading score']\t+ ttest_data['writing score']) / 3"
      ],
      "execution_count": 81,
      "outputs": [
        {
          "output_type": "stream",
          "text": [
            "/usr/local/lib/python3.7/dist-packages/ipykernel_launcher.py:1: SettingWithCopyWarning:\n",
            "\n",
            "\n",
            "A value is trying to be set on a copy of a slice from a DataFrame.\n",
            "Try using .loc[row_indexer,col_indexer] = value instead\n",
            "\n",
            "See the caveats in the documentation: https://pandas.pydata.org/pandas-docs/stable/user_guide/indexing.html#returning-a-view-versus-a-copy\n",
            "\n"
          ],
          "name": "stderr"
        }
      ]
    },
    {
      "cell_type": "code",
      "metadata": {
        "id": "5vlfo0CrWpkS"
      },
      "source": [
        "ttest_data = ttest_data.round(2)"
      ],
      "execution_count": 82,
      "outputs": []
    },
    {
      "cell_type": "code",
      "metadata": {
        "colab": {
          "base_uri": "https://localhost:8080/",
          "height": 419
        },
        "id": "oLZBp21aX5rq",
        "outputId": "b187b33e-7fb7-45ac-d345-184946d9a6d4"
      },
      "source": [
        "ttest_data"
      ],
      "execution_count": 83,
      "outputs": [
        {
          "output_type": "execute_result",
          "data": {
            "text/html": [
              "<div>\n",
              "<style scoped>\n",
              "    .dataframe tbody tr th:only-of-type {\n",
              "        vertical-align: middle;\n",
              "    }\n",
              "\n",
              "    .dataframe tbody tr th {\n",
              "        vertical-align: top;\n",
              "    }\n",
              "\n",
              "    .dataframe thead th {\n",
              "        text-align: right;\n",
              "    }\n",
              "</style>\n",
              "<table border=\"1\" class=\"dataframe\">\n",
              "  <thead>\n",
              "    <tr style=\"text-align: right;\">\n",
              "      <th></th>\n",
              "      <th>lunch</th>\n",
              "      <th>math score</th>\n",
              "      <th>reading score</th>\n",
              "      <th>writing score</th>\n",
              "      <th>mean_score</th>\n",
              "    </tr>\n",
              "  </thead>\n",
              "  <tbody>\n",
              "    <tr>\n",
              "      <th>0</th>\n",
              "      <td>standard</td>\n",
              "      <td>72</td>\n",
              "      <td>72</td>\n",
              "      <td>74</td>\n",
              "      <td>72.67</td>\n",
              "    </tr>\n",
              "    <tr>\n",
              "      <th>1</th>\n",
              "      <td>standard</td>\n",
              "      <td>69</td>\n",
              "      <td>90</td>\n",
              "      <td>88</td>\n",
              "      <td>82.33</td>\n",
              "    </tr>\n",
              "    <tr>\n",
              "      <th>2</th>\n",
              "      <td>standard</td>\n",
              "      <td>90</td>\n",
              "      <td>95</td>\n",
              "      <td>93</td>\n",
              "      <td>92.67</td>\n",
              "    </tr>\n",
              "    <tr>\n",
              "      <th>3</th>\n",
              "      <td>free/reduced</td>\n",
              "      <td>47</td>\n",
              "      <td>57</td>\n",
              "      <td>44</td>\n",
              "      <td>49.33</td>\n",
              "    </tr>\n",
              "    <tr>\n",
              "      <th>4</th>\n",
              "      <td>standard</td>\n",
              "      <td>76</td>\n",
              "      <td>78</td>\n",
              "      <td>75</td>\n",
              "      <td>76.33</td>\n",
              "    </tr>\n",
              "    <tr>\n",
              "      <th>...</th>\n",
              "      <td>...</td>\n",
              "      <td>...</td>\n",
              "      <td>...</td>\n",
              "      <td>...</td>\n",
              "      <td>...</td>\n",
              "    </tr>\n",
              "    <tr>\n",
              "      <th>995</th>\n",
              "      <td>standard</td>\n",
              "      <td>88</td>\n",
              "      <td>99</td>\n",
              "      <td>95</td>\n",
              "      <td>94.00</td>\n",
              "    </tr>\n",
              "    <tr>\n",
              "      <th>996</th>\n",
              "      <td>free/reduced</td>\n",
              "      <td>62</td>\n",
              "      <td>55</td>\n",
              "      <td>55</td>\n",
              "      <td>57.33</td>\n",
              "    </tr>\n",
              "    <tr>\n",
              "      <th>997</th>\n",
              "      <td>free/reduced</td>\n",
              "      <td>59</td>\n",
              "      <td>71</td>\n",
              "      <td>65</td>\n",
              "      <td>65.00</td>\n",
              "    </tr>\n",
              "    <tr>\n",
              "      <th>998</th>\n",
              "      <td>standard</td>\n",
              "      <td>68</td>\n",
              "      <td>78</td>\n",
              "      <td>77</td>\n",
              "      <td>74.33</td>\n",
              "    </tr>\n",
              "    <tr>\n",
              "      <th>999</th>\n",
              "      <td>free/reduced</td>\n",
              "      <td>77</td>\n",
              "      <td>86</td>\n",
              "      <td>86</td>\n",
              "      <td>83.00</td>\n",
              "    </tr>\n",
              "  </tbody>\n",
              "</table>\n",
              "<p>1000 rows × 5 columns</p>\n",
              "</div>"
            ],
            "text/plain": [
              "            lunch  math score  reading score  writing score  mean_score\n",
              "0        standard          72             72             74       72.67\n",
              "1        standard          69             90             88       82.33\n",
              "2        standard          90             95             93       92.67\n",
              "3    free/reduced          47             57             44       49.33\n",
              "4        standard          76             78             75       76.33\n",
              "..            ...         ...            ...            ...         ...\n",
              "995      standard          88             99             95       94.00\n",
              "996  free/reduced          62             55             55       57.33\n",
              "997  free/reduced          59             71             65       65.00\n",
              "998      standard          68             78             77       74.33\n",
              "999  free/reduced          77             86             86       83.00\n",
              "\n",
              "[1000 rows x 5 columns]"
            ]
          },
          "metadata": {
            "tags": []
          },
          "execution_count": 83
        }
      ]
    },
    {
      "cell_type": "code",
      "metadata": {
        "id": "GUO1wmtOg68Y"
      },
      "source": [
        "ttest_data = ttest_data.drop(['math score',\t'reading score',\t'writing score'], axis = 1)"
      ],
      "execution_count": 84,
      "outputs": []
    },
    {
      "cell_type": "code",
      "metadata": {
        "colab": {
          "base_uri": "https://localhost:8080/",
          "height": 419
        },
        "id": "ACEHgBx3ht2E",
        "outputId": "57c2f728-e3d8-46cd-bc7c-ad8c5965abbd"
      },
      "source": [
        "ttest_data"
      ],
      "execution_count": 85,
      "outputs": [
        {
          "output_type": "execute_result",
          "data": {
            "text/html": [
              "<div>\n",
              "<style scoped>\n",
              "    .dataframe tbody tr th:only-of-type {\n",
              "        vertical-align: middle;\n",
              "    }\n",
              "\n",
              "    .dataframe tbody tr th {\n",
              "        vertical-align: top;\n",
              "    }\n",
              "\n",
              "    .dataframe thead th {\n",
              "        text-align: right;\n",
              "    }\n",
              "</style>\n",
              "<table border=\"1\" class=\"dataframe\">\n",
              "  <thead>\n",
              "    <tr style=\"text-align: right;\">\n",
              "      <th></th>\n",
              "      <th>lunch</th>\n",
              "      <th>mean_score</th>\n",
              "    </tr>\n",
              "  </thead>\n",
              "  <tbody>\n",
              "    <tr>\n",
              "      <th>0</th>\n",
              "      <td>standard</td>\n",
              "      <td>72.67</td>\n",
              "    </tr>\n",
              "    <tr>\n",
              "      <th>1</th>\n",
              "      <td>standard</td>\n",
              "      <td>82.33</td>\n",
              "    </tr>\n",
              "    <tr>\n",
              "      <th>2</th>\n",
              "      <td>standard</td>\n",
              "      <td>92.67</td>\n",
              "    </tr>\n",
              "    <tr>\n",
              "      <th>3</th>\n",
              "      <td>free/reduced</td>\n",
              "      <td>49.33</td>\n",
              "    </tr>\n",
              "    <tr>\n",
              "      <th>4</th>\n",
              "      <td>standard</td>\n",
              "      <td>76.33</td>\n",
              "    </tr>\n",
              "    <tr>\n",
              "      <th>...</th>\n",
              "      <td>...</td>\n",
              "      <td>...</td>\n",
              "    </tr>\n",
              "    <tr>\n",
              "      <th>995</th>\n",
              "      <td>standard</td>\n",
              "      <td>94.00</td>\n",
              "    </tr>\n",
              "    <tr>\n",
              "      <th>996</th>\n",
              "      <td>free/reduced</td>\n",
              "      <td>57.33</td>\n",
              "    </tr>\n",
              "    <tr>\n",
              "      <th>997</th>\n",
              "      <td>free/reduced</td>\n",
              "      <td>65.00</td>\n",
              "    </tr>\n",
              "    <tr>\n",
              "      <th>998</th>\n",
              "      <td>standard</td>\n",
              "      <td>74.33</td>\n",
              "    </tr>\n",
              "    <tr>\n",
              "      <th>999</th>\n",
              "      <td>free/reduced</td>\n",
              "      <td>83.00</td>\n",
              "    </tr>\n",
              "  </tbody>\n",
              "</table>\n",
              "<p>1000 rows × 2 columns</p>\n",
              "</div>"
            ],
            "text/plain": [
              "            lunch  mean_score\n",
              "0        standard       72.67\n",
              "1        standard       82.33\n",
              "2        standard       92.67\n",
              "3    free/reduced       49.33\n",
              "4        standard       76.33\n",
              "..            ...         ...\n",
              "995      standard       94.00\n",
              "996  free/reduced       57.33\n",
              "997  free/reduced       65.00\n",
              "998      standard       74.33\n",
              "999  free/reduced       83.00\n",
              "\n",
              "[1000 rows x 2 columns]"
            ]
          },
          "metadata": {
            "tags": []
          },
          "execution_count": 85
        }
      ]
    },
    {
      "cell_type": "code",
      "metadata": {
        "id": "tRlALnB511pp"
      },
      "source": [
        "ttest_data.to_csv('t_test_lunch_to_score.csv')"
      ],
      "execution_count": 86,
      "outputs": []
    },
    {
      "cell_type": "code",
      "metadata": {
        "id": "oyJymeWewQ6h"
      },
      "source": [
        "#среднее значение\n",
        "M1 = ttest_data[ttest_data['lunch'] == 'free/reduced'].mean()\n",
        "M2 = ttest_data[ttest_data['lunch'] == 'standard'].mean()"
      ],
      "execution_count": 87,
      "outputs": []
    },
    {
      "cell_type": "code",
      "metadata": {
        "colab": {
          "base_uri": "https://localhost:8080/"
        },
        "id": "Sc4t2Xsbwf4q",
        "outputId": "92811f89-7aa4-40bc-af17-b829b8e8d26e"
      },
      "source": [
        "M1, M2"
      ],
      "execution_count": 88,
      "outputs": [
        {
          "output_type": "execute_result",
          "data": {
            "text/plain": [
              "(mean_score    62.198986\n",
              " dtype: float64, mean_score    70.837116\n",
              " dtype: float64)"
            ]
          },
          "metadata": {
            "tags": []
          },
          "execution_count": 88
        }
      ]
    },
    {
      "cell_type": "code",
      "metadata": {
        "colab": {
          "base_uri": "https://localhost:8080/"
        },
        "id": "no-7O7_e5X99",
        "outputId": "d9704499-5e71-425b-8e59-882c7d827625"
      },
      "source": [
        "int(M1)"
      ],
      "execution_count": 89,
      "outputs": [
        {
          "output_type": "execute_result",
          "data": {
            "text/plain": [
              "62"
            ]
          },
          "metadata": {
            "tags": []
          },
          "execution_count": 89
        }
      ]
    },
    {
      "cell_type": "code",
      "metadata": {
        "id": "gUjVcEb6vu8d"
      },
      "source": [
        "#количество элементов в выборках\n",
        "n1 = len(ttest_data[ttest_data['lunch'] == 'free/reduced'])\n",
        "n2 = len(ttest_data[ttest_data['lunch'] == 'standard'])"
      ],
      "execution_count": 90,
      "outputs": []
    },
    {
      "cell_type": "code",
      "metadata": {
        "colab": {
          "base_uri": "https://localhost:8080/"
        },
        "id": "5GXnXaoTvxCt",
        "outputId": "2ff60dc5-164d-4e41-8bc5-bd2ba4cce744"
      },
      "source": [
        "n1, n2"
      ],
      "execution_count": 91,
      "outputs": [
        {
          "output_type": "execute_result",
          "data": {
            "text/plain": [
              "(355, 645)"
            ]
          },
          "metadata": {
            "tags": []
          },
          "execution_count": 91
        }
      ]
    },
    {
      "cell_type": "code",
      "metadata": {
        "colab": {
          "base_uri": "https://localhost:8080/",
          "height": 295
        },
        "id": "KV5Ua051q-Fs",
        "outputId": "191caddd-5caa-453a-acf6-75de11edd85a"
      },
      "source": [
        "%matplotlib inline\n",
        "stats.probplot(ttest_data['mean_score'], dist=\"norm\", plot=plt)\n",
        "plt.show()"
      ],
      "execution_count": 92,
      "outputs": [
        {
          "output_type": "display_data",
          "data": {
            "image/png": "[encoded data removed]",
            "text/plain": [
              "<Figure size 432x288 with 1 Axes>"
            ]
          },
          "metadata": {
            "tags": [],
            "needs_background": "light"
          }
        }
      ]
    },
    {
      "cell_type": "code",
      "metadata": {
        "id": "wpdlewiqqWlT"
      },
      "source": [
        "#дисперсии\n",
        "var_a = np.var(ttest_data[ttest_data['lunch'] == 'free/reduced'],ddof = 1)\n",
        "var_b = np.var(ttest_data[ttest_data['lunch'] == 'standard'],ddof = 1)"
      ],
      "execution_count": 93,
      "outputs": []
    },
    {
      "cell_type": "code",
      "metadata": {
        "colab": {
          "base_uri": "https://localhost:8080/"
        },
        "id": "63rKX9lU7riT",
        "outputId": "19ea59f6-9237-4b86-efd4-06e5b7f3b4a6"
      },
      "source": [
        "var_a"
      ],
      "execution_count": 94,
      "outputs": [
        {
          "output_type": "execute_result",
          "data": {
            "text/plain": [
              "mean_score    209.042033\n",
              "dtype: float64"
            ]
          },
          "metadata": {
            "tags": []
          },
          "execution_count": 94
        }
      ]
    },
    {
      "cell_type": "code",
      "metadata": {
        "id": "xkXwchfOaIDJ"
      },
      "source": [
        "#стандартные отклонения\n",
        "sd_a = np.sqrt(var_a)\n",
        "sd_b = np.sqrt(var_b)"
      ],
      "execution_count": 95,
      "outputs": []
    },
    {
      "cell_type": "code",
      "metadata": {
        "id": "S3Y_jBmauao2"
      },
      "source": [
        "t = (M1 - M2)/np.sqrt((((n1-1)*var_a + (n2-1)*var_b)/(n1+n2-2))*((1/n1)+(1/n2)))"
      ],
      "execution_count": 96,
      "outputs": []
    },
    {
      "cell_type": "code",
      "metadata": {
        "colab": {
          "base_uri": "https://localhost:8080/"
        },
        "id": "5YlZz7v0viOn",
        "outputId": "4621a180-cce6-4423-9b9d-c6ee5f4db433"
      },
      "source": [
        "t"
      ],
      "execution_count": 97,
      "outputs": [
        {
          "output_type": "execute_result",
          "data": {
            "text/plain": [
              "mean_score   -9.575103\n",
              "dtype: float64"
            ]
          },
          "metadata": {
            "tags": []
          },
          "execution_count": 97
        }
      ]
    },
    {
      "cell_type": "code",
      "metadata": {
        "id": "ALmEAxOemjar"
      },
      "source": [
        "t = float(t)"
      ],
      "execution_count": 98,
      "outputs": []
    },
    {
      "cell_type": "code",
      "metadata": {
        "colab": {
          "base_uri": "https://localhost:8080/"
        },
        "id": "l756dH6wWBGm",
        "outputId": "00ccf6ef-7f21-4396-eb68-6a553af825f1"
      },
      "source": [
        "#найдем p-value\n",
        "#степени свободы\n",
        "df = (n1 + n2) - 2\n",
        "\n",
        "#p - value\n",
        "p = stats.t.cdf(float(t), float(df)) * 2\n",
        "\n",
        "if p > 0.05:\n",
        "    print('Нет статистически значимой разницы','\\nt - критерий = ',t,'\\np-value =',p)\n",
        "else:\n",
        "    print('Есть статистически значимая разница','\\nt - критерий = ',t,'\\np-value =',p)"
      ],
      "execution_count": 99,
      "outputs": [
        {
          "output_type": "stream",
          "text": [
            "Есть статистически значимая разница \n",
            "t - критерий =  -9.575102511506216 \n",
            "p-value = 7.737514585089179e-21\n"
          ],
          "name": "stdout"
        }
      ]
    },
    {
      "cell_type": "code",
      "metadata": {
        "colab": {
          "base_uri": "https://localhost:8080/",
          "height": 419
        },
        "id": "iIjgsjRf8oUu",
        "outputId": "2b5a2a62-4166-441a-982f-5cc5c0d79cd4"
      },
      "source": [
        "ttest_data"
      ],
      "execution_count": 100,
      "outputs": [
        {
          "output_type": "execute_result",
          "data": {
            "text/html": [
              "<div>\n",
              "<style scoped>\n",
              "    .dataframe tbody tr th:only-of-type {\n",
              "        vertical-align: middle;\n",
              "    }\n",
              "\n",
              "    .dataframe tbody tr th {\n",
              "        vertical-align: top;\n",
              "    }\n",
              "\n",
              "    .dataframe thead th {\n",
              "        text-align: right;\n",
              "    }\n",
              "</style>\n",
              "<table border=\"1\" class=\"dataframe\">\n",
              "  <thead>\n",
              "    <tr style=\"text-align: right;\">\n",
              "      <th></th>\n",
              "      <th>lunch</th>\n",
              "      <th>mean_score</th>\n",
              "    </tr>\n",
              "  </thead>\n",
              "  <tbody>\n",
              "    <tr>\n",
              "      <th>0</th>\n",
              "      <td>standard</td>\n",
              "      <td>72.67</td>\n",
              "    </tr>\n",
              "    <tr>\n",
              "      <th>1</th>\n",
              "      <td>standard</td>\n",
              "      <td>82.33</td>\n",
              "    </tr>\n",
              "    <tr>\n",
              "      <th>2</th>\n",
              "      <td>standard</td>\n",
              "      <td>92.67</td>\n",
              "    </tr>\n",
              "    <tr>\n",
              "      <th>3</th>\n",
              "      <td>free/reduced</td>\n",
              "      <td>49.33</td>\n",
              "    </tr>\n",
              "    <tr>\n",
              "      <th>4</th>\n",
              "      <td>standard</td>\n",
              "      <td>76.33</td>\n",
              "    </tr>\n",
              "    <tr>\n",
              "      <th>...</th>\n",
              "      <td>...</td>\n",
              "      <td>...</td>\n",
              "    </tr>\n",
              "    <tr>\n",
              "      <th>995</th>\n",
              "      <td>standard</td>\n",
              "      <td>94.00</td>\n",
              "    </tr>\n",
              "    <tr>\n",
              "      <th>996</th>\n",
              "      <td>free/reduced</td>\n",
              "      <td>57.33</td>\n",
              "    </tr>\n",
              "    <tr>\n",
              "      <th>997</th>\n",
              "      <td>free/reduced</td>\n",
              "      <td>65.00</td>\n",
              "    </tr>\n",
              "    <tr>\n",
              "      <th>998</th>\n",
              "      <td>standard</td>\n",
              "      <td>74.33</td>\n",
              "    </tr>\n",
              "    <tr>\n",
              "      <th>999</th>\n",
              "      <td>free/reduced</td>\n",
              "      <td>83.00</td>\n",
              "    </tr>\n",
              "  </tbody>\n",
              "</table>\n",
              "<p>1000 rows × 2 columns</p>\n",
              "</div>"
            ],
            "text/plain": [
              "            lunch  mean_score\n",
              "0        standard       72.67\n",
              "1        standard       82.33\n",
              "2        standard       92.67\n",
              "3    free/reduced       49.33\n",
              "4        standard       76.33\n",
              "..            ...         ...\n",
              "995      standard       94.00\n",
              "996  free/reduced       57.33\n",
              "997  free/reduced       65.00\n",
              "998      standard       74.33\n",
              "999  free/reduced       83.00\n",
              "\n",
              "[1000 rows x 2 columns]"
            ]
          },
          "metadata": {
            "tags": []
          },
          "execution_count": 100
        }
      ]
    },
    {
      "cell_type": "code",
      "metadata": {
        "colab": {
          "base_uri": "https://localhost:8080/",
          "height": 419
        },
        "id": "8r6ZLhmI9Li2",
        "outputId": "9e506805-e57b-417a-b92d-8aea0f8ec051"
      },
      "source": [
        "ttest_data[ttest_data['lunch'] == 'free/reduced']"
      ],
      "execution_count": 101,
      "outputs": [
        {
          "output_type": "execute_result",
          "data": {
            "text/html": [
              "<div>\n",
              "<style scoped>\n",
              "    .dataframe tbody tr th:only-of-type {\n",
              "        vertical-align: middle;\n",
              "    }\n",
              "\n",
              "    .dataframe tbody tr th {\n",
              "        vertical-align: top;\n",
              "    }\n",
              "\n",
              "    .dataframe thead th {\n",
              "        text-align: right;\n",
              "    }\n",
              "</style>\n",
              "<table border=\"1\" class=\"dataframe\">\n",
              "  <thead>\n",
              "    <tr style=\"text-align: right;\">\n",
              "      <th></th>\n",
              "      <th>lunch</th>\n",
              "      <th>mean_score</th>\n",
              "    </tr>\n",
              "  </thead>\n",
              "  <tbody>\n",
              "    <tr>\n",
              "      <th>3</th>\n",
              "      <td>free/reduced</td>\n",
              "      <td>49.33</td>\n",
              "    </tr>\n",
              "    <tr>\n",
              "      <th>7</th>\n",
              "      <td>free/reduced</td>\n",
              "      <td>40.67</td>\n",
              "    </tr>\n",
              "    <tr>\n",
              "      <th>8</th>\n",
              "      <td>free/reduced</td>\n",
              "      <td>65.00</td>\n",
              "    </tr>\n",
              "    <tr>\n",
              "      <th>9</th>\n",
              "      <td>free/reduced</td>\n",
              "      <td>49.33</td>\n",
              "    </tr>\n",
              "    <tr>\n",
              "      <th>17</th>\n",
              "      <td>free/reduced</td>\n",
              "      <td>26.00</td>\n",
              "    </tr>\n",
              "    <tr>\n",
              "      <th>...</th>\n",
              "      <td>...</td>\n",
              "      <td>...</td>\n",
              "    </tr>\n",
              "    <tr>\n",
              "      <th>992</th>\n",
              "      <td>free/reduced</td>\n",
              "      <td>69.00</td>\n",
              "    </tr>\n",
              "    <tr>\n",
              "      <th>993</th>\n",
              "      <td>free/reduced</td>\n",
              "      <td>69.33</td>\n",
              "    </tr>\n",
              "    <tr>\n",
              "      <th>996</th>\n",
              "      <td>free/reduced</td>\n",
              "      <td>57.33</td>\n",
              "    </tr>\n",
              "    <tr>\n",
              "      <th>997</th>\n",
              "      <td>free/reduced</td>\n",
              "      <td>65.00</td>\n",
              "    </tr>\n",
              "    <tr>\n",
              "      <th>999</th>\n",
              "      <td>free/reduced</td>\n",
              "      <td>83.00</td>\n",
              "    </tr>\n",
              "  </tbody>\n",
              "</table>\n",
              "<p>355 rows × 2 columns</p>\n",
              "</div>"
            ],
            "text/plain": [
              "            lunch  mean_score\n",
              "3    free/reduced       49.33\n",
              "7    free/reduced       40.67\n",
              "8    free/reduced       65.00\n",
              "9    free/reduced       49.33\n",
              "17   free/reduced       26.00\n",
              "..            ...         ...\n",
              "992  free/reduced       69.00\n",
              "993  free/reduced       69.33\n",
              "996  free/reduced       57.33\n",
              "997  free/reduced       65.00\n",
              "999  free/reduced       83.00\n",
              "\n",
              "[355 rows x 2 columns]"
            ]
          },
          "metadata": {
            "tags": []
          },
          "execution_count": 101
        }
      ]
    },
    {
      "cell_type": "code",
      "metadata": {
        "id": "LGJAj_9g7nkd"
      },
      "source": [
        "t2, p2 = stats.ttest_ind(ttest_data[ttest_data['lunch'] == 'free/reduced']['mean_score'],\n",
        "                         ttest_data[ttest_data['lunch'] == 'standard']['mean_score'])"
      ],
      "execution_count": 102,
      "outputs": []
    },
    {
      "cell_type": "code",
      "metadata": {
        "colab": {
          "base_uri": "https://localhost:8080/"
        },
        "id": "VB9Ejr4s79Wk",
        "outputId": "e50fdccc-b947-4d2f-f026-273a62626039"
      },
      "source": [
        "t2, p2"
      ],
      "execution_count": 103,
      "outputs": [
        {
          "output_type": "execute_result",
          "data": {
            "text/plain": [
              "(-9.575102511506232, 7.737514585087955e-21)"
            ]
          },
          "metadata": {
            "tags": []
          },
          "execution_count": 103
        }
      ]
    },
    {
      "cell_type": "markdown",
      "metadata": {
        "id": "XmAOI4Ju2Khr"
      },
      "source": [
        "#t-test (различия в оценках по математике в зависимости от пола)"
      ]
    },
    {
      "cell_type": "markdown",
      "metadata": {
        "id": "nZM1PUNO25fU"
      },
      "source": [
        "*   H0 - Нет значимых различий между оценками по математике у мужчин и женщин\n",
        "*   H1 - Есть значимые различия между оценками по математике у мужчин и женщин"
      ]
    },
    {
      "cell_type": "code",
      "metadata": {
        "id": "Ur2JaWPK2Srn"
      },
      "source": [
        "ttest_data_score_math = data[['gender', 'math score']]"
      ],
      "execution_count": 104,
      "outputs": []
    },
    {
      "cell_type": "code",
      "metadata": {
        "colab": {
          "base_uri": "https://localhost:8080/",
          "height": 0
        },
        "id": "-bowuVrj21Rc",
        "outputId": "634eba9f-5604-424a-be24-0e2b318958c4"
      },
      "source": [
        "ttest_data_score_math"
      ],
      "execution_count": 105,
      "outputs": [
        {
          "output_type": "execute_result",
          "data": {
            "text/html": [
              "<div>\n",
              "<style scoped>\n",
              "    .dataframe tbody tr th:only-of-type {\n",
              "        vertical-align: middle;\n",
              "    }\n",
              "\n",
              "    .dataframe tbody tr th {\n",
              "        vertical-align: top;\n",
              "    }\n",
              "\n",
              "    .dataframe thead th {\n",
              "        text-align: right;\n",
              "    }\n",
              "</style>\n",
              "<table border=\"1\" class=\"dataframe\">\n",
              "  <thead>\n",
              "    <tr style=\"text-align: right;\">\n",
              "      <th></th>\n",
              "      <th>gender</th>\n",
              "      <th>math score</th>\n",
              "    </tr>\n",
              "  </thead>\n",
              "  <tbody>\n",
              "    <tr>\n",
              "      <th>0</th>\n",
              "      <td>female</td>\n",
              "      <td>72</td>\n",
              "    </tr>\n",
              "    <tr>\n",
              "      <th>1</th>\n",
              "      <td>female</td>\n",
              "      <td>69</td>\n",
              "    </tr>\n",
              "    <tr>\n",
              "      <th>2</th>\n",
              "      <td>female</td>\n",
              "      <td>90</td>\n",
              "    </tr>\n",
              "    <tr>\n",
              "      <th>3</th>\n",
              "      <td>male</td>\n",
              "      <td>47</td>\n",
              "    </tr>\n",
              "    <tr>\n",
              "      <th>4</th>\n",
              "      <td>male</td>\n",
              "      <td>76</td>\n",
              "    </tr>\n",
              "    <tr>\n",
              "      <th>...</th>\n",
              "      <td>...</td>\n",
              "      <td>...</td>\n",
              "    </tr>\n",
              "    <tr>\n",
              "      <th>995</th>\n",
              "      <td>female</td>\n",
              "      <td>88</td>\n",
              "    </tr>\n",
              "    <tr>\n",
              "      <th>996</th>\n",
              "      <td>male</td>\n",
              "      <td>62</td>\n",
              "    </tr>\n",
              "    <tr>\n",
              "      <th>997</th>\n",
              "      <td>female</td>\n",
              "      <td>59</td>\n",
              "    </tr>\n",
              "    <tr>\n",
              "      <th>998</th>\n",
              "      <td>female</td>\n",
              "      <td>68</td>\n",
              "    </tr>\n",
              "    <tr>\n",
              "      <th>999</th>\n",
              "      <td>female</td>\n",
              "      <td>77</td>\n",
              "    </tr>\n",
              "  </tbody>\n",
              "</table>\n",
              "<p>1000 rows × 2 columns</p>\n",
              "</div>"
            ],
            "text/plain": [
              "     gender  math score\n",
              "0    female          72\n",
              "1    female          69\n",
              "2    female          90\n",
              "3      male          47\n",
              "4      male          76\n",
              "..      ...         ...\n",
              "995  female          88\n",
              "996    male          62\n",
              "997  female          59\n",
              "998  female          68\n",
              "999  female          77\n",
              "\n",
              "[1000 rows x 2 columns]"
            ]
          },
          "metadata": {
            "tags": []
          },
          "execution_count": 105
        }
      ]
    },
    {
      "cell_type": "code",
      "metadata": {
        "id": "QH85UyVn7J0k"
      },
      "source": [
        "ttest_data_score_math = ttest_data_score_math.loc[ttest_data_score_math['math score'] > 40]"
      ],
      "execution_count": 106,
      "outputs": []
    },
    {
      "cell_type": "code",
      "metadata": {
        "colab": {
          "base_uri": "https://localhost:8080/",
          "height": 0
        },
        "id": "Tn01_xj17SF8",
        "outputId": "34df0ca5-9dc8-4817-f6ef-8a2ae27146c5"
      },
      "source": [
        "ttest_data_score_math"
      ],
      "execution_count": 107,
      "outputs": [
        {
          "output_type": "execute_result",
          "data": {
            "text/html": [
              "<div>\n",
              "<style scoped>\n",
              "    .dataframe tbody tr th:only-of-type {\n",
              "        vertical-align: middle;\n",
              "    }\n",
              "\n",
              "    .dataframe tbody tr th {\n",
              "        vertical-align: top;\n",
              "    }\n",
              "\n",
              "    .dataframe thead th {\n",
              "        text-align: right;\n",
              "    }\n",
              "</style>\n",
              "<table border=\"1\" class=\"dataframe\">\n",
              "  <thead>\n",
              "    <tr style=\"text-align: right;\">\n",
              "      <th></th>\n",
              "      <th>gender</th>\n",
              "      <th>math score</th>\n",
              "    </tr>\n",
              "  </thead>\n",
              "  <tbody>\n",
              "    <tr>\n",
              "      <th>0</th>\n",
              "      <td>female</td>\n",
              "      <td>72</td>\n",
              "    </tr>\n",
              "    <tr>\n",
              "      <th>1</th>\n",
              "      <td>female</td>\n",
              "      <td>69</td>\n",
              "    </tr>\n",
              "    <tr>\n",
              "      <th>2</th>\n",
              "      <td>female</td>\n",
              "      <td>90</td>\n",
              "    </tr>\n",
              "    <tr>\n",
              "      <th>3</th>\n",
              "      <td>male</td>\n",
              "      <td>47</td>\n",
              "    </tr>\n",
              "    <tr>\n",
              "      <th>4</th>\n",
              "      <td>male</td>\n",
              "      <td>76</td>\n",
              "    </tr>\n",
              "    <tr>\n",
              "      <th>...</th>\n",
              "      <td>...</td>\n",
              "      <td>...</td>\n",
              "    </tr>\n",
              "    <tr>\n",
              "      <th>995</th>\n",
              "      <td>female</td>\n",
              "      <td>88</td>\n",
              "    </tr>\n",
              "    <tr>\n",
              "      <th>996</th>\n",
              "      <td>male</td>\n",
              "      <td>62</td>\n",
              "    </tr>\n",
              "    <tr>\n",
              "      <th>997</th>\n",
              "      <td>female</td>\n",
              "      <td>59</td>\n",
              "    </tr>\n",
              "    <tr>\n",
              "      <th>998</th>\n",
              "      <td>female</td>\n",
              "      <td>68</td>\n",
              "    </tr>\n",
              "    <tr>\n",
              "      <th>999</th>\n",
              "      <td>female</td>\n",
              "      <td>77</td>\n",
              "    </tr>\n",
              "  </tbody>\n",
              "</table>\n",
              "<p>950 rows × 2 columns</p>\n",
              "</div>"
            ],
            "text/plain": [
              "     gender  math score\n",
              "0    female          72\n",
              "1    female          69\n",
              "2    female          90\n",
              "3      male          47\n",
              "4      male          76\n",
              "..      ...         ...\n",
              "995  female          88\n",
              "996    male          62\n",
              "997  female          59\n",
              "998  female          68\n",
              "999  female          77\n",
              "\n",
              "[950 rows x 2 columns]"
            ]
          },
          "metadata": {
            "tags": []
          },
          "execution_count": 107
        }
      ]
    },
    {
      "cell_type": "code",
      "metadata": {
        "colab": {
          "base_uri": "https://localhost:8080/",
          "height": 0
        },
        "id": "1o1qBdmC2ye9",
        "outputId": "2a5b0a79-8ff2-4388-9d4e-468f4178c4e4"
      },
      "source": [
        "%matplotlib inline\n",
        "stats.probplot(ttest_data_score_math['math score'], dist=\"norm\", plot=plt)\n",
        "plt.show()"
      ],
      "execution_count": 108,
      "outputs": [
        {
          "output_type": "display_data",
          "data": {
            "image/png": "[encoded data removed]",
            "text/plain": [
              "<Figure size 432x288 with 1 Axes>"
            ]
          },
          "metadata": {
            "tags": [],
            "needs_background": "light"
          }
        }
      ]
    },
    {
      "cell_type": "code",
      "metadata": {
        "id": "EMzQHfgx7k-I"
      },
      "source": [
        "t_test, p_value = stats.ttest_ind(ttest_data_score_math[ttest_data_score_math['gender'] == 'male']['math score'],\n",
        "                                  ttest_data_score_math[ttest_data_score_math['gender'] == 'female']['math score'])"
      ],
      "execution_count": 109,
      "outputs": []
    },
    {
      "cell_type": "code",
      "metadata": {
        "colab": {
          "base_uri": "https://localhost:8080/"
        },
        "id": "4hl5x_-P7sKw",
        "outputId": "155c0de6-ead1-4619-9808-fe148bae3a8b"
      },
      "source": [
        "if p_value > 0.05:\n",
        "    print('Нет статистически значимой разницы','\\nt - критерий = ',t_test,'\\np-value =',p_value)\n",
        "else:\n",
        "    print('Есть статистически значимая разница','\\nt - критерий = ',t_test,'\\np-value =',p_value)"
      ],
      "execution_count": 110,
      "outputs": [
        {
          "output_type": "stream",
          "text": [
            "Есть статистически значимая разница \n",
            "t - критерий =  4.3012495916578555 \n",
            "p-value = 1.8743453702804056e-05\n"
          ],
          "name": "stdout"
        }
      ]
    },
    {
      "cell_type": "markdown",
      "metadata": {
        "id": "m18Wvpq2-fCD"
      },
      "source": [
        "# t - test (различия в оценках по чтению в зависимости от пола)"
      ]
    },
    {
      "cell_type": "markdown",
      "metadata": {
        "id": "ezVAgJ9s-iRN"
      },
      "source": [
        "*   H0 - Нет значимых различий между оценками по чтению у мужчин и женщин\n",
        "*   H1 - Есть значимые различия между оценками по чтению у мужчин и женщин"
      ]
    },
    {
      "cell_type": "code",
      "metadata": {
        "id": "PLQeb3EZ-0Tz"
      },
      "source": [
        "ttest_data_score_read = data[['gender', 'reading score']]"
      ],
      "execution_count": 111,
      "outputs": []
    },
    {
      "cell_type": "code",
      "metadata": {
        "id": "MawwBFw__I_z"
      },
      "source": [
        "ttest_data_score_read = ttest_data_score_read.loc[ttest_data_score_read['reading score'] > 40]"
      ],
      "execution_count": 112,
      "outputs": []
    },
    {
      "cell_type": "code",
      "metadata": {
        "colab": {
          "base_uri": "https://localhost:8080/",
          "height": 295
        },
        "id": "PUYI-mGN_KeH",
        "outputId": "61265b66-d362-4645-a054-150d323742b2"
      },
      "source": [
        "%matplotlib inline\n",
        "stats.probplot(ttest_data_score_read['reading score'], dist=\"norm\", plot=plt)\n",
        "plt.show()"
      ],
      "execution_count": 113,
      "outputs": [
        {
          "output_type": "display_data",
          "data": {
            "image/png": "[encoded data removed]",
            "text/plain": [
              "<Figure size 432x288 with 1 Axes>"
            ]
          },
          "metadata": {
            "tags": [],
            "needs_background": "light"
          }
        }
      ]
    },
    {
      "cell_type": "code",
      "metadata": {
        "id": "IWd9Yf4g_lMc"
      },
      "source": [
        "t_test, p_value = stats.ttest_ind(ttest_data_score_read[ttest_data_score_read['gender'] == 'male']['reading score'],\n",
        "                                ttest_data_score_read[ttest_data_score_read['gender'] == 'female']['reading score'])"
      ],
      "execution_count": 114,
      "outputs": []
    },
    {
      "cell_type": "code",
      "metadata": {
        "colab": {
          "base_uri": "https://localhost:8080/"
        },
        "id": "12e9rv7B_lEP",
        "outputId": "34a0b294-f8e3-4aa5-89ed-8df23a6b8bd4"
      },
      "source": [
        "if p_value > 0.05:\n",
        "    print('Нет статистически значимой разницы','\\nt - критерий = ',t_test,'\\np-value =',p_value)\n",
        "else:\n",
        "    print('Есть статистически значимая разница','\\nt - критерий = ',t_test,'\\np-value =',p_value)"
      ],
      "execution_count": 115,
      "outputs": [
        {
          "output_type": "stream",
          "text": [
            "Есть статистически значимая разница \n",
            "t - критерий =  -8.445974877596495 \n",
            "p-value = 1.0893817565662533e-16\n"
          ],
          "name": "stdout"
        }
      ]
    },
    {
      "cell_type": "markdown",
      "metadata": {
        "id": "UceaH7NfCF6J"
      },
      "source": [
        "## t - test (различия в оценках по письму в зависимости от пола)"
      ]
    },
    {
      "cell_type": "markdown",
      "metadata": {
        "id": "zc-t68VUCKp5"
      },
      "source": [
        "*   H0 - Нет значимых различий между оценками по письму у мужчин и женщин\n",
        "*   H1 - Есть значимые различия между оценками по письму у мужчин и женщин"
      ]
    },
    {
      "cell_type": "code",
      "metadata": {
        "id": "AMlQbCEHCPHY"
      },
      "source": [
        "ttest_data_score_write = data[['gender', 'writing score']]"
      ],
      "execution_count": 116,
      "outputs": []
    },
    {
      "cell_type": "code",
      "metadata": {
        "id": "rC0BqcodCU60"
      },
      "source": [
        "ttest_data_score_write = ttest_data_score_write.loc[ttest_data_score_write['writing score'] > 40]"
      ],
      "execution_count": 117,
      "outputs": []
    },
    {
      "cell_type": "code",
      "metadata": {
        "colab": {
          "base_uri": "https://localhost:8080/",
          "height": 295
        },
        "id": "J0D5mfhvCW03",
        "outputId": "c5e89710-37cd-49dd-9e65-29a19ff78758"
      },
      "source": [
        "%matplotlib inline\n",
        "stats.probplot(ttest_data_score_write['writing score'], dist=\"norm\", plot=plt)\n",
        "plt.show()"
      ],
      "execution_count": 118,
      "outputs": [
        {
          "output_type": "display_data",
          "data": {
            "image/png": "[encoded data removed]",
            "text/plain": [
              "<Figure size 432x288 with 1 Axes>"
            ]
          },
          "metadata": {
            "tags": [],
            "needs_background": "light"
          }
        }
      ]
    },
    {
      "cell_type": "code",
      "metadata": {
        "id": "1Ie-l4SsCni5"
      },
      "source": [
        "t_test, p_value = stats.ttest_ind(ttest_data_score_write[ttest_data_score_write['gender'] == 'male']['writing score'],\n",
        "                                  ttest_data_score_write[ttest_data_score_write['gender'] == 'female']['writing score'])"
      ],
      "execution_count": 119,
      "outputs": []
    },
    {
      "cell_type": "code",
      "metadata": {
        "colab": {
          "base_uri": "https://localhost:8080/"
        },
        "id": "EKGm8oCQCpLd",
        "outputId": "ff3a7520-10f5-48c6-c73d-6af5d9875b63"
      },
      "source": [
        "if p_value > 0.05:\n",
        "    print('Нет статистически значимой разницы','\\nt - критерий = ',t_test,'\\np-value =',p_value)\n",
        "else:\n",
        "    print('Есть статистически значимая разница','\\nt - критерий = ',t_test,'\\np-value =',p_value)"
      ],
      "execution_count": 120,
      "outputs": [
        {
          "output_type": "stream",
          "text": [
            "Есть статистически значимая разница \n",
            "t - критерий =  -10.797094918474059 \n",
            "p-value = 9.864614216823529e-26\n"
          ],
          "name": "stdout"
        }
      ]
    },
    {
      "cell_type": "markdown",
      "metadata": {
        "id": "0vHhLZ-eNH3P"
      },
      "source": [
        "#Однофакторный дисперсионный анализ средней оценки по расовым группам"
      ]
    },
    {
      "cell_type": "markdown",
      "metadata": {
        "id": "XUVa7FCFNRTD"
      },
      "source": [
        "H0 - Нет значимых различий между средними оценками по предметом у различных расовых групп \n",
        "\n",
        "H1 - Есть значимые различия между между средними оценками по предметом у различных расовых групп"
      ]
    },
    {
      "cell_type": "code",
      "metadata": {
        "id": "Psv2Ho44NLYr"
      },
      "source": [
        "ftest_data_gpa = data[['race/ethnicity','math score', 'reading score', 'writing score']]"
      ],
      "execution_count": 121,
      "outputs": []
    },
    {
      "cell_type": "code",
      "metadata": {
        "colab": {
          "base_uri": "https://localhost:8080/"
        },
        "id": "q82-SySTNwoj",
        "outputId": "438c8afc-3073-4bf9-901e-ecb7e9bde50e"
      },
      "source": [
        "ftest_data_gpa['mean_score'] = ((ftest_data_gpa['math score'] + ftest_data_gpa['reading score'] + ftest_data_gpa['writing score'])/3).round(2)"
      ],
      "execution_count": 122,
      "outputs": [
        {
          "output_type": "stream",
          "text": [
            "/usr/local/lib/python3.7/dist-packages/ipykernel_launcher.py:1: SettingWithCopyWarning:\n",
            "\n",
            "\n",
            "A value is trying to be set on a copy of a slice from a DataFrame.\n",
            "Try using .loc[row_indexer,col_indexer] = value instead\n",
            "\n",
            "See the caveats in the documentation: https://pandas.pydata.org/pandas-docs/stable/user_guide/indexing.html#returning-a-view-versus-a-copy\n",
            "\n"
          ],
          "name": "stderr"
        }
      ]
    },
    {
      "cell_type": "code",
      "metadata": {
        "id": "9WCDDnFsON1A"
      },
      "source": [
        "ftest_data_gpa = ftest_data_gpa.drop(['math score',\t'reading score',\t'writing score'], axis = 1)"
      ],
      "execution_count": 123,
      "outputs": []
    },
    {
      "cell_type": "code",
      "metadata": {
        "id": "PRndldiROsWk"
      },
      "source": [
        "ftest_data_gpa = ftest_data_gpa.loc[ftest_data_gpa['mean_score'] > 20]"
      ],
      "execution_count": 124,
      "outputs": []
    },
    {
      "cell_type": "code",
      "metadata": {
        "colab": {
          "base_uri": "https://localhost:8080/",
          "height": 419
        },
        "id": "CIES2iLOOTCj",
        "outputId": "66947089-f48f-4f93-c9c0-377aa9333a4e"
      },
      "source": [
        "ftest_data_gpa"
      ],
      "execution_count": 125,
      "outputs": [
        {
          "output_type": "execute_result",
          "data": {
            "text/html": [
              "<div>\n",
              "<style scoped>\n",
              "    .dataframe tbody tr th:only-of-type {\n",
              "        vertical-align: middle;\n",
              "    }\n",
              "\n",
              "    .dataframe tbody tr th {\n",
              "        vertical-align: top;\n",
              "    }\n",
              "\n",
              "    .dataframe thead th {\n",
              "        text-align: right;\n",
              "    }\n",
              "</style>\n",
              "<table border=\"1\" class=\"dataframe\">\n",
              "  <thead>\n",
              "    <tr style=\"text-align: right;\">\n",
              "      <th></th>\n",
              "      <th>race/ethnicity</th>\n",
              "      <th>mean_score</th>\n",
              "    </tr>\n",
              "  </thead>\n",
              "  <tbody>\n",
              "    <tr>\n",
              "      <th>0</th>\n",
              "      <td>group B</td>\n",
              "      <td>72.67</td>\n",
              "    </tr>\n",
              "    <tr>\n",
              "      <th>1</th>\n",
              "      <td>group C</td>\n",
              "      <td>82.33</td>\n",
              "    </tr>\n",
              "    <tr>\n",
              "      <th>2</th>\n",
              "      <td>group B</td>\n",
              "      <td>92.67</td>\n",
              "    </tr>\n",
              "    <tr>\n",
              "      <th>3</th>\n",
              "      <td>group A</td>\n",
              "      <td>49.33</td>\n",
              "    </tr>\n",
              "    <tr>\n",
              "      <th>4</th>\n",
              "      <td>group C</td>\n",
              "      <td>76.33</td>\n",
              "    </tr>\n",
              "    <tr>\n",
              "      <th>...</th>\n",
              "      <td>...</td>\n",
              "      <td>...</td>\n",
              "    </tr>\n",
              "    <tr>\n",
              "      <th>995</th>\n",
              "      <td>group E</td>\n",
              "      <td>94.00</td>\n",
              "    </tr>\n",
              "    <tr>\n",
              "      <th>996</th>\n",
              "      <td>group C</td>\n",
              "      <td>57.33</td>\n",
              "    </tr>\n",
              "    <tr>\n",
              "      <th>997</th>\n",
              "      <td>group C</td>\n",
              "      <td>65.00</td>\n",
              "    </tr>\n",
              "    <tr>\n",
              "      <th>998</th>\n",
              "      <td>group D</td>\n",
              "      <td>74.33</td>\n",
              "    </tr>\n",
              "    <tr>\n",
              "      <th>999</th>\n",
              "      <td>group D</td>\n",
              "      <td>83.00</td>\n",
              "    </tr>\n",
              "  </tbody>\n",
              "</table>\n",
              "<p>998 rows × 2 columns</p>\n",
              "</div>"
            ],
            "text/plain": [
              "    race/ethnicity  mean_score\n",
              "0          group B       72.67\n",
              "1          group C       82.33\n",
              "2          group B       92.67\n",
              "3          group A       49.33\n",
              "4          group C       76.33\n",
              "..             ...         ...\n",
              "995        group E       94.00\n",
              "996        group C       57.33\n",
              "997        group C       65.00\n",
              "998        group D       74.33\n",
              "999        group D       83.00\n",
              "\n",
              "[998 rows x 2 columns]"
            ]
          },
          "metadata": {
            "tags": []
          },
          "execution_count": 125
        }
      ]
    },
    {
      "cell_type": "code",
      "metadata": {
        "id": "ofIYhORtqaas"
      },
      "source": [
        "ftest_data_gpa = ftest_data_gpa.loc[ftest_data_gpa['mean_score'] > 40]"
      ],
      "execution_count": 151,
      "outputs": []
    },
    {
      "cell_type": "code",
      "metadata": {
        "colab": {
          "base_uri": "https://localhost:8080/",
          "height": 295
        },
        "id": "dfO0qQXrOe-1",
        "outputId": "8ed47313-28a7-4669-a6f9-59b21aabc51c"
      },
      "source": [
        "%matplotlib inline\n",
        "stats.probplot(ftest_data_gpa['mean_score'], dist=\"norm\", plot=plt)\n",
        "plt.show()"
      ],
      "execution_count": 152,
      "outputs": [
        {
          "output_type": "display_data",
          "data": {
            "image/png": "[encoded data removed]",
            "text/plain": [
              "<Figure size 432x288 with 1 Axes>"
            ]
          },
          "metadata": {
            "tags": [],
            "needs_background": "light"
          }
        }
      ]
    },
    {
      "cell_type": "code",
      "metadata": {
        "id": "mCXKo6LvPTes"
      },
      "source": [
        "group_a = ftest_data_gpa[ftest_data_gpa['race/ethnicity'] == 'group A']['mean_score']\n",
        "group_b = ftest_data_gpa[ftest_data_gpa['race/ethnicity'] == 'group B']['mean_score']\n",
        "group_c = ftest_data_gpa[ftest_data_gpa['race/ethnicity'] == 'group C']['mean_score']\n",
        "group_d = ftest_data_gpa[ftest_data_gpa['race/ethnicity'] == 'group D']['mean_score']\n",
        "group_e = ftest_data_gpa[ftest_data_gpa['race/ethnicity'] == 'group E']['mean_score']"
      ],
      "execution_count": 153,
      "outputs": []
    },
    {
      "cell_type": "code",
      "metadata": {
        "id": "-y89uolaP-p9"
      },
      "source": [
        "n_group_a = len(group_a)\n",
        "n_group_b = len(group_b)\n",
        "n_group_c = len(group_c)\n",
        "n_group_d = len(group_d)\n",
        "n_group_e = len(group_e)"
      ],
      "execution_count": 154,
      "outputs": []
    },
    {
      "cell_type": "markdown",
      "metadata": {
        "id": "u0NSLM-2RVU0"
      },
      "source": [
        "Число классов градации фактора (групп) a = 5"
      ]
    },
    {
      "cell_type": "code",
      "metadata": {
        "id": "QajkREznR_p1"
      },
      "source": [
        "a = 5"
      ],
      "execution_count": 155,
      "outputs": []
    },
    {
      "cell_type": "markdown",
      "metadata": {
        "id": "UHJCNRcERZzb"
      },
      "source": [
        "Число наблюдений в группах"
      ]
    },
    {
      "cell_type": "code",
      "metadata": {
        "colab": {
          "base_uri": "https://localhost:8080/"
        },
        "id": "9J0VWAMWQPOF",
        "outputId": "74418007-ee0b-4876-aff8-27d2f5bdfc5e"
      },
      "source": [
        "n_group_a, n_group_b, n_group_c, n_group_d, n_group_e"
      ],
      "execution_count": 156,
      "outputs": [
        {
          "output_type": "execute_result",
          "data": {
            "text/plain": [
              "(86, 182, 309, 254, 137)"
            ]
          },
          "metadata": {
            "tags": []
          },
          "execution_count": 156
        }
      ]
    },
    {
      "cell_type": "markdown",
      "metadata": {
        "id": "P2veeRWbVKxG"
      },
      "source": [
        "Среднее x_mean"
      ]
    },
    {
      "cell_type": "code",
      "metadata": {
        "id": "osg7a83JVI-G"
      },
      "source": [
        "x_a = group_a.sum() / n_group_a\n",
        "x_b = group_b.sum() / n_group_b\n",
        "x_c = group_c.sum() / n_group_c\n",
        "x_d = group_d.sum() / n_group_d\n",
        "x_e = group_e.sum() / n_group_e"
      ],
      "execution_count": 157,
      "outputs": []
    },
    {
      "cell_type": "code",
      "metadata": {
        "colab": {
          "base_uri": "https://localhost:8080/"
        },
        "id": "9HtWKoEIVgES",
        "outputId": "3555f2ad-5887-404f-ad3f-399f963de05d"
      },
      "source": [
        "x_a, x_b, x_c, x_d, x_c"
      ],
      "execution_count": 158,
      "outputs": [
        {
          "output_type": "execute_result",
          "data": {
            "text/plain": [
              "(64.02686046511627,\n",
              " 67.08439560439561,\n",
              " 68.2642071197411,\n",
              " 70.18499999999999,\n",
              " 68.2642071197411)"
            ]
          },
          "metadata": {
            "tags": []
          },
          "execution_count": 158
        }
      ]
    },
    {
      "cell_type": "markdown",
      "metadata": {
        "id": "Dsqvlqi0VzfL"
      },
      "source": [
        "Дисперсия"
      ]
    },
    {
      "cell_type": "code",
      "metadata": {
        "id": "FtchQP-sV1-K"
      },
      "source": [
        "#дисперсии\n",
        "var_a = np.var(group_a,ddof = 1)\n",
        "var_b = np.var(group_b,ddof = 1)\n",
        "var_c = np.var(group_c,ddof = 1)\n",
        "var_d = np.var(group_d,ddof = 1)\n",
        "var_e = np.var(group_e,ddof = 1)"
      ],
      "execution_count": 159,
      "outputs": []
    },
    {
      "cell_type": "code",
      "metadata": {
        "colab": {
          "base_uri": "https://localhost:8080/"
        },
        "id": "Cp4qBBmTWDFQ",
        "outputId": "d4f3271c-00c8-412c-c411-9c711f37c4d9"
      },
      "source": [
        "var_a, var_b, var_c, var_d, var_e"
      ],
      "execution_count": 160,
      "outputs": [
        {
          "output_type": "execute_result",
          "data": {
            "text/plain": [
              "(182.09846649794798,\n",
              " 162.78340377633418,\n",
              " 155.26381406085824,\n",
              " 147.55570415019758,\n",
              " 181.45915873765574)"
            ]
          },
          "metadata": {
            "tags": []
          },
          "execution_count": 160
        }
      ]
    },
    {
      "cell_type": "markdown",
      "metadata": {
        "id": "Vg3fWvy-RgMe"
      },
      "source": [
        " Общее число наблюдений n_all"
      ]
    },
    {
      "cell_type": "code",
      "metadata": {
        "id": "37c_31A3Rfme"
      },
      "source": [
        " n_all = len(ftest_data_gpa)"
      ],
      "execution_count": 161,
      "outputs": []
    },
    {
      "cell_type": "markdown",
      "metadata": {
        "id": "Vc5Sc4v8RxZP"
      },
      "source": [
        "Числа степеней свободы:\n",
        "\n",
        "va = a − 1,\n",
        "\n",
        "ve = n_all − a \n",
        "\n",
        "v = n_all − 1 "
      ]
    },
    {
      "cell_type": "code",
      "metadata": {
        "id": "hRhr_d4yR3TC"
      },
      "source": [
        "va = 4\n",
        "ve = n_all - a\n",
        "v = n_all - 1"
      ],
      "execution_count": 162,
      "outputs": []
    },
    {
      "cell_type": "markdown",
      "metadata": {
        "id": "hFlPfe7RSG5l"
      },
      "source": [
        "Вычислим суммы квадратов отклонений"
      ]
    },
    {
      "cell_type": "code",
      "metadata": {
        "id": "G4GD-mEATIv1"
      },
      "source": [
        "sum_a = group_a.sum()"
      ],
      "execution_count": 163,
      "outputs": []
    },
    {
      "cell_type": "code",
      "metadata": {
        "colab": {
          "base_uri": "https://localhost:8080/"
        },
        "id": "4OLcbSzhTOwJ",
        "outputId": "6e43f049-60df-4792-e798-6751911368e0"
      },
      "source": [
        "sum_a"
      ],
      "execution_count": 164,
      "outputs": [
        {
          "output_type": "execute_result",
          "data": {
            "text/plain": [
              "5506.3099999999995"
            ]
          },
          "metadata": {
            "tags": []
          },
          "execution_count": 164
        }
      ]
    },
    {
      "cell_type": "code",
      "metadata": {
        "id": "A09rxRI4SGsj"
      },
      "source": [
        "A__ = ((group_a.sum() + group_b.sum() + group_c.sum() + group_d.sum() + group_e.sum()) / n_all).round(2)"
      ],
      "execution_count": 165,
      "outputs": []
    },
    {
      "cell_type": "code",
      "metadata": {
        "colab": {
          "base_uri": "https://localhost:8080/"
        },
        "id": "9HmTQo0zTjQW",
        "outputId": "74fd965a-4cdc-4cda-fca8-354f11399cdb"
      },
      "source": [
        "A__"
      ],
      "execution_count": 166,
      "outputs": [
        {
          "output_type": "execute_result",
          "data": {
            "text/plain": [
              "68.93"
            ]
          },
          "metadata": {
            "tags": []
          },
          "execution_count": 166
        }
      ]
    },
    {
      "cell_type": "code",
      "metadata": {
        "id": "5DFxE7xWUEdz"
      },
      "source": [
        "SSa = n_group_a * (x_a - A__)**2 + n_group_b * (x_b - A__)**2 + n_group_c * (x_c.sum() - A__)**2 + \n",
        "n_group_d * (x_d.sum() - A__)**2 + n_group_e * (x_e.sum() - A__)**2"
      ],
      "execution_count": 167,
      "outputs": []
    },
    {
      "cell_type": "code",
      "metadata": {
        "colab": {
          "base_uri": "https://localhost:8080/"
        },
        "id": "uoazgJw-UsY9",
        "outputId": "2235cf40-81cb-4fd8-d8f2-15f201863a48"
      },
      "source": [
        "SSa"
      ],
      "execution_count": 168,
      "outputs": [
        {
          "output_type": "execute_result",
          "data": {
            "text/plain": [
              "6225.478495092424"
            ]
          },
          "metadata": {
            "tags": []
          },
          "execution_count": 168
        }
      ]
    },
    {
      "cell_type": "code",
      "metadata": {
        "id": "yvK9436QWLgi"
      },
      "source": [
        "SSe = (n_group_a - 1) * var_a + (n_group_b - 1) * var_b + (n_group_c - 1) * var_c + \n",
        "(n_group_d - 1) * var_d + (n_group_e - 1) * var_e "
      ],
      "execution_count": 169,
      "outputs": []
    },
    {
      "cell_type": "code",
      "metadata": {
        "colab": {
          "base_uri": "https://localhost:8080/"
        },
        "id": "QGwTZQ5YWYNw",
        "outputId": "47343d8b-8987-448f-853b-9e673e137825"
      },
      "source": [
        "SSe"
      ],
      "execution_count": 170,
      "outputs": [
        {
          "output_type": "execute_result",
          "data": {
            "text/plain": [
              "154773.45920490756"
            ]
          },
          "metadata": {
            "tags": []
          },
          "execution_count": 170
        }
      ]
    },
    {
      "cell_type": "markdown",
      "metadata": {
        "id": "rIARx-f1WinY"
      },
      "source": [
        "Вычислим дисперсии:"
      ]
    },
    {
      "cell_type": "code",
      "metadata": {
        "id": "ccj6qLvDWjYn"
      },
      "source": [
        "MSa = SSa / va\n",
        "MSe = SSe / ve"
      ],
      "execution_count": 171,
      "outputs": []
    },
    {
      "cell_type": "code",
      "metadata": {
        "colab": {
          "base_uri": "https://localhost:8080/"
        },
        "id": "1_uGR42hXJYp",
        "outputId": "ee9143e7-f1f2-4318-e6a6-b35142506b1f"
      },
      "source": [
        "MSa, MSe"
      ],
      "execution_count": 172,
      "outputs": [
        {
          "output_type": "execute_result",
          "data": {
            "text/plain": [
              "(1556.369623773106, 160.72010301651875)"
            ]
          },
          "metadata": {
            "tags": []
          },
          "execution_count": 172
        }
      ]
    },
    {
      "cell_type": "markdown",
      "metadata": {
        "id": "6T-6c8wPXUKP"
      },
      "source": [
        "Вычислим фактическое отношение Фишера:"
      ]
    },
    {
      "cell_type": "code",
      "metadata": {
        "colab": {
          "base_uri": "https://localhost:8080/"
        },
        "id": "ijDtzbxGXRT3",
        "outputId": "28d8aa84-1572-477f-fbda-7ae893744b40"
      },
      "source": [
        "A = (MSa / MSe).round(2)\n",
        "A"
      ],
      "execution_count": 173,
      "outputs": [
        {
          "output_type": "execute_result",
          "data": {
            "text/plain": [
              "9.68"
            ]
          },
          "metadata": {
            "tags": []
          },
          "execution_count": 173
        }
      ]
    },
    {
      "cell_type": "code",
      "metadata": {
        "id": "ziZFFt_yPSA1"
      },
      "source": [
        "f_value, p_value = stats.f_oneway(group_a,group_b, group_c, group_d, group_e)"
      ],
      "execution_count": 174,
      "outputs": []
    },
    {
      "cell_type": "code",
      "metadata": {
        "colab": {
          "base_uri": "https://localhost:8080/"
        },
        "id": "an2JX8OUPv0x",
        "outputId": "ac5773a0-471f-4fb4-8c39-a2250c312498"
      },
      "source": [
        "f_value, p_value"
      ],
      "execution_count": 175,
      "outputs": [
        {
          "output_type": "execute_result",
          "data": {
            "text/plain": [
              "(9.683709322562734, 1.1124006299645788e-07)"
            ]
          },
          "metadata": {
            "tags": []
          },
          "execution_count": 175
        }
      ]
    },
    {
      "cell_type": "code",
      "metadata": {
        "colab": {
          "base_uri": "https://localhost:8080/"
        },
        "id": "_JQx4V-dkFbi",
        "outputId": "c68dc5d7-e7ad-4bdf-a92d-886d3ea6fd57"
      },
      "source": [
        "if p_value > 0.05:\n",
        "    print('Нет статистически значимой разницы','\\nF - критерий = ',f_value,'\\np-value =',p_value)\n",
        "else:\n",
        "    print('Есть статистически значимая разница','\\nF - критерий = ',f_value,'\\np-value =',p_value)"
      ],
      "execution_count": 176,
      "outputs": [
        {
          "output_type": "stream",
          "text": [
            "Есть статистически значимая разница \n",
            "F - критерий =  9.683709322562734 \n",
            "p-value = 1.1124006299645788e-07\n"
          ],
          "name": "stdout"
        }
      ]
    },
    {
      "cell_type": "markdown",
      "metadata": {
        "id": "vSS9iL2HwHYQ"
      },
      "source": [
        "#Однофакторный дисперсионный анализ средней оценки в зависимости от образования родителей"
      ]
    },
    {
      "cell_type": "markdown",
      "metadata": {
        "id": "q-Bh5YEawOox"
      },
      "source": [
        "H0 - Нет значимых различий между средними оценками студентов,в зависимости от образования родителей\n",
        "\n",
        "H1 - Есть значимые различия между между средними оценками студентов,в зависимости от образования родителей"
      ]
    },
    {
      "cell_type": "code",
      "metadata": {
        "id": "d2t2bih_wOZk"
      },
      "source": [
        "ftest_data_ple = data[['parental level of education','math score', 'reading score', 'writing score']]"
      ],
      "execution_count": 179,
      "outputs": []
    },
    {
      "cell_type": "code",
      "metadata": {
        "colab": {
          "base_uri": "https://localhost:8080/"
        },
        "id": "m1EsyDSbwsyQ",
        "outputId": "37b4ec2b-b158-4374-fd3a-813d5c1e1852"
      },
      "source": [
        "ftest_data_ple['mean_score'] = ((ftest_data_ple['math score'] + ftest_data_ple['reading score'] + ftest_data_ple['writing score'])/3).round(2)"
      ],
      "execution_count": 180,
      "outputs": [
        {
          "output_type": "stream",
          "text": [
            "/usr/local/lib/python3.7/dist-packages/ipykernel_launcher.py:1: SettingWithCopyWarning:\n",
            "\n",
            "\n",
            "A value is trying to be set on a copy of a slice from a DataFrame.\n",
            "Try using .loc[row_indexer,col_indexer] = value instead\n",
            "\n",
            "See the caveats in the documentation: https://pandas.pydata.org/pandas-docs/stable/user_guide/indexing.html#returning-a-view-versus-a-copy\n",
            "\n"
          ],
          "name": "stderr"
        }
      ]
    },
    {
      "cell_type": "code",
      "metadata": {
        "id": "Hs40Oo_CwxSQ"
      },
      "source": [
        "ftest_data_ple = ftest_data_ple.drop(['math score',\t'reading score',\t'writing score'], axis = 1)"
      ],
      "execution_count": 181,
      "outputs": []
    },
    {
      "cell_type": "code",
      "metadata": {
        "id": "IzQZrOXFw3w2"
      },
      "source": [
        "ftest_data_ple = ftest_data_ple.loc[ftest_data_ple['mean_score'] > 40]"
      ],
      "execution_count": 182,
      "outputs": []
    },
    {
      "cell_type": "code",
      "metadata": {
        "colab": {
          "base_uri": "https://localhost:8080/",
          "height": 295
        },
        "id": "4Vyizd_ww6Ov",
        "outputId": "8b848138-03e1-4e83-c110-b982c03433dd"
      },
      "source": [
        "%matplotlib inline\n",
        "stats.probplot(ftest_data_ple['mean_score'], dist=\"norm\", plot=plt)\n",
        "plt.show()"
      ],
      "execution_count": 183,
      "outputs": [
        {
          "output_type": "display_data",
          "data": {
            "image/png": "[encoded data removed]",
            "text/plain": [
              "<Figure size 432x288 with 1 Axes>"
            ]
          },
          "metadata": {
            "tags": [],
            "needs_background": "light"
          }
        }
      ]
    },
    {
      "cell_type": "code",
      "metadata": {
        "id": "K5jucxo2z3q3"
      },
      "source": [
        "group_hs = ftest_data_ple[ftest_data_ple['parental level of education'] == 'high school']['mean_score']\n",
        "group_shs = ftest_data_ple[ftest_data_ple['parental level of education'] == 'some high school']['mean_score']\n",
        "group_sc = ftest_data_ple[ftest_data_ple['parental level of education'] == 'some college']['mean_score']\n",
        "group_ab = ftest_data_ple[ftest_data_ple['parental level of education'] == 'associate\\'s degree']['mean_score']\n",
        "group_bb = ftest_data_ple[ftest_data_ple['parental level of education'] == 'bachelor\\'s degree']['mean_score']\n",
        "group_mb = ftest_data_ple[ftest_data_ple['parental level of education'] == 'master\\'s degree']['mean_score']"
      ],
      "execution_count": 184,
      "outputs": []
    },
    {
      "cell_type": "code",
      "metadata": {
        "id": "NlCT9ng4w76S"
      },
      "source": [
        "f_value, p_value = stats.f_oneway(group_hs,group_shs, group_sc, group_ab, group_bb, group_mb)"
      ],
      "execution_count": 185,
      "outputs": []
    },
    {
      "cell_type": "code",
      "metadata": {
        "colab": {
          "base_uri": "https://localhost:8080/"
        },
        "id": "A4cQekDow9Qg",
        "outputId": "a4d26d53-902a-44fc-c322-5c09898d8c0e"
      },
      "source": [
        "if p_value > 0.05:\n",
        "    print('Нет статистически значимой разницы','\\nF - критерий = ',f_value,'\\np-value =',p_value)\n",
        "else:\n",
        "    print('Есть статистически значимая разница','\\nF - критерий = ',f_value,'\\np-value =',p_value)"
      ],
      "execution_count": 186,
      "outputs": [
        {
          "output_type": "stream",
          "text": [
            "Есть статистически значимая разница \n",
            "F - критерий =  8.843918251803245 \n",
            "p-value = 3.2114391169980125e-08\n"
          ],
          "name": "stdout"
        }
      ]
    }
  ]
}