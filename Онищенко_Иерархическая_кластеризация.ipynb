{
  "nbformat": 4,
  "nbformat_minor": 0,
  "metadata": {
    "colab": {
      "name": "Иерархическая кластеризация.ipynb",
      "provenance": [],
      "collapsed_sections": []
    },
    "kernelspec": {
      "name": "python3",
      "display_name": "Python 3"
    },
    "language_info": {
      "name": "python"
    }
  },
  "cells": [
    {
      "cell_type": "markdown",
      "metadata": {
        "id": "5BCSBuPnXWLP"
      },
      "source": [
        "#Начальные установки"
      ]
    },
    {
      "cell_type": "code",
      "metadata": {
        "colab": {
          "base_uri": "https://localhost:8080/"
        },
        "id": "tWp1Y8R0BMCt",
        "outputId": "767bd4fc-ce28-443b-9903-8b3777b4f787"
      },
      "source": [
        "!pip install clickhouse_driver\n",
        "!pip install h3"
      ],
      "execution_count": 35,
      "outputs": [
        {
          "output_type": "stream",
          "text": [
            "Requirement already satisfied: clickhouse_driver in /usr/local/lib/python3.7/dist-packages (0.2.0)\n",
            "Requirement already satisfied: tzlocal<3.0 in /usr/local/lib/python3.7/dist-packages (from clickhouse_driver) (1.5.1)\n",
            "Requirement already satisfied: pytz in /usr/local/lib/python3.7/dist-packages (from clickhouse_driver) (2018.9)\n",
            "Requirement already satisfied: h3 in /usr/local/lib/python3.7/dist-packages (3.7.2)\n"
          ],
          "name": "stdout"
        }
      ]
    },
    {
      "cell_type": "code",
      "metadata": {
        "id": "f5ziI7eGBM04"
      },
      "source": [
        "import pandas as pd\n",
        "import numpy as np\n",
        "import datetime\n",
        "import sqlalchemy\n",
        "import seaborn as sns\n",
        "from clickhouse_driver import Client\n",
        "from pandas_profiling import ProfileReport\n",
        "import plotly.graph_objs as go\n",
        "from plotly.offline import download_plotlyjs, init_notebook_mode, plot, iplot\n",
        "from plotly import tools\n",
        "from plotly.subplots import make_subplots\n",
        "import plotly.express as px\n",
        "from geopy.geocoders import Nominatim\n",
        "from sklearn.cluster import KMeans\n",
        "import h3\n",
        "import seaborn as sns\n",
        "import matplotlib.pyplot as plt"
      ],
      "execution_count": 36,
      "outputs": []
    },
    {
      "cell_type": "code",
      "metadata": {
        "id": "IJvbD07rBOwy"
      },
      "source": [
        "client = Client('89.208.84.253',\n",
        "                port= '59000',\n",
        "                user='student',\n",
        "                password='nUrHdn2N',\n",
        "                secure=False,\n",
        "                verify=True,\n",
        "                database='data_analysis',\n",
        "                compression=False)"
      ],
      "execution_count": 37,
      "outputs": []
    },
    {
      "cell_type": "code",
      "metadata": {
        "colab": {
          "base_uri": "https://localhost:8080/",
          "height": 416
        },
        "id": "dy1nQPDIBGDr",
        "outputId": "4856d409-f623-4193-d2db-4f19a2ebcd49"
      },
      "source": [
        "result,columns = client.execute(\"\"\"SELECT v.idhash_client,\n",
        "       latitude,\n",
        "       longitude,\n",
        "       sum(v.client_bill_usd) as client_bill_usd_sum\n",
        "FROM data_analysis.views v INNER JOIN orders o on v.idhash_order = o.idhash_order\n",
        "WHERE v.idhash_order > 0 and o.status = 'CP'\n",
        "GROUP BY idhash_client, latitude, longitude\n",
        "ORDER BY idhash_client ASC;\"\"\",with_column_types=True)\n",
        "view_data_IQR = pd.DataFrame(result, columns=[tuple[0] for tuple in columns])\n",
        "view_data_IQR"
      ],
      "execution_count": 38,
      "outputs": [
        {
          "output_type": "execute_result",
          "data": {
            "text/html": [
              "<div>\n",
              "<style scoped>\n",
              "    .dataframe tbody tr th:only-of-type {\n",
              "        vertical-align: middle;\n",
              "    }\n",
              "\n",
              "    .dataframe tbody tr th {\n",
              "        vertical-align: top;\n",
              "    }\n",
              "\n",
              "    .dataframe thead th {\n",
              "        text-align: right;\n",
              "    }\n",
              "</style>\n",
              "<table border=\"1\" class=\"dataframe\">\n",
              "  <thead>\n",
              "    <tr style=\"text-align: right;\">\n",
              "      <th></th>\n",
              "      <th>idhash_client</th>\n",
              "      <th>latitude</th>\n",
              "      <th>longitude</th>\n",
              "      <th>client_bill_usd_sum</th>\n",
              "    </tr>\n",
              "  </thead>\n",
              "  <tbody>\n",
              "    <tr>\n",
              "      <th>0</th>\n",
              "      <td>39262</td>\n",
              "      <td>57.584268</td>\n",
              "      <td>39.825746</td>\n",
              "      <td>1.720</td>\n",
              "    </tr>\n",
              "    <tr>\n",
              "      <th>1</th>\n",
              "      <td>39262</td>\n",
              "      <td>57.584267</td>\n",
              "      <td>39.825745</td>\n",
              "      <td>2.790</td>\n",
              "    </tr>\n",
              "    <tr>\n",
              "      <th>2</th>\n",
              "      <td>39262</td>\n",
              "      <td>57.584282</td>\n",
              "      <td>39.825794</td>\n",
              "      <td>1.860</td>\n",
              "    </tr>\n",
              "    <tr>\n",
              "      <th>3</th>\n",
              "      <td>48902</td>\n",
              "      <td>57.606331</td>\n",
              "      <td>39.888371</td>\n",
              "      <td>2.650</td>\n",
              "    </tr>\n",
              "    <tr>\n",
              "      <th>4</th>\n",
              "      <td>199395</td>\n",
              "      <td>57.639099</td>\n",
              "      <td>39.839841</td>\n",
              "      <td>2.070</td>\n",
              "    </tr>\n",
              "    <tr>\n",
              "      <th>...</th>\n",
              "      <td>...</td>\n",
              "      <td>...</td>\n",
              "      <td>...</td>\n",
              "      <td>...</td>\n",
              "    </tr>\n",
              "    <tr>\n",
              "      <th>41555</th>\n",
              "      <td>4294468826</td>\n",
              "      <td>57.578313</td>\n",
              "      <td>39.847696</td>\n",
              "      <td>3.760</td>\n",
              "    </tr>\n",
              "    <tr>\n",
              "      <th>41556</th>\n",
              "      <td>4294468826</td>\n",
              "      <td>57.591675</td>\n",
              "      <td>39.866699</td>\n",
              "      <td>3.310</td>\n",
              "    </tr>\n",
              "    <tr>\n",
              "      <th>41557</th>\n",
              "      <td>4294468826</td>\n",
              "      <td>57.624080</td>\n",
              "      <td>39.852321</td>\n",
              "      <td>8.100</td>\n",
              "    </tr>\n",
              "    <tr>\n",
              "      <th>41558</th>\n",
              "      <td>4294468826</td>\n",
              "      <td>57.625189</td>\n",
              "      <td>39.850467</td>\n",
              "      <td>3.135</td>\n",
              "    </tr>\n",
              "    <tr>\n",
              "      <th>41559</th>\n",
              "      <td>4294689425</td>\n",
              "      <td>57.569902</td>\n",
              "      <td>39.874486</td>\n",
              "      <td>2.280</td>\n",
              "    </tr>\n",
              "  </tbody>\n",
              "</table>\n",
              "<p>41560 rows × 4 columns</p>\n",
              "</div>"
            ],
            "text/plain": [
              "       idhash_client   latitude  longitude  client_bill_usd_sum\n",
              "0              39262  57.584268  39.825746                1.720\n",
              "1              39262  57.584267  39.825745                2.790\n",
              "2              39262  57.584282  39.825794                1.860\n",
              "3              48902  57.606331  39.888371                2.650\n",
              "4             199395  57.639099  39.839841                2.070\n",
              "...              ...        ...        ...                  ...\n",
              "41555     4294468826  57.578313  39.847696                3.760\n",
              "41556     4294468826  57.591675  39.866699                3.310\n",
              "41557     4294468826  57.624080  39.852321                8.100\n",
              "41558     4294468826  57.625189  39.850467                3.135\n",
              "41559     4294689425  57.569902  39.874486                2.280\n",
              "\n",
              "[41560 rows x 4 columns]"
            ]
          },
          "metadata": {
            "tags": []
          },
          "execution_count": 38
        }
      ]
    },
    {
      "cell_type": "markdown",
      "metadata": {
        "id": "p2TCxsjWUKJf"
      },
      "source": [
        "Слишком медленно для больших наборов данных, поэтому я его уменьшина до 1000 записей"
      ]
    },
    {
      "cell_type": "code",
      "metadata": {
        "id": "SB3xl-auE-Ol"
      },
      "source": [
        "view_data_IQR_new = view_data_IQR.groupby(['latitude','longitude'], as_index=False).nunique()\n",
        "view_data_IQR_new = view_data_IQR_new.head(1000)"
      ],
      "execution_count": 47,
      "outputs": []
    },
    {
      "cell_type": "code",
      "metadata": {
        "id": "JbuLtKqKBA1s"
      },
      "source": [
        "X = view_data_IQR_new.iloc[:,[0, 1]].values\n"
      ],
      "execution_count": 48,
      "outputs": []
    },
    {
      "cell_type": "markdown",
      "metadata": {
        "id": "mehNrcvIXd9B"
      },
      "source": [
        "#Иерархическая кластеризация"
      ]
    },
    {
      "cell_type": "markdown",
      "metadata": {
        "id": "ih8CC1o8BZM3"
      },
      "source": [
        "Строим Дендрограмму, определяем количество кластеров"
      ]
    },
    {
      "cell_type": "code",
      "metadata": {
        "colab": {
          "base_uri": "https://localhost:8080/",
          "height": 294
        },
        "id": "Bi29C8t3Giu8",
        "outputId": "ff481430-960c-41fd-bf0b-925f876f44d5"
      },
      "source": [
        "import scipy.cluster.hierarchy as sch\n",
        "%matplotlib inline\n",
        "dendrogram = sch.dendrogram(sch.linkage(X, method = 'ward')) #расстояние считаем методом ward\n",
        "plt.title('Dendrogram')\n",
        "plt.xlabel('Сoordinates')\n",
        "plt.ylabel('Euclidean distances')\n",
        "plt.show()"
      ],
      "execution_count": 49,
      "outputs": [
        {
          "output_type": "display_data",
          "data": {
            "image/png": "[encoded data removed]",
            "text/plain": [
              "<Figure size 432x288 with 1 Axes>"
            ]
          },
          "metadata": {
            "tags": [],
            "needs_background": "light"
          }
        }
      ]
    },
    {
      "cell_type": "markdown",
      "metadata": {
        "id": "higG7FyBUZcG"
      },
      "source": [
        "Видим, что данные можно разделить на 4 кластера"
      ]
    },
    {
      "cell_type": "markdown",
      "metadata": {
        "id": "OVVZCHIBWQIa"
      },
      "source": [
        "Теперь тренируем наш алгоритм (используем Евклидово расстояние)"
      ]
    },
    {
      "cell_type": "code",
      "metadata": {
        "id": "LZg9iwVdUtG0"
      },
      "source": [
        "from sklearn.cluster import AgglomerativeClustering\n",
        "model = AgglomerativeClustering(n_clusters=4, affinity='euclidean', linkage='ward')\n",
        "y_model = model.fit_predict(X)"
      ],
      "execution_count": 50,
      "outputs": []
    },
    {
      "cell_type": "markdown",
      "metadata": {
        "id": "F5U5hr3dVMuZ"
      },
      "source": [
        "Визуализируем"
      ]
    },
    {
      "cell_type": "code",
      "metadata": {
        "colab": {
          "base_uri": "https://localhost:8080/",
          "height": 281
        },
        "id": "v4aRqqaGVMU8",
        "outputId": "e6367228-ec92-44b5-db27-88f25e47ef1f"
      },
      "source": [
        "plt.scatter(X[y_model == 0, 0], X[y_model == 0, 1], s=50, color='red', label = 'Cluster 1')\n",
        "plt.scatter(X[y_model == 1, 0], X[y_model == 1, 1], s=50, color='blue', label = 'Cluster 2')\n",
        "plt.scatter(X[y_model == 2, 0], X[y_model == 2, 1], s=50, color='green', label = 'Cluster 3')\n",
        "plt.scatter(X[y_model == 3, 0], X[y_model == 3, 1], s=50, color='purple', label = 'Cluster 4')\n",
        "plt.title('Clusters of Сoordinates')\n",
        "plt.legend()\n",
        "plt.show()"
      ],
      "execution_count": 65,
      "outputs": [
        {
          "output_type": "display_data",
          "data": {
            "image/png": "[encoded data removed]",
            "text/plain": [
              "<Figure size 432x288 with 1 Axes>"
            ]
          },
          "metadata": {
            "tags": [],
            "needs_background": "light"
          }
        }
      ]
    },
    {
      "cell_type": "markdown",
      "metadata": {
        "id": "6h249XfXWpob"
      },
      "source": [
        "# Сравним с методом с пары"
      ]
    },
    {
      "cell_type": "code",
      "metadata": {
        "id": "Y243ztPPWpAf"
      },
      "source": [
        "ssd = []\n",
        "range_n_clusters = [2,3,4,5,6,7,8,9,10]\n",
        "for num_clusters in range_n_clusters:\n",
        "    kmeans = KMeans(n_clusters=num_clusters, init = 'k-means++', max_iter=100) #k-means++ сделала тк с ним , как я поняла, немного умнее выбираются центроиды кластеров\n",
        "    kmeans.fit(X)\n",
        "    \n",
        "    ssd.append(kmeans.inertia_)"
      ],
      "execution_count": 56,
      "outputs": []
    },
    {
      "cell_type": "code",
      "metadata": {
        "colab": {
          "base_uri": "https://localhost:8080/",
          "height": 388
        },
        "id": "jBWBohdHW3Cb",
        "outputId": "728f9661-939d-469d-c43f-df240339abb1"
      },
      "source": [
        "%matplotlib inline\n",
        "plt.figure(1 , figsize = (15 ,6))\n",
        "plt.plot(ssd , '*')\n",
        "plt.plot(ssd , '-' , alpha = 0.5)\n",
        "plt.xlabel('Number of Clusters') \n",
        "plt.ylabel('Score')\n",
        "plt.show()"
      ],
      "execution_count": 57,
      "outputs": [
        {
          "output_type": "display_data",
          "data": {
            "image/png": "[encoded data removed]",
            "text/plain": [
              "<Figure size 1080x432 with 1 Axes>"
            ]
          },
          "metadata": {
            "tags": [],
            "needs_background": "light"
          }
        }
      ]
    },
    {
      "cell_type": "markdown",
      "metadata": {
        "id": "Fs7wxYK7XFbk"
      },
      "source": [
        "Берем за основу также 4 кластера"
      ]
    },
    {
      "cell_type": "markdown",
      "metadata": {
        "id": "Yi-TihZMZnMX"
      },
      "source": [
        "Тренируем"
      ]
    },
    {
      "cell_type": "code",
      "metadata": {
        "id": "o5tRhQQ6ZQKG"
      },
      "source": [
        "kmeans = KMeans(n_clusters = 4,max_iter=300, n_init=10, algorithm = 'elkan')\n",
        "y_kmeans = kmeans.fit_predict(X) "
      ],
      "execution_count": 60,
      "outputs": []
    },
    {
      "cell_type": "markdown",
      "metadata": {
        "id": "0PqVoxczZqBh"
      },
      "source": [
        "Визуализируем"
      ]
    },
    {
      "cell_type": "code",
      "metadata": {
        "colab": {
          "base_uri": "https://localhost:8080/",
          "height": 281
        },
        "id": "ooHNd7M1ZriD",
        "outputId": "b5dbbdde-64ff-4318-a99d-169c0586c95c"
      },
      "source": [
        "plt.scatter(X[y_kmeans == 0, 0], X[y_kmeans == 0, 1], s=50, color='red', label = 'Cluster 1')\n",
        "plt.scatter(X[y_kmeans == 1, 0], X[y_kmeans == 1, 1], s=50, color='blue', label = 'Cluster 2')\n",
        "plt.scatter(X[y_kmeans == 2, 0], X[y_kmeans == 2, 1], s=50, color='green', label = 'Cluster 3')\n",
        "plt.scatter(X[y_kmeans == 3, 0], X[y_kmeans == 3, 1], s=50, color='purple', label = 'Cluster 4')\n",
        "plt.scatter(kmeans.cluster_centers_[:, 0], kmeans.cluster_centers_[:, 1],s=50, color='yellow', label = 'Centroids')\n",
        "plt.title('Clusters of Сoordinates')\n",
        "plt.legend()\n",
        "plt.show()"
      ],
      "execution_count": 63,
      "outputs": [
        {
          "output_type": "display_data",
          "data": {
            "image/png": "[encoded data removed]",
            "text/plain": [
              "<Figure size 432x288 with 1 Axes>"
            ]
          },
          "metadata": {
            "tags": [],
            "needs_background": "light"
          }
        }
      ]
    }
  ]
}